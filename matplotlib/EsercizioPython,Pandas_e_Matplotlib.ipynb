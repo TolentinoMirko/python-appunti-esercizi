{
  "nbformat": 4,
  "nbformat_minor": 0,
  "metadata": {
    "colab": {
      "name": "EsercizioPython,Pandas_e_Matplotlib.ipynb",
      "provenance": [],
      "collapsed_sections": []
    },
    "kernelspec": {
      "name": "python3",
      "display_name": "Python 3"
    },
    "language_info": {
      "name": "python"
    }
  },
  "cells": [
    {
      "cell_type": "markdown",
      "metadata": {
        "id": "E-h5ila8xGVB"
      },
      "source": [
        "1. visualizzare il numero totale di record presenti nel file"
      ]
    },
    {
      "cell_type": "code",
      "metadata": {
        "id": "1_kD7I7bw0cv"
      },
      "source": [
        "import pandas as pd\n",
        "import matplotlib.pyplot as plt"
      ],
      "execution_count": null,
      "outputs": []
    },
    {
      "cell_type": "code",
      "metadata": {
        "colab": {
          "base_uri": "https://localhost:8080/",
          "height": 424
        },
        "id": "TFj8gzqoxKaX",
        "outputId": "04c8e310-aec9-4971-c6aa-4c90a5469490"
      },
      "source": [
        "df = pd.read_csv('https://raw.githubusercontent.com/italia/covid19-opendata-vaccini/master/dati/consegne-vaccini-latest.csv')\n",
        "df"
      ],
      "execution_count": null,
      "outputs": [
        {
          "output_type": "execute_result",
          "data": {
            "text/html": [
              "<div>\n",
              "<style scoped>\n",
              "    .dataframe tbody tr th:only-of-type {\n",
              "        vertical-align: middle;\n",
              "    }\n",
              "\n",
              "    .dataframe tbody tr th {\n",
              "        vertical-align: top;\n",
              "    }\n",
              "\n",
              "    .dataframe thead th {\n",
              "        text-align: right;\n",
              "    }\n",
              "</style>\n",
              "<table border=\"1\" class=\"dataframe\">\n",
              "  <thead>\n",
              "    <tr style=\"text-align: right;\">\n",
              "      <th></th>\n",
              "      <th>area</th>\n",
              "      <th>fornitore</th>\n",
              "      <th>numero_dosi</th>\n",
              "      <th>data_consegna</th>\n",
              "      <th>codice_NUTS1</th>\n",
              "      <th>codice_NUTS2</th>\n",
              "      <th>codice_regione_ISTAT</th>\n",
              "      <th>nome_area</th>\n",
              "    </tr>\n",
              "  </thead>\n",
              "  <tbody>\n",
              "    <tr>\n",
              "      <th>0</th>\n",
              "      <td>ABR</td>\n",
              "      <td>Pfizer/BioNTech</td>\n",
              "      <td>135</td>\n",
              "      <td>2020-12-27</td>\n",
              "      <td>ITF</td>\n",
              "      <td>ITF1</td>\n",
              "      <td>13</td>\n",
              "      <td>Abruzzo</td>\n",
              "    </tr>\n",
              "    <tr>\n",
              "      <th>1</th>\n",
              "      <td>ABR</td>\n",
              "      <td>Pfizer/BioNTech</td>\n",
              "      <td>7800</td>\n",
              "      <td>2020-12-30</td>\n",
              "      <td>ITF</td>\n",
              "      <td>ITF1</td>\n",
              "      <td>13</td>\n",
              "      <td>Abruzzo</td>\n",
              "    </tr>\n",
              "    <tr>\n",
              "      <th>2</th>\n",
              "      <td>ABR</td>\n",
              "      <td>Pfizer/BioNTech</td>\n",
              "      <td>3900</td>\n",
              "      <td>2021-01-05</td>\n",
              "      <td>ITF</td>\n",
              "      <td>ITF1</td>\n",
              "      <td>13</td>\n",
              "      <td>Abruzzo</td>\n",
              "    </tr>\n",
              "    <tr>\n",
              "      <th>3</th>\n",
              "      <td>ABR</td>\n",
              "      <td>Pfizer/BioNTech</td>\n",
              "      <td>3900</td>\n",
              "      <td>2021-01-07</td>\n",
              "      <td>ITF</td>\n",
              "      <td>ITF1</td>\n",
              "      <td>13</td>\n",
              "      <td>Abruzzo</td>\n",
              "    </tr>\n",
              "    <tr>\n",
              "      <th>4</th>\n",
              "      <td>ABR</td>\n",
              "      <td>Pfizer/BioNTech</td>\n",
              "      <td>3900</td>\n",
              "      <td>2021-01-11</td>\n",
              "      <td>ITF</td>\n",
              "      <td>ITF1</td>\n",
              "      <td>13</td>\n",
              "      <td>Abruzzo</td>\n",
              "    </tr>\n",
              "    <tr>\n",
              "      <th>...</th>\n",
              "      <td>...</td>\n",
              "      <td>...</td>\n",
              "      <td>...</td>\n",
              "      <td>...</td>\n",
              "      <td>...</td>\n",
              "      <td>...</td>\n",
              "      <td>...</td>\n",
              "      <td>...</td>\n",
              "    </tr>\n",
              "    <tr>\n",
              "      <th>5278</th>\n",
              "      <td>VEN</td>\n",
              "      <td>Moderna</td>\n",
              "      <td>-1200</td>\n",
              "      <td>2021-10-11</td>\n",
              "      <td>ITH</td>\n",
              "      <td>ITH3</td>\n",
              "      <td>5</td>\n",
              "      <td>Veneto</td>\n",
              "    </tr>\n",
              "    <tr>\n",
              "      <th>5279</th>\n",
              "      <td>VEN</td>\n",
              "      <td>Moderna</td>\n",
              "      <td>1</td>\n",
              "      <td>2021-10-13</td>\n",
              "      <td>ITH</td>\n",
              "      <td>ITH3</td>\n",
              "      <td>5</td>\n",
              "      <td>Veneto</td>\n",
              "    </tr>\n",
              "    <tr>\n",
              "      <th>5280</th>\n",
              "      <td>VEN</td>\n",
              "      <td>Moderna</td>\n",
              "      <td>8</td>\n",
              "      <td>2021-10-14</td>\n",
              "      <td>ITH</td>\n",
              "      <td>ITH3</td>\n",
              "      <td>5</td>\n",
              "      <td>Veneto</td>\n",
              "    </tr>\n",
              "    <tr>\n",
              "      <th>5281</th>\n",
              "      <td>VEN</td>\n",
              "      <td>Pfizer/BioNTech</td>\n",
              "      <td>4</td>\n",
              "      <td>2021-10-15</td>\n",
              "      <td>ITH</td>\n",
              "      <td>ITH3</td>\n",
              "      <td>5</td>\n",
              "      <td>Veneto</td>\n",
              "    </tr>\n",
              "    <tr>\n",
              "      <th>5282</th>\n",
              "      <td>VEN</td>\n",
              "      <td>Moderna</td>\n",
              "      <td>5</td>\n",
              "      <td>2021-11-11</td>\n",
              "      <td>ITH</td>\n",
              "      <td>ITH3</td>\n",
              "      <td>5</td>\n",
              "      <td>Veneto</td>\n",
              "    </tr>\n",
              "  </tbody>\n",
              "</table>\n",
              "<p>5283 rows × 8 columns</p>\n",
              "</div>"
            ],
            "text/plain": [
              "     area        fornitore  ...  codice_regione_ISTAT nome_area\n",
              "0     ABR  Pfizer/BioNTech  ...                    13   Abruzzo\n",
              "1     ABR  Pfizer/BioNTech  ...                    13   Abruzzo\n",
              "2     ABR  Pfizer/BioNTech  ...                    13   Abruzzo\n",
              "3     ABR  Pfizer/BioNTech  ...                    13   Abruzzo\n",
              "4     ABR  Pfizer/BioNTech  ...                    13   Abruzzo\n",
              "...   ...              ...  ...                   ...       ...\n",
              "5278  VEN          Moderna  ...                     5    Veneto\n",
              "5279  VEN          Moderna  ...                     5    Veneto\n",
              "5280  VEN          Moderna  ...                     5    Veneto\n",
              "5281  VEN  Pfizer/BioNTech  ...                     5    Veneto\n",
              "5282  VEN          Moderna  ...                     5    Veneto\n",
              "\n",
              "[5283 rows x 8 columns]"
            ]
          },
          "metadata": {},
          "execution_count": 3
        }
      ]
    },
    {
      "cell_type": "code",
      "metadata": {
        "colab": {
          "base_uri": "https://localhost:8080/"
        },
        "id": "lbAzcwRoyq_I",
        "outputId": "e472cea5-0c79-4efb-d240-74ea37dee0f3"
      },
      "source": [
        "df['numero_dosi'].sum()\n"
      ],
      "execution_count": null,
      "outputs": [
        {
          "output_type": "execute_result",
          "data": {
            "text/plain": [
              "99954043"
            ]
          },
          "metadata": {},
          "execution_count": 4
        }
      ]
    },
    {
      "cell_type": "markdown",
      "metadata": {
        "id": "tEnibDdCzF5A"
      },
      "source": [
        "2. visualizzare il numero di record presenti relativi ad una regione inserita dall'utente"
      ]
    },
    {
      "cell_type": "code",
      "metadata": {
        "id": "6SA9cPw4zIyf",
        "colab": {
          "base_uri": "https://localhost:8080/"
        },
        "outputId": "e1b8e272-c2d8-4987-b595-58b64a3be861"
      },
      "source": [
        "insert = input()\n",
        "df[df['nome_area']==insert].count()['area']"
      ],
      "execution_count": null,
      "outputs": [
        {
          "name": "stdout",
          "output_type": "stream",
          "text": [
            "Umbria\n"
          ]
        },
        {
          "output_type": "execute_result",
          "data": {
            "text/plain": [
              "147"
            ]
          },
          "metadata": {},
          "execution_count": 10
        }
      ]
    },
    {
      "cell_type": "markdown",
      "metadata": {
        "id": "-wXk7vqmzJt_"
      },
      "source": [
        "3. modificare l'esercizio precedente per rispondere con un messaggio appropriato se la regione non è presente"
      ]
    },
    {
      "cell_type": "code",
      "metadata": {
        "id": "KtCwNyNJzMG_",
        "colab": {
          "base_uri": "https://localhost:8080/"
        },
        "outputId": "8f549520-8956-4baf-eeaa-c6b3884e8970"
      },
      "source": [
        "if insert in df.values:\n",
        "  print(df[df['nome_area']==insert].count()['area'])\n",
        "else:\n",
        "  print('valore non identificato')"
      ],
      "execution_count": null,
      "outputs": [
        {
          "output_type": "stream",
          "name": "stdout",
          "text": [
            "147\n"
          ]
        }
      ]
    },
    {
      "cell_type": "markdown",
      "metadata": {
        "id": "pggZYs1czMcP"
      },
      "source": [
        "4. visualizzare il numero totale di vaccini consegnati in una regione inserita dall'utente\n"
      ]
    },
    {
      "cell_type": "code",
      "metadata": {
        "id": "PJ656oAPzQNf",
        "colab": {
          "base_uri": "https://localhost:8080/"
        },
        "outputId": "51cf42b8-8e2a-40b4-f551-d328e2fc50bd"
      },
      "source": [
        "df[df['nome_area']==insert]['numero_dosi'].sum()"
      ],
      "execution_count": null,
      "outputs": [
        {
          "output_type": "execute_result",
          "data": {
            "text/plain": [
              "1469397"
            ]
          },
          "metadata": {},
          "execution_count": 12
        }
      ]
    },
    {
      "cell_type": "markdown",
      "metadata": {
        "id": "0lOMozv_zQgv"
      },
      "source": [
        "5. visualizzare il numero di vaccini per ogni fornitore"
      ]
    },
    {
      "cell_type": "code",
      "metadata": {
        "id": "1nt4JKTgzSrf",
        "colab": {
          "base_uri": "https://localhost:8080/"
        },
        "outputId": "58b6fa3d-ac07-4f86-a7c1-8f2c6d0960c2"
      },
      "source": [
        "df.groupby('fornitore')['numero_dosi'].sum()"
      ],
      "execution_count": null,
      "outputs": [
        {
          "output_type": "execute_result",
          "data": {
            "text/plain": [
              "fornitore\n",
              "Janssen                     1846104\n",
              "Moderna                    15235940\n",
              "Pfizer/BioNTech            71327408\n",
              "Vaxzevria (AstraZeneca)    11544591\n",
              "Name: numero_dosi, dtype: int64"
            ]
          },
          "metadata": {},
          "execution_count": 13
        }
      ]
    },
    {
      "cell_type": "markdown",
      "metadata": {
        "id": "fkrr6sMrzWv3"
      },
      "source": [
        "6. visualizzare il numero di vaccini per ogni fornitore di una regione inserita dall'utente. Ordinare in ordine\n",
        "decrescente sul numero di vaccini"
      ]
    },
    {
      "cell_type": "code",
      "metadata": {
        "id": "6Uc6ZKhgzXPn",
        "colab": {
          "base_uri": "https://localhost:8080/",
          "height": 175
        },
        "outputId": "ae528a04-8ef8-4a75-c0b2-621d16e77b8f"
      },
      "source": [
        "df[df['nome_area']==insert].groupby('fornitore',as_index=False).sum().sort_values('numero_dosi',ascending=False)[['fornitore','numero_dosi']]"
      ],
      "execution_count": null,
      "outputs": [
        {
          "output_type": "execute_result",
          "data": {
            "text/html": [
              "<div>\n",
              "<style scoped>\n",
              "    .dataframe tbody tr th:only-of-type {\n",
              "        vertical-align: middle;\n",
              "    }\n",
              "\n",
              "    .dataframe tbody tr th {\n",
              "        vertical-align: top;\n",
              "    }\n",
              "\n",
              "    .dataframe thead th {\n",
              "        text-align: right;\n",
              "    }\n",
              "</style>\n",
              "<table border=\"1\" class=\"dataframe\">\n",
              "  <thead>\n",
              "    <tr style=\"text-align: right;\">\n",
              "      <th></th>\n",
              "      <th>fornitore</th>\n",
              "      <th>numero_dosi</th>\n",
              "    </tr>\n",
              "  </thead>\n",
              "  <tbody>\n",
              "    <tr>\n",
              "      <th>2</th>\n",
              "      <td>Pfizer/BioNTech</td>\n",
              "      <td>1025395</td>\n",
              "    </tr>\n",
              "    <tr>\n",
              "      <th>1</th>\n",
              "      <td>Moderna</td>\n",
              "      <td>230785</td>\n",
              "    </tr>\n",
              "    <tr>\n",
              "      <th>3</th>\n",
              "      <td>Vaxzevria (AstraZeneca)</td>\n",
              "      <td>180167</td>\n",
              "    </tr>\n",
              "    <tr>\n",
              "      <th>0</th>\n",
              "      <td>Janssen</td>\n",
              "      <td>33050</td>\n",
              "    </tr>\n",
              "  </tbody>\n",
              "</table>\n",
              "</div>"
            ],
            "text/plain": [
              "                 fornitore  numero_dosi\n",
              "2          Pfizer/BioNTech      1025395\n",
              "1                  Moderna       230785\n",
              "3  Vaxzevria (AstraZeneca)       180167\n",
              "0                  Janssen        33050"
            ]
          },
          "metadata": {},
          "execution_count": 14
        }
      ]
    },
    {
      "cell_type": "markdown",
      "metadata": {
        "id": "-rNSYT5AzX43"
      },
      "source": [
        "7. visualizzare le informazioni dell'esercizio 6 con un grafico a barre"
      ]
    },
    {
      "cell_type": "code",
      "metadata": {
        "id": "OuYLH9xazZxP",
        "colab": {
          "base_uri": "https://localhost:8080/",
          "height": 373
        },
        "outputId": "0990ddbb-6d88-40d9-d7cf-fe097d2b8800"
      },
      "source": [
        "date = df[df['nome_area']==insert].groupby('fornitore',as_index=False).sum().sort_values('numero_dosi',ascending=False)[['fornitore','numero_dosi']]\n",
        "fig = plt.figure()\n",
        "ax = plt.axes()\n",
        "\n",
        "fig.autofmt_xdate(rotation=60)\n",
        "ax.bar(date['fornitore'],date['numero_dosi'])"
      ],
      "execution_count": null,
      "outputs": [
        {
          "output_type": "execute_result",
          "data": {
            "text/plain": [
              "<BarContainer object of 4 artists>"
            ]
          },
          "metadata": {},
          "execution_count": 21
        },
        {
          "output_type": "display_data",
          "data": {
            "image/png": "[encoded data removed]",
            "text/plain": [
              "<Figure size 432x288 with 1 Axes>"
            ]
          },
          "metadata": {
            "needs_background": "light"
          }
        }
      ]
    },
    {
      "cell_type": "markdown",
      "metadata": {
        "id": "D8z2muLlzaHv"
      },
      "source": [
        "8. visualizzare le informazioni dell'esercizio 6 con un grafico a torta"
      ]
    },
    {
      "cell_type": "code",
      "metadata": {
        "id": "eGXQCHQJzeH_",
        "colab": {
          "base_uri": "https://localhost:8080/",
          "height": 248
        },
        "outputId": "1672087c-ae1f-46cb-cb0b-bda6134cf4a8"
      },
      "source": [
        "fig = plt.figure()\n",
        "ax = plt.axes()\n",
        "\n",
        "ax.pie(date['numero_dosi'],labels=date['fornitore'])\n",
        "plt.show()"
      ],
      "execution_count": null,
      "outputs": [
        {
          "output_type": "display_data",
          "data": {
            "image/png": "[encoded data removed]",
            "text/plain": [
              "<Figure size 432x288 with 1 Axes>"
            ]
          },
          "metadata": {}
        }
      ]
    },
    {
      "cell_type": "markdown",
      "metadata": {
        "id": "j9mX1zg2zewn"
      },
      "source": [
        "9. visualizzare le informazioni dell'esercizio 6 con un grafico treemap"
      ]
    },
    {
      "cell_type": "code",
      "metadata": {
        "id": "hHMJ-57jzg63",
        "colab": {
          "base_uri": "https://localhost:8080/",
          "height": 304
        },
        "outputId": "77c59048-9db2-48f0-ea20-c48f5fafd41f"
      },
      "source": [
        "!pip install squarify\n",
        "import squarify as sqrfy\n",
        "\n",
        "fig = plt.figure()\n",
        "ax = plt.axes()\n",
        "\n",
        "sqrfy.plot(date['numero_dosi'],label=date['fornitore'],color=['royalblue','red','lime','hotpink'])"
      ],
      "execution_count": null,
      "outputs": [
        {
          "output_type": "stream",
          "name": "stdout",
          "text": [
            "Requirement already satisfied: squarify in /usr/local/lib/python3.7/dist-packages (0.4.3)\n"
          ]
        },
        {
          "output_type": "execute_result",
          "data": {
            "text/plain": [
              "<matplotlib.axes._subplots.AxesSubplot at 0x7fbd07f41b50>"
            ]
          },
          "metadata": {},
          "execution_count": 19
        },
        {
          "output_type": "display_data",
          "data": {
            "image/png": "[encoded data removed]",
            "text/plain": [
              "<Figure size 432x288 with 1 Axes>"
            ]
          },
          "metadata": {
            "needs_background": "light"
          }
        }
      ]
    },
    {
      "cell_type": "markdown",
      "metadata": {
        "id": "nTHkhbwRzhVG"
      },
      "source": [
        "10. visualizzare i nomi delle tre regioni in cui sono stati consegnati più vaccini"
      ]
    },
    {
      "cell_type": "code",
      "metadata": {
        "id": "PGs_fTupzjef",
        "colab": {
          "base_uri": "https://localhost:8080/"
        },
        "outputId": "8fb9deea-33e1-4dd0-fff4-687dced8f817"
      },
      "source": [
        "df.groupby('nome_area')['numero_dosi'].sum()[df.groupby('nome_area')['numero_dosi'].sum() < df.groupby('nome_area')['numero_dosi'].sum().mean()]"
      ],
      "execution_count": null,
      "outputs": [
        {
          "output_type": "execute_result",
          "data": {
            "text/plain": [
              "nome_area\n",
              "Abruzzo                               2267252\n",
              "Basilicata                             936665\n",
              "Calabria                              2902284\n",
              "Friuli-Venezia Giulia                 2031903\n",
              "Liguria                               2547002\n",
              "Marche                                2507456\n",
              "Molise                                 506050\n",
              "Provincia Autonoma Bolzano / Bozen     793879\n",
              "Provincia Autonoma Trento              878910\n",
              "Sardegna                              2751776\n",
              "Umbria                                1469397\n",
              "Valle d'Aosta / Vallée d'Aoste         191150\n",
              "Name: numero_dosi, dtype: int64"
            ]
          },
          "metadata": {},
          "execution_count": 28
        }
      ]
    },
    {
      "cell_type": "markdown",
      "metadata": {
        "id": "YisSVVX9zlNu"
      },
      "source": [
        "11. visualizzare i nomi delle regioni in cui sono stati consegnati un numero di vaccini inferiore alla media"
      ]
    },
    {
      "cell_type": "code",
      "metadata": {
        "id": "X3ut5swHzlrH"
      },
      "source": [
        ""
      ],
      "execution_count": null,
      "outputs": []
    },
    {
      "cell_type": "markdown",
      "metadata": {
        "id": "4yD4Mbz-zl_X"
      },
      "source": [
        "12. visualizzare il grafico delle consegne dei vaccini in Lombardia e nel Lazio. Visualizzare solo i dati delle\n",
        "consegne avvenute negli utlimi sei mesi. Fare in modo che la data sia determinata in modo automatico"
      ]
    },
    {
      "cell_type": "code",
      "metadata": {
        "id": "ITp3l3ORzo1v"
      },
      "source": [
        ""
      ],
      "execution_count": null,
      "outputs": []
    }
  ]
}
