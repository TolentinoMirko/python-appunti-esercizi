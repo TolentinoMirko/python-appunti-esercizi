{
  "nbformat": 4,
  "nbformat_minor": 0,
  "metadata": {
    "colab": {
      "name": "Esercizio 3.ipynb",
      "provenance": [],
      "collapsed_sections": [],
      "authorship_tag": "ABX9TyPZCgLW1/mg+J+LfH+wZd5Y",
      "include_colab_link": true
    },
    "kernelspec": {
      "name": "python3",
      "display_name": "Python 3"
    },
    "language_info": {
      "name": "python"
    }
  },
  "cells": [
    {
      "cell_type": "markdown",
      "metadata": {
        "id": "view-in-github",
        "colab_type": "text"
      },
      "source": [
        "<a href=\"https://colab.research.google.com/github/TolentinoMirko/python-appunti-esercizi/blob/main/Esercizio_3.ipynb\" target=\"_parent\"><img src=\"https://colab.research.google.com/assets/colab-badge.svg\" alt=\"Open In Colab\"/></a>"
      ]
    },
    {
      "cell_type": "markdown",
      "metadata": {
        "id": "b0Sbi7W0x8rh"
      },
      "source": [
        "1. Scrivere un programma che crei un dizionario contenente i nomi delle regioni e i nomi dei loro\n",
        "capoluoghi. Il nome della regione deve essere il campo chiave. Chiamare il dizionario\n",
        "capoluoghiRegione"
      ]
    },
    {
      "cell_type": "code",
      "metadata": {
        "colab": {
          "base_uri": "https://localhost:8080/"
        },
        "id": "5xmHvOX9x_sY",
        "outputId": "d226225c-bb0d-45b9-f788-063f9ce62a62"
      },
      "source": [
        "capoluoghiRegioni = { 'Abruzzo':'LAquila','Basilicata':'Potenza','Calabria':'Catanzaro','Campania':'Napoli','EmiliaRomagna':'Bologna','Friuli':'Trieste','Lazio':'Roma','Liguria':'Genova','Lombardia':'Milano','Marche':'Ancona','Molise':'Campobasso','Piemonte':'Torino','Puglia':'Bari','Sardegna':'Cagliari','Sicilia':'Palermo','Toscana':'Firenze','Trentino':'Trento','Umbria':'Perugia','ValledAosta':'Aosta','Veneto':'Venezia'}\n"
      ],
      "execution_count": null,
      "outputs": [
        {
          "output_type": "stream",
          "name": "stdout",
          "text": [
            "{'Abruzzo': 'LAquila', 'Basilicata': 'Potenza', 'Calabria': 'Catanzaro', 'Campania': 'Napoli', 'EmiliaRomagna': 'Bologna', 'Friuli': 'Trieste', 'Lazio': 'Roma', 'Liguria': 'Genova', 'Lombardia': 'Milano', 'Marche': 'Ancona', 'Molise': 'Campobasso', 'Piemonte': 'Torino', 'Puglia': 'Bari', 'Sardegna': 'Cagliari', 'Sicilia': 'Palermo', 'Toscana': 'Firenze', 'Trentino': 'Trento', 'Umbria': 'Perugia', 'ValledAosta': 'Aosta', 'Veneto': 'Venezia'}\n"
          ]
        }
      ]
    },
    {
      "cell_type": "markdown",
      "metadata": {
        "id": "Whw8EEktz3Li"
      },
      "source": [
        "2. Scrivere un programma che visualizzi tutti i nomi delle regioni presenti in capoluoghiRegione"
      ]
    },
    {
      "cell_type": "code",
      "metadata": {
        "colab": {
          "base_uri": "https://localhost:8080/"
        },
        "id": "jNzMRpPJz36A",
        "outputId": "2fa95e06-7ac1-41f7-9209-b1776487da43"
      },
      "source": [
        "{k for k in capoluoghiRegioni.keys()}\n"
      ],
      "execution_count": null,
      "outputs": [
        {
          "output_type": "execute_result",
          "data": {
            "text/plain": [
              "{'Abruzzo',\n",
              " 'Basilicata',\n",
              " 'Calabria',\n",
              " 'Campania',\n",
              " 'EmiliaRomagna',\n",
              " 'Friuli',\n",
              " 'Lazio',\n",
              " 'Liguria',\n",
              " 'Lombardia',\n",
              " 'Marche',\n",
              " 'Molise',\n",
              " 'Piemonte',\n",
              " 'Puglia',\n",
              " 'Sardegna',\n",
              " 'Sicilia',\n",
              " 'Toscana',\n",
              " 'Trentino',\n",
              " 'Umbria',\n",
              " 'ValledAosta',\n",
              " 'Veneto'}"
            ]
          },
          "metadata": {},
          "execution_count": 5
        }
      ]
    },
    {
      "cell_type": "markdown",
      "metadata": {
        "id": "tn3-_E470OCM"
      },
      "source": [
        "3. Scrivere un programma che visualizzi tutti i nomi dei capoluoghi di regione presenti in\n",
        "capoluoghiRegione"
      ]
    },
    {
      "cell_type": "code",
      "metadata": {
        "colab": {
          "base_uri": "https://localhost:8080/"
        },
        "id": "w2RQoUsY0O6A",
        "outputId": "28470eb8-f6d6-4b4c-f001-3f5f17225c55"
      },
      "source": [
        "{i for i in capoluoghiRegioni.values()}"
      ],
      "execution_count": null,
      "outputs": [
        {
          "output_type": "execute_result",
          "data": {
            "text/plain": [
              "{'Ancona',\n",
              " 'Aosta',\n",
              " 'Bari',\n",
              " 'Bologna',\n",
              " 'Cagliari',\n",
              " 'Campobasso',\n",
              " 'Catanzaro',\n",
              " 'Firenze',\n",
              " 'Genova',\n",
              " 'LAquila',\n",
              " 'Milano',\n",
              " 'Napoli',\n",
              " 'Palermo',\n",
              " 'Perugia',\n",
              " 'Potenza',\n",
              " 'Roma',\n",
              " 'Torino',\n",
              " 'Trento',\n",
              " 'Trieste',\n",
              " 'Venezia'}"
            ]
          },
          "metadata": {},
          "execution_count": 6
        }
      ]
    },
    {
      "cell_type": "markdown",
      "metadata": {
        "id": "tLk6q77N1sUx"
      },
      "source": [
        "4. Scrivere un programma che acquisisca dall’utente il nome di una regione e fornisca il nome del suo\n",
        "capoluogo."
      ]
    },
    {
      "cell_type": "code",
      "metadata": {
        "colab": {
          "base_uri": "https://localhost:8080/"
        },
        "id": "pa0oxyFG156J",
        "outputId": "81955e77-f487-4492-b725-e025c4656830"
      },
      "source": [
        "capoluoghiRegioni = { 'Abruzzo':'LAquila','Basilicata':'Potenza','Calabria':'Catanzaro','Campania':'Napoli','EmiliaRomagna':'Bologna','Friuli':'Trieste','Lazio':'Roma','Liguria':'Genova','Lombardia':'Milano','Marche':'Ancona','Molise':'Campobasso','Piemonte':'Torino','Puglia':'Bari','Sardegna':'Cagliari','Sicilia':'Palermo','Toscana':'Firenze','Trentino':'Trento','Umbria':'Perugia','ValledAosta':'Aosta','Veneto':'Venezia'}\n",
        "Inserisci=input()\n",
        "for regione,capoluoghi in capoluoghiRegioni.items():\n",
        "  if regione==Inserisci:\n",
        "    print(capoluoghi)"
      ],
      "execution_count": 1,
      "outputs": [
        {
          "output_type": "stream",
          "name": "stdout",
          "text": [
            "Lombardia\n",
            "Milano\n"
          ]
        }
      ]
    },
    {
      "cell_type": "markdown",
      "metadata": {
        "id": "3Fu4RNDD3pNp"
      },
      "source": [
        "5. Scrivere un programma che acquisisca dall’utente il nome di un capoluogo e fornisca il nome della\n",
        "regione a cui appartiene."
      ]
    },
    {
      "cell_type": "code",
      "metadata": {
        "id": "CVOqOwGQ3qJ5",
        "colab": {
          "base_uri": "https://localhost:8080/"
        },
        "outputId": "c20b73e6-928c-45d0-a222-b8f9e84bd801"
      },
      "source": [
        "capoluoghiRegioni = { 'Abruzzo':'LAquila','Basilicata':'Potenza','Calabria':'Catanzaro','Campania':'Napoli','EmiliaRomagna':'Bologna','Friuli':'Trieste','Lazio':'Roma','Liguria':'Genova','Lombardia':'Milano','Marche':'Ancona','Molise':'Campobasso','Piemonte':'Torino','Puglia':'Bari','Sardegna':'Cagliari','Sicilia':'Palermo','Toscana':'Firenze','Trentino':'Trento','Umbria':'Perugia','ValledAosta':'Aosta','Veneto':'Venezia'}\n",
        "Inserisci=input()\n",
        "for regione,capoluoghi in capoluoghiRegioni.items():\n",
        "  if capoluoghi==Inserisci:\n",
        "    print(regione)"
      ],
      "execution_count": null,
      "outputs": [
        {
          "output_type": "stream",
          "name": "stdout",
          "text": [
            "Milano\n",
            "Lombardia\n"
          ]
        }
      ]
    },
    {
      "cell_type": "markdown",
      "metadata": {
        "id": "xTiXDAGV3tSJ"
      },
      "source": [
        "6. Scrivere un programma che visualizzi tutte le regioni con i rispettivi capoluoghi"
      ]
    },
    {
      "cell_type": "code",
      "metadata": {
        "colab": {
          "base_uri": "https://localhost:8080/"
        },
        "id": "yDsE15VF3xOB",
        "outputId": "1983e8d6-c5e5-4d31-bbec-2e1d98df45bf"
      },
      "source": [
        "capoluoghiRegioni = { 'Abruzzo':'LAquila','Basilicata':'Potenza','Calabria':'Catanzaro','Campania':'Napoli','EmiliaRomagna':'Bologna','Friuli':'Trieste','Lazio':'Roma','Liguria':'Genova','Lombardia':'Milano','Marche':'Ancona','Molise':'Campobasso','Piemonte':'Torino','Puglia':'Bari','Sardegna':'Cagliari','Sicilia':'Palermo','Toscana':'Firenze','Trentino':'Trento','Umbria':'Perugia','ValledAosta':'Aosta','Veneto':'Venezia'}\n",
        "print(capoluoghiRegioni)"
      ],
      "execution_count": null,
      "outputs": [
        {
          "output_type": "stream",
          "name": "stdout",
          "text": [
            "{'Abruzzo': 'LAquila', 'Basilicata': 'Potenza', 'Calabria': 'Catanzaro', 'Campania': 'Napoli', 'EmiliaRomagna': 'Bologna', 'Friuli': 'Trieste', 'Lazio': 'Roma', 'Liguria': 'Genova', 'Lombardia': 'Milano', 'Marche': 'Ancona', 'Molise': 'Campobasso', 'Piemonte': 'Torino', 'Puglia': 'Bari', 'Sardegna': 'Cagliari', 'Sicilia': 'Palermo', 'Toscana': 'Firenze', 'Trentino': 'Trento', 'Umbria': 'Perugia', 'ValledAosta': 'Aosta', 'Veneto': 'Venezia'}\n"
          ]
        }
      ]
    },
    {
      "cell_type": "markdown",
      "metadata": {
        "id": "ePEz6S_K4-U0"
      },
      "source": [
        "7. Scrivere un programma che visualizzi tutte le regioni con i rispettivi capoluoghi. Ordinare le regioni\n",
        "in ordine alfabetico"
      ]
    },
    {
      "cell_type": "code",
      "metadata": {
        "colab": {
          "base_uri": "https://localhost:8080/"
        },
        "id": "FPLCfrMQ4_Ea",
        "outputId": "a3fb1db4-0cb8-4743-ae2f-9d514c44db41"
      },
      "source": [
        "capoluoghiRegione = {'Abruzzo':' L Aquila','Basilicata':'Potenza','Calabria':'Catanzaro','Campania':'Napoli','Emilia-Romagna':'Bologna','Friuli-Venezia Giulia':'Trieste','Lazio':'Roma','Liguria':'Genova','Lombardia':'Milano','Marche':'Ancona','Molise':'Campobasso','Piemonte':'    Torino','Puglia':'    Bari','Sardegna':'Cagliari','Sicilia':'    Palermo','Toscana':'Firenze','Trentino-Alto Adige':'Trento','Umbria':'Perugia','Valle d Aosta':'Aosta','Veneto':'Venezia',}\n",
        "print(capoluoghiRegione)\n",
        "regioni = { k for k in capoluoghiRegione.keys() } \n",
        "print(sorted(regioni))"
      ],
      "execution_count": null,
      "outputs": [
        {
          "output_type": "stream",
          "name": "stdout",
          "text": [
            "{'Abruzzo': ' L Aquila', 'Basilicata': 'Potenza', 'Calabria': 'Catanzaro', 'Campania': 'Napoli', 'Emilia-Romagna': 'Bologna', 'Friuli-Venezia Giulia': 'Trieste', 'Lazio': 'Roma', 'Liguria': 'Genova', 'Lombardia': 'Milano', 'Marche': 'Ancona', 'Molise': 'Campobasso', 'Piemonte': '    Torino', 'Puglia': '    Bari', 'Sardegna': 'Cagliari', 'Sicilia': '    Palermo', 'Toscana': 'Firenze', 'Trentino-Alto Adige': 'Trento', 'Umbria': 'Perugia', 'Valle d Aosta': 'Aosta', 'Veneto': 'Venezia'}\n",
            "['Abruzzo', 'Basilicata', 'Calabria', 'Campania', 'Emilia-Romagna', 'Friuli-Venezia Giulia', 'Lazio', 'Liguria', 'Lombardia', 'Marche', 'Molise', 'Piemonte', 'Puglia', 'Sardegna', 'Sicilia', 'Toscana', 'Trentino-Alto Adige', 'Umbria', 'Valle d Aosta', 'Veneto']\n"
          ]
        }
      ]
    },
    {
      "cell_type": "markdown",
      "metadata": {
        "id": "BDq6lE8778Li"
      },
      "source": [
        "8. Scrivere un programma che visualizzi tutte le regioni con i rispettivi capoluoghi. Ordinare i\n",
        "capoluoghi in ordine alfabetico"
      ]
    },
    {
      "cell_type": "code",
      "metadata": {
        "id": "MpR_Zld279Aa",
        "colab": {
          "base_uri": "https://localhost:8080/"
        },
        "outputId": "97059b70-bbaa-407d-a675-cdcaf07abd47"
      },
      "source": [
        "capoluoghiRegione = {'Abruzzo':' L Aquila','Basilicata':'Potenza','Calabria':'Catanzaro','Campania':'Napoli','Emilia-Romagna':'Bologna','Friuli-Venezia Giulia':'Trieste','Lazio':'Roma','Liguria':'Genova','Lombardia':'Milano','Marche':'Ancona','Molise':'Campobasso','Piemonte':'    Torino','Puglia':'    Bari','Sardegna':'Cagliari','Sicilia':'    Palermo','Toscana':'Firenze','Trentino-Alto Adige':'Trento','Umbria':'Perugia','Valle d Aosta':'Aosta','Veneto':'Venezia',}\n",
        "print(capoluoghiRegione)\n",
        "capoluoghi = {i for i in capoluoghiRegioni.values()}\n",
        "print(sorted(capoluoghi))\n"
      ],
      "execution_count": null,
      "outputs": [
        {
          "output_type": "stream",
          "name": "stdout",
          "text": [
            "{'Abruzzo': ' L Aquila', 'Basilicata': 'Potenza', 'Calabria': 'Catanzaro', 'Campania': 'Napoli', 'Emilia-Romagna': 'Bologna', 'Friuli-Venezia Giulia': 'Trieste', 'Lazio': 'Roma', 'Liguria': 'Genova', 'Lombardia': 'Milano', 'Marche': 'Ancona', 'Molise': 'Campobasso', 'Piemonte': '    Torino', 'Puglia': '    Bari', 'Sardegna': 'Cagliari', 'Sicilia': '    Palermo', 'Toscana': 'Firenze', 'Trentino-Alto Adige': 'Trento', 'Umbria': 'Perugia', 'Valle d Aosta': 'Aosta', 'Veneto': 'Venezia'}\n",
            "['Ancona', 'Aosta', 'Bari', 'Bologna', 'Cagliari', 'Campobasso', 'Catanzaro', 'Firenze', 'Genova', 'LAquila', 'Milano', 'Napoli', 'Palermo', 'Perugia', 'Potenza', 'Roma', 'Torino', 'Trento', 'Trieste', 'Venezia']\n"
          ]
        }
      ]
    },
    {
      "cell_type": "markdown",
      "metadata": {
        "id": "yqQYM2RG7_MS"
      },
      "source": [
        "9. Scrivere un programma che carichi in una lista i nomi delle regioni e in un’altra lista i nomi dei\n",
        "rispettivi capoluoghi. Scrivere poi l’istruzione che permette di costruire il dizionario a partire dalle\n",
        "due liste."
      ]
    },
    {
      "cell_type": "code",
      "metadata": {
        "colab": {
          "base_uri": "https://localhost:8080/"
        },
        "id": "u7yaGTmi8I4C",
        "outputId": "8c7361df-3daa-472f-9326-3ccb0f6cde1b"
      },
      "source": [
        "regioni = ['Abruzzo','Basilicata','Calabria','Campania','EmiliaRomagna','Friuli','Lazio','Liguria','Lombardia','Marche','Molise','Piemonte','Puglia','Sardegna','Sicilia','Toscana','Trentino','Umbria','ValledAosta','Veneto']\n",
        "capoluoghi = ['LAquila','Potenza','Catanzaro','Napoli','Bologna','Trieste','Roma','Genova','Milano','Ancona','Campobasso','Torino','Bari','Cagliari','Palermo','Firenze','Trento','Perugia','Aosta','Venezia']\n",
        "[(regioni,capoluoghi) for regioni,capoluoghi in zip(regioni,capoluoghi)]\n"
      ],
      "execution_count": null,
      "outputs": [
        {
          "output_type": "execute_result",
          "data": {
            "text/plain": [
              "[('Abruzzo', 'LAquila'),\n",
              " ('Basilicata', 'Potenza'),\n",
              " ('Calabria', 'Catanzaro'),\n",
              " ('Campania', 'Napoli'),\n",
              " ('EmiliaRomagna', 'Bologna'),\n",
              " ('Friuli', 'Trieste'),\n",
              " ('Lazio', 'Roma'),\n",
              " ('Liguria', 'Genova'),\n",
              " ('Lombardia', 'Milano'),\n",
              " ('Marche', 'Ancona'),\n",
              " ('Molise', 'Campobasso'),\n",
              " ('Piemonte', 'Torino'),\n",
              " ('Puglia', 'Bari'),\n",
              " ('Sardegna', 'Cagliari'),\n",
              " ('Sicilia', 'Palermo'),\n",
              " ('Toscana', 'Firenze'),\n",
              " ('Trentino', 'Trento'),\n",
              " ('Umbria', 'Perugia'),\n",
              " ('ValledAosta', 'Aosta'),\n",
              " ('Veneto', 'Venezia')]"
            ]
          },
          "metadata": {},
          "execution_count": 26
        }
      ]
    }
  ]
}