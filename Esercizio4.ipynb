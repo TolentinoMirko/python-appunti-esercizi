{
  "nbformat": 4,
  "nbformat_minor": 0,
  "metadata": {
    "colab": {
      "name": "Esercizio4.ipynb",
      "provenance": [],
      "collapsed_sections": []
    },
    "kernelspec": {
      "name": "python3",
      "display_name": "Python 3"
    },
    "language_info": {
      "name": "python"
    }
  },
  "cells": [
    {
      "cell_type": "markdown",
      "metadata": {
        "id": "DAGn82M4rylO"
      },
      "source": [
        "1. scrivere una funzione chiamata media che dati due numeri restituisca la media. Utilizzare poi la funzione in un programma che acquisisca dall'utente due numeri e calcoli la media"
      ]
    },
    {
      "cell_type": "code",
      "metadata": {
        "colab": {
          "base_uri": "https://localhost:8080/"
        },
        "id": "rbO-kV4_r319",
        "outputId": "2d441b49-85fd-4b07-845e-1eb949c50020"
      },
      "source": [
        "\n",
        "def media(a1,a2):\n",
        "   aMedia = (a1+a2)/2\n",
        "   return aMedia\n",
        "\n",
        "media(int(input()),int(input()))\n"
      ],
      "execution_count": null,
      "outputs": [
        {
          "name": "stdout",
          "output_type": "stream",
          "text": [
            "23\n",
            "19\n"
          ]
        },
        {
          "output_type": "execute_result",
          "data": {
            "text/plain": [
              "21.0"
            ]
          },
          "metadata": {},
          "execution_count": 54
        }
      ]
    },
    {
      "cell_type": "markdown",
      "metadata": {
        "id": "lePd7uCWtmKg"
      },
      "source": [
        "2. scrivere una funzione chiamata piuCorta che date due liste restituisca la lista con meno elementi. Utilizzare poi la funzione in un programma che acquisisca dall'utente due liste e visualizzi gli elementi della lista più corta.\n"
      ]
    },
    {
      "cell_type": "code",
      "metadata": {
        "colab": {
          "base_uri": "https://localhost:8080/"
        },
        "id": "pMRCQw07tohJ",
        "outputId": "d0b7aefb-e9fe-4983-c46e-690c88d90ebc"
      },
      "source": [
        "def piuCorta(lista1,lista2):\n",
        "  piuCorta = min (lista1,lista2) #attraverso la funzione min mostriamo la lista piu corta\n",
        "  return piuCorta\n",
        "\n",
        "listaVuota = []\n",
        "n = int(input('inserire il numero di elementi = '))\n",
        "\n",
        "for i in range(0,n):\n",
        " mele = str(input())\n",
        "listaVuota.append(mele)\n",
        "print(listaVuota)\n",
        "\n",
        "lista2 = []\n",
        "n2 = int(input('inserire il numero di elementi = '))\n",
        "for i in range (0,n2):\n",
        " mele = str(input())\n",
        "lista2.append(mele)\n",
        "print(lista2)"
      ],
      "execution_count": null,
      "outputs": [
        {
          "output_type": "stream",
          "name": "stdout",
          "text": [
            "inserire il numero di elementi = 3\n",
            "1\n",
            "6\n",
            "8\n",
            "['8']\n",
            "inserire il numero di elementi = 4\n",
            "6\n",
            "9\n",
            "3\n",
            "1\n",
            "['1']\n"
          ]
        }
      ]
    },
    {
      "cell_type": "markdown",
      "metadata": {
        "id": "hL-4IeY6ty7e"
      },
      "source": [
        "3. scrivere una funzione chiamata costruisciLista che dati due numeri interi restituisca la lista formata da tutti i numeri interi compresi tra i due numeri dati. Utilizzare poi la funzione in un programma che acquisisca dall'utente due numeri e visualizzi la lista formata da tutti i numeri interi compresi tra i due numeri dati ma a partire dal più grande fino al più piccolo.\n"
      ]
    },
    {
      "cell_type": "code",
      "metadata": {
        "colab": {
          "base_uri": "https://localhost:8080/"
        },
        "id": "FUl-gikdxaUc",
        "outputId": "cb2d99e5-2ce5-4d70-adcc-a9cf37b0d541"
      },
      "source": [
        "def costruisciLista(x,y):\n",
        "  k = min(x,y)\n",
        "  l = max(x,y)\n",
        "  lst = [i for i in range(k,l)]\n",
        "  return sorted(lst,reverse=True)\n",
        "print(costruisciLista(int(input()),int(input())))"
      ],
      "execution_count": null,
      "outputs": [
        {
          "output_type": "stream",
          "name": "stdout",
          "text": [
            "20\n",
            "2\n",
            "[19, 18, 17, 16, 15, 14, 13, 12, 11, 10, 9, 8, 7, 6, 5, 4, 3, 2]\n"
          ]
        }
      ]
    },
    {
      "cell_type": "markdown",
      "metadata": {
        "id": "eT_K3WHrxrMM"
      },
      "source": [
        "4. scrivere una funzione chiamata valoreAssoluto che dato un numero restituisca il suo valore assoluto. Utilizzare poi questa funzione per determinare il valore assoluto degli elementi di una lista inserita dall'utente."
      ]
    },
    {
      "cell_type": "code",
      "metadata": {
        "id": "a18uWIC0ySL3",
        "colab": {
          "base_uri": "https://localhost:8080/"
        },
        "outputId": "3434ee95-ac66-4fe7-c92d-f48030503226"
      },
      "source": [
        "def valoreAssoluto(n):\n",
        "  z = [abs(int(input('Inserisci il numero :')))for i in range (0,n)]\n",
        "  return z\n",
        "   \n",
        "valoreAssoluto(int(input('Inserisci la lunghezza della lista :'))) "
      ],
      "execution_count": 10,
      "outputs": [
        {
          "name": "stdout",
          "output_type": "stream",
          "text": [
            "Inserisci la lunghezza della lista :4\n",
            "Inserisci il numero :1\n",
            "Inserisci il numero :-3\n",
            "Inserisci il numero :-8\n",
            "Inserisci il numero :10\n"
          ]
        },
        {
          "output_type": "execute_result",
          "data": {
            "text/plain": [
              "[1, 3, 8, 10]"
            ]
          },
          "metadata": {},
          "execution_count": 10
        }
      ]
    },
    {
      "cell_type": "markdown",
      "metadata": {
        "id": "F-IJibmbySjO"
      },
      "source": [
        "5. scrivere una funzione chiamata scambia che data una lista scambi il primo elemento con l'ultimo, il secondo con il penultimo e così via. Utilizzare poi la funzione in un programma che acquisisca dall'utente una lista di 10 elementi e li visualizzi scambiati.\n"
      ]
    },
    {
      "cell_type": "code",
      "metadata": {
        "id": "OTF4xSFMyUhn",
        "colab": {
          "base_uri": "https://localhost:8080/"
        },
        "outputId": "a78dcc96-3796-4f7f-8dda-e0791a150b09"
      },
      "source": [
        "def scambia():\n",
        " v = [(int(input('Inserisci il numero'))) for i in range(0,4)]\n",
        " v.reverse()\n",
        "return v\n",
        "\n",
        "scambia()"
      ],
      "execution_count": 2,
      "outputs": [
        {
          "output_type": "stream",
          "name": "stdout",
          "text": [
            "[4, 3, 2, 1]\n",
            "[1, 2, 3, 4]\n",
            "[4, 3, 2, 1]\n",
            "[1, 2, 3, 4]\n"
          ]
        }
      ]
    },
    {
      "cell_type": "markdown",
      "metadata": {
        "id": "fIy2xwt-yU4-"
      },
      "source": [
        "6. scrivere una funzione lambda che dati due numeri calcoli la loro somma. Utilizzare la funzione in un programma che chieda all'utente due numeri interi e visualizzi la loro somma.\n"
      ]
    },
    {
      "cell_type": "code",
      "metadata": {
        "colab": {
          "base_uri": "https://localhost:8080/"
        },
        "id": "UqUweXe_yXom",
        "outputId": "15548cf3-f562-4299-9de9-9d217b659d22"
      },
      "source": [
        "v=lambda x,y:x+y\n",
        "\n",
        "v(int(input(\"x = \")),int(input(\"y = \")))"
      ],
      "execution_count": 7,
      "outputs": [
        {
          "name": "stdout",
          "output_type": "stream",
          "text": [
            "x = 15\n",
            "y = 5\n"
          ]
        },
        {
          "output_type": "execute_result",
          "data": {
            "text/plain": [
              "20"
            ]
          },
          "metadata": {},
          "execution_count": 7
        }
      ]
    },
    {
      "cell_type": "markdown",
      "metadata": {
        "id": "xPj40Epz7-6x"
      },
      "source": [
        "\n",
        "7. scrivere un programma che utilizzi una lambda function per aumentare di 10 unità tutti gli elementi di una lista di interi inserita dall'utente."
      ]
    },
    {
      "cell_type": "code",
      "metadata": {
        "id": "xssvmxHT8ClZ",
        "colab": {
          "base_uri": "https://localhost:8080/"
        },
        "outputId": "f795636c-58f0-448c-871c-1a6251cb0d32"
      },
      "source": [
        "lista = [int(input('Inserisci il numero : '))for i in range(0,4)]\n",
        "list(map(lambda x: x + 10 , lista))"
      ],
      "execution_count": 17,
      "outputs": [
        {
          "name": "stdout",
          "output_type": "stream",
          "text": [
            "Inserisci il numero : 9\n",
            "Inserisci il numero : 7\n",
            "Inserisci il numero : 4\n",
            "Inserisci il numero : 2\n"
          ]
        },
        {
          "output_type": "execute_result",
          "data": {
            "text/plain": [
              "[19, 17, 14, 12]"
            ]
          },
          "metadata": {},
          "execution_count": 17
        }
      ]
    },
    {
      "cell_type": "markdown",
      "metadata": {
        "id": "cdwFGzoS8C9_"
      },
      "source": [
        "8. scrivere una funzione lambda che sostituisca il valore 0 se il parametro è negativo, il valore del parametro se è positivo. Utilizzare poi la funzione in un programma che chieda all'utente i 10 elementi di una lista e visualizzi la lista con il valore 0 al posto dei numeri negativi."
      ]
    },
    {
      "cell_type": "code",
      "metadata": {
        "id": "MZ2J0VRD8LNP"
      },
      "source": [
        "lista = input('Inserisci una lista di elementi separati da una virgola').split(',')\n",
        "\n",
        "while len(lista) != 10:\n",
        "  lista = input('Reinserisci una lista di elementi separati da una virgola').split(',')\n",
        "\n",
        "f = lambda li: [el if float(el) >= 0 else '0' for el in li]\n",
        "print(f(lista))"
      ],
      "execution_count": null,
      "outputs": []
    },
    {
      "cell_type": "markdown",
      "metadata": {
        "id": "4CsdDrfD8KMY"
      },
      "source": [
        "9. scrivere un programma che calcoli il fattoriale di un numero utilizzando una lambda function. Provare a realizzare una lambda function ricorsiva (per la ricorsione, google it...)"
      ]
    },
    {
      "cell_type": "code",
      "metadata": {
        "id": "EslA8d5K8L-f",
        "colab": {
          "base_uri": "https://localhost:8080/"
        },
        "outputId": "b9e58524-0095-491d-d9d7-caf14f39e960"
      },
      "source": [
        "n = int(input('Inserisci il numeor : '))\n",
        "fattoriale = lambda n: 1 if n == 0 else n * fattoriale(n-1)\n",
        "fattoriale(n)"
      ],
      "execution_count": 35,
      "outputs": [
        {
          "name": "stdout",
          "output_type": "stream",
          "text": [
            "Inserisci il numeor : 5\n"
          ]
        },
        {
          "output_type": "execute_result",
          "data": {
            "text/plain": [
              "120"
            ]
          },
          "metadata": {},
          "execution_count": 35
        }
      ]
    }
  ]
}