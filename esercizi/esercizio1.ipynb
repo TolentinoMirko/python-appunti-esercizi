{
  "nbformat": 4,
  "nbformat_minor": 0,
  "metadata": {
    "colab": {
      "name": "esercizio1.ipynb",
      "provenance": [],
      "authorship_tag": "ABX9TyMjtraIEmU4tCaacFQ85w5p",
      "include_colab_link": true
    },
    "kernelspec": {
      "name": "python3",
      "display_name": "Python 3"
    },
    "language_info": {
      "name": "python"
    }
  },
  "cells": [
    {
      "cell_type": "markdown",
      "metadata": {
        "id": "view-in-github",
        "colab_type": "text"
      },
      "source": [
        "<a href=\"https://colab.research.google.com/github/TolentinoMirko/python-appunti-esercizi/blob/main/esercizio1.ipynb\" target=\"_parent\"><img src=\"https://colab.research.google.com/assets/colab-badge.svg\" alt=\"Open In Colab\"/></a>"
      ]
    },
    {
      "cell_type": "markdown",
      "metadata": {
        "id": "WpqMEa4Z66T7"
      },
      "source": [
        "a. far inserie all'utente due valori interi"
      ]
    },
    {
      "cell_type": "code",
      "metadata": {
        "colab": {
          "base_uri": "https://localhost:8080/"
        },
        "id": "guXHTh117Wv7",
        "outputId": "49e3b4ec-fc28-4621-8afc-0efe0d79874f"
      },
      "source": [
        "a = int(input(\"a=\"))\n",
        "b = int(input(\"b=\"))"
      ],
      "execution_count": 22,
      "outputs": [
        {
          "name": "stdout",
          "output_type": "stream",
          "text": [
            "a=12\n",
            "b=2\n"
          ]
        }
      ]
    },
    {
      "cell_type": "markdown",
      "metadata": {
        "id": "J9kGzA-k7bAW"
      },
      "source": [
        "b. effettuare le 4 operazioni aritmetiche tra i due numeri\n"
      ]
    },
    {
      "cell_type": "code",
      "metadata": {
        "colab": {
          "base_uri": "https://localhost:8080/"
        },
        "id": "TmF4Jsz97hPc",
        "outputId": "f0f4d0c2-613b-41a2-cc70-dad447ebef22"
      },
      "source": [
        "a = int(input(\"a=\"))\n",
        "b = int(input(\"b=\"))\n",
        "print(a+b)\n",
        "print(a-b)\n",
        "print(a*b)\n",
        "print(a/b)"
      ],
      "execution_count": 23,
      "outputs": [
        {
          "output_type": "stream",
          "name": "stdout",
          "text": [
            "14\n",
            "10\n",
            "24\n",
            "6\n"
          ]
        }
      ]
    },
    {
      "cell_type": "markdown",
      "metadata": {
        "id": "L94BHJFT7wa0"
      },
      "source": [
        "c. effettuare l'elevamento a potenza del primo numero per il secondo\n"
      ]
    },
    {
      "cell_type": "code",
      "metadata": {
        "colab": {
          "base_uri": "https://localhost:8080/"
        },
        "id": "TzolzxwK7xwF",
        "outputId": "2f5eaa63-a153-4465-96a8-bee135ad3b33"
      },
      "source": [
        "a = int(input(\"a=\"))\n",
        "b = int(input(\"b=\"))\n",
        "print(a**b)"
      ],
      "execution_count": 24,
      "outputs": [
        {
          "output_type": "stream",
          "name": "stdout",
          "text": [
            "144\n"
          ]
        }
      ]
    },
    {
      "cell_type": "markdown",
      "metadata": {
        "id": "1DfBMQoj707e"
      },
      "source": [
        "d. effettuare il calcolo del resto della divisione tra il primo e il secondo numero"
      ]
    },
    {
      "cell_type": "code",
      "metadata": {
        "colab": {
          "base_uri": "https://localhost:8080/"
        },
        "id": "oo-RQb0s8Ci7",
        "outputId": "cd548f64-14f0-4a20-98c2-b28b0c4c9093"
      },
      "source": [
        "a = int(input(\"a=\"))\n",
        "b = int(input(\"b=\"))\n",
        "print(a%b)\n"
      ],
      "execution_count": 25,
      "outputs": [
        {
          "output_type": "stream",
          "name": "stdout",
          "text": [
            "0\n"
          ]
        }
      ]
    },
    {
      "cell_type": "markdown",
      "metadata": {
        "id": "4rsA-RwS8GDx"
      },
      "source": [
        "f. effettuare la divisione intera tra il primo e il secondo numero\n"
      ]
    },
    {
      "cell_type": "code",
      "metadata": {
        "colab": {
          "base_uri": "https://localhost:8080/"
        },
        "id": "asr2HfTk8KhI",
        "outputId": "024fb583-d382-4c3c-9568-5f2c859e4dc7"
      },
      "source": [
        "a = int(input(\"a=\"))\n",
        "b = int(input(\"b=\"))\n",
        "print(a//b)"
      ],
      "execution_count": 26,
      "outputs": [
        {
          "output_type": "stream",
          "name": "stdout",
          "text": [
            "6\n"
          ]
        }
      ]
    },
    {
      "cell_type": "markdown",
      "metadata": {
        "id": "OsvfK50c8SaI"
      },
      "source": [
        "g. incrementare di una unità entrambi i numeri"
      ]
    },
    {
      "cell_type": "code",
      "metadata": {
        "colab": {
          "base_uri": "https://localhost:8080/"
        },
        "id": "jCukkGI_8UBi",
        "outputId": "3a399336-a2d1-4859-b60e-31b9929237df"
      },
      "source": [
        "a = int(input(\"a=\"))\n",
        "b = int(input(\"b=\"))\n",
        "print(a+1)\n",
        "print(b+1)\n"
      ],
      "execution_count": 27,
      "outputs": [
        {
          "output_type": "stream",
          "name": "stdout",
          "text": [
            "13\n",
            "3\n"
          ]
        }
      ]
    },
    {
      "cell_type": "markdown",
      "metadata": {
        "id": "1NrpkMKE8ba7"
      },
      "source": [
        "h. far inserie all'utente due valori: il primo rappresenta la sua altezza (in metri) e il secondo rappresenta il suo peso (in kg). Visualizzare poi l'IMC (google it...)"
      ]
    },
    {
      "cell_type": "code",
      "metadata": {
        "colab": {
          "base_uri": "https://localhost:8080/"
        },
        "id": "CBkd79VMAyiE",
        "outputId": "03d99841-c8fe-4f42-ea12-fd05cdb74319"
      },
      "source": [
        "peso = int(input(\"kg =\"))\n",
        "altezza = float(input(\"m =\"))\n",
        "imc = (peso /(altezza ** 2))\n",
        "print(\"imc è\",imc)"
      ],
      "execution_count": 53,
      "outputs": [
        {
          "output_type": "stream",
          "name": "stdout",
          "text": [
            "kg =60\n",
            "m =1.70\n",
            "imc è 20.761245674740486\n"
          ]
        }
      ]
    },
    {
      "cell_type": "markdown",
      "metadata": {
        "id": "1MkHFSYoCE66"
      },
      "source": [
        "i. arrotondare l'IMC precedente"
      ]
    },
    {
      "cell_type": "code",
      "metadata": {
        "colab": {
          "base_uri": "https://localhost:8080/"
        },
        "id": "PjZtPCfPCMV0",
        "outputId": "f3b35258-9ab0-4910-aeaa-7db8b876ed5b"
      },
      "source": [
        "imc = (peso /(altezza ** 2))\n",
        "print(round(imc))"
      ],
      "execution_count": 73,
      "outputs": [
        {
          "output_type": "stream",
          "name": "stdout",
          "text": [
            "21\n"
          ]
        }
      ]
    },
    {
      "cell_type": "markdown",
      "metadata": {
        "id": "KAsM_-nUCZUI"
      },
      "source": [
        "j. visualizzare il proprio nome, cognome, data di nascita e città di nascita separando le informazioni con un trattino.\n"
      ]
    },
    {
      "cell_type": "code",
      "metadata": {
        "colab": {
          "base_uri": "https://localhost:8080/"
        },
        "id": "yh799cYfCzKD",
        "outputId": "918f3cf7-b1b5-45d0-a24a-0fb104f593be"
      },
      "source": [
        "infoMe = (\"Mirko\"\"-\"\"Tolentino\"\"-\"\"22/06/05\"\"-\"\"Milano\")\n",
        "print(infoMe)"
      ],
      "execution_count": 49,
      "outputs": [
        {
          "output_type": "stream",
          "name": "stdout",
          "text": [
            "Mirko-Tolentino-22/06/05-Milano\n"
          ]
        }
      ]
    },
    {
      "cell_type": "markdown",
      "metadata": {
        "id": "7ygLko10DaLS"
      },
      "source": [
        "k. visualizzare le stesse informazioni per 10 volte di seguito\n"
      ]
    },
    {
      "cell_type": "code",
      "metadata": {
        "colab": {
          "base_uri": "https://localhost:8080/"
        },
        "id": "A3x7W27XE2b0",
        "outputId": "d0fa87b6-df9b-4881-aa6c-a734302ff858"
      },
      "source": [
        "infoMe = (\"Mirko\"\"-\"\"Tolentino\"\"-\"\"22/06/05\"\"-\"\"Milano\")\n",
        "print(infoMe*10)"
      ],
      "execution_count": 55,
      "outputs": [
        {
          "output_type": "stream",
          "name": "stdout",
          "text": [
            "Mirko-Tolentino-22/06/05-MilanoMirko-Tolentino-22/06/05-MilanoMirko-Tolentino-22/06/05-MilanoMirko-Tolentino-22/06/05-MilanoMirko-Tolentino-22/06/05-MilanoMirko-Tolentino-22/06/05-MilanoMirko-Tolentino-22/06/05-MilanoMirko-Tolentino-22/06/05-MilanoMirko-Tolentino-22/06/05-MilanoMirko-Tolentino-22/06/05-Milano\n"
          ]
        }
      ]
    },
    {
      "cell_type": "markdown",
      "metadata": {
        "id": "gp0kNgwAE-nA"
      },
      "source": [
        "l. assegnare il proprio nome e cognome ad una stringa e visualizzarla con tutte le lettere maiuscole\n"
      ]
    },
    {
      "cell_type": "code",
      "metadata": {
        "colab": {
          "base_uri": "https://localhost:8080/"
        },
        "id": "0DdICNR9FBCc",
        "outputId": "0598709b-866a-4cd1-9cf0-811d38cc2221"
      },
      "source": [
        "NameSur= (\"Mirko Tolentino\")\n",
        "print(NameSur.upper())\n"
      ],
      "execution_count": 68,
      "outputs": [
        {
          "output_type": "stream",
          "name": "stdout",
          "text": [
            "MIRKO TOLENTINO\n"
          ]
        }
      ]
    },
    {
      "cell_type": "markdown",
      "metadata": {
        "id": "wO5ZokU5HgxW"
      },
      "source": [
        "m. assegnare il proprio nome e cognome ad una stringa e visualizzarla con le prime lettere maiuscole\n"
      ]
    },
    {
      "cell_type": "code",
      "metadata": {
        "colab": {
          "base_uri": "https://localhost:8080/"
        },
        "id": "XUr5whtgHmsC",
        "outputId": "6ccbcf29-61aa-4d6e-8c36-b46beccafa8a"
      },
      "source": [
        "NameSur= (\"Mirko Tolentino\")\n",
        "print(NameSur.title())"
      ],
      "execution_count": 71,
      "outputs": [
        {
          "output_type": "stream",
          "name": "stdout",
          "text": [
            "Mirko Tolentino\n"
          ]
        }
      ]
    },
    {
      "cell_type": "markdown",
      "metadata": {
        "id": "zA2wyq-rH5OJ"
      },
      "source": [
        "n. assegnare il proprio nome e cognome ad una stringa e visualizzarne la lunghezza\n"
      ]
    },
    {
      "cell_type": "code",
      "metadata": {
        "colab": {
          "base_uri": "https://localhost:8080/"
        },
        "id": "tVie5swNH7Sf",
        "outputId": "67980297-5fd5-49cb-b256-a742801af04d"
      },
      "source": [
        "NameSur= (\"Mirko Tolentino\")\n",
        "print(len(NameSur))"
      ],
      "execution_count": 72,
      "outputs": [
        {
          "output_type": "stream",
          "name": "stdout",
          "text": [
            "15\n"
          ]
        }
      ]
    },
    {
      "cell_type": "markdown",
      "metadata": {
        "id": "2MYgQrY3IekK"
      },
      "source": [
        "o. assegnare il proprio nome e cognome ad una stringa e contate quante vocali contiene\n"
      ]
    },
    {
      "cell_type": "code",
      "metadata": {
        "colab": {
          "base_uri": "https://localhost:8080/"
        },
        "id": "Lkw4nLFmIfaw",
        "outputId": "444d4fa0-2fab-49c2-e345-be0a573cda64"
      },
      "source": [
        "NameSur= (\"Mirko Tolentino\")\n",
        "print(NameSur.count(\"a\")+NameSur.count(\"e\")+NameSur.count(\"i\")+NameSur.count(\"o\")+NameSur.count(\"u\"))\n"
      ],
      "execution_count": 74,
      "outputs": [
        {
          "output_type": "stream",
          "name": "stdout",
          "text": [
            "6\n"
          ]
        }
      ]
    },
    {
      "cell_type": "markdown",
      "metadata": {
        "id": "hy4bAcUNJG60"
      },
      "source": [
        "p. assegnare il proprio nome e cognome ad una stringa e visualizzare i primi 5 caratteri\n"
      ]
    },
    {
      "cell_type": "code",
      "metadata": {
        "colab": {
          "base_uri": "https://localhost:8080/"
        },
        "id": "gYRqFfBMJHxu",
        "outputId": "9ff4d8bc-1e74-4f78-c7f9-0e05a3a677c4"
      },
      "source": [
        "NameSur= (\"Mirko Tolentino\")\n",
        "print(NameSur [0:5])"
      ],
      "execution_count": 75,
      "outputs": [
        {
          "output_type": "stream",
          "name": "stdout",
          "text": [
            "Mirko\n"
          ]
        }
      ]
    },
    {
      "cell_type": "markdown",
      "metadata": {
        "id": "vw3SJrmhKHrw"
      },
      "source": [
        "q. assegnare il proprio nome e cognome ad una stringa e visualizzare gli ultimi 5 caratteri\n"
      ]
    },
    {
      "cell_type": "code",
      "metadata": {
        "colab": {
          "base_uri": "https://localhost:8080/"
        },
        "id": "aZzlu9dtKIb8",
        "outputId": "f0d28b6d-8fab-4746-b115-823fd0e15923"
      },
      "source": [
        "NameSur= (\"Mirko Tolentino\")\n",
        "print(NameSur [10:16])"
      ],
      "execution_count": 82,
      "outputs": [
        {
          "output_type": "stream",
          "name": "stdout",
          "text": [
            "ntino\n"
          ]
        }
      ]
    },
    {
      "cell_type": "markdown",
      "metadata": {
        "id": "A7rVdzBRLQA3"
      },
      "source": [
        "r.. assegnare il proprio nome e cognome ad una stringa e visualizzare i 5 caratteri centrali\n"
      ]
    },
    {
      "cell_type": "code",
      "metadata": {
        "colab": {
          "base_uri": "https://localhost:8080/"
        },
        "id": "GwJO57sYLSrj",
        "outputId": "1a30ea48-6ceb-486d-eedf-8cf57f652d45"
      },
      "source": [
        "NameSur= (\"Mirko Tolentino\")\n",
        "print(NameSur [5:10])"
      ],
      "execution_count": 83,
      "outputs": [
        {
          "output_type": "stream",
          "name": "stdout",
          "text": [
            " Tole\n"
          ]
        }
      ]
    },
    {
      "cell_type": "markdown",
      "metadata": {
        "id": "v-QMof8dLhWz"
      },
      "source": [
        "s. assegnare il proprio nome e cognome ad una stringa e sostituire le vocali con una X\n"
      ]
    },
    {
      "cell_type": "code",
      "metadata": {
        "colab": {
          "base_uri": "https://localhost:8080/"
        },
        "id": "haDZwwXQLiYT",
        "outputId": "0002caaa-d06e-4824-f95a-4d06d85a6577"
      },
      "source": [
        "NameSur= (\"Mirko Tolentino\")\n",
        "print(NameSur.replace(\"a\",\"x\").replace(\"e\",\"x\").replace(\"i\",\"x\").replace(\"o\",\"x\").replace(\"u\",\"x\"))"
      ],
      "execution_count": 85,
      "outputs": [
        {
          "output_type": "stream",
          "name": "stdout",
          "text": [
            "Mxrkx Txlxntxnx\n"
          ]
        }
      ]
    }
  ]
}
