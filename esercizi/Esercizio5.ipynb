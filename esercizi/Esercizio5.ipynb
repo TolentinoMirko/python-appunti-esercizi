{
  "nbformat": 4,
  "nbformat_minor": 0,
  "metadata": {
    "colab": {
      "name": "Esercizio5.ipynb",
      "provenance": [],
      "authorship_tag": "ABX9TyOI581oaRdoANcsyte1p7UZ",
      "include_colab_link": true
    },
    "kernelspec": {
      "name": "python3",
      "display_name": "Python 3"
    },
    "language_info": {
      "name": "python"
    }
  },
  "cells": [
    {
      "cell_type": "markdown",
      "metadata": {
        "id": "view-in-github",
        "colab_type": "text"
      },
      "source": [
        "<a href=\"https://colab.research.google.com/github/TolentinoMirko/python-appunti-esercizi/blob/main/Esercizio5.ipynb\" target=\"_parent\"><img src=\"https://colab.research.google.com/assets/colab-badge.svg\" alt=\"Open In Colab\"/></a>"
      ]
    },
    {
      "cell_type": "markdown",
      "metadata": {
        "id": "vAxCaKhfP0-N"
      },
      "source": [
        "1. scrivere una funzione chiamata max che dati due numeri restituisca il più grande. Scrivere poi un programma che, utilizzando la funzione creata, trovi il massimo tra tre numeri inseriti dall'utente."
      ]
    },
    {
      "cell_type": "code",
      "metadata": {
        "id": "eWQLIkqCP3IH",
        "colab": {
          "base_uri": "https://localhost:8080/"
        },
        "outputId": "0687867c-1371-46b0-a668-e45841daadbd"
      },
      "source": [
        "def max(x,y):\n",
        "  if x > y:\n",
        "   return x\n",
        "  else:\n",
        "    return y\n",
        "\n",
        "max(max(int(input('Numero : ')),int(input('Numero : '))),int(input('Numero : ')))\n"
      ],
      "execution_count": 80,
      "outputs": [
        {
          "name": "stdout",
          "output_type": "stream",
          "text": [
            "Numero : 5\n",
            "Numero : 10\n",
            "Numero : 20\n"
          ]
        },
        {
          "output_type": "execute_result",
          "data": {
            "text/plain": [
              "20"
            ]
          },
          "metadata": {},
          "execution_count": 80
        }
      ]
    },
    {
      "cell_type": "markdown",
      "metadata": {
        "id": "NHGrO-8UP4Uh"
      },
      "source": [
        "2. scrivere una funzione chiamata sommaLista che data una lista di interi restituisca la somma di tutti gli elementi della lista. Scrivere poi un programma che, utilizzando la funzione create, trovi la somma degli elementi di una lista inserita dall'utente. \n"
      ]
    },
    {
      "cell_type": "code",
      "metadata": {
        "colab": {
          "base_uri": "https://localhost:8080/"
        },
        "id": "I9PZE14hQFR4",
        "outputId": "048906fb-e0b6-4c08-d1b1-116f11871385"
      },
      "source": [
        "\n",
        "def sommaLista(lst): \n",
        "  return sum(lst)\n",
        "\n",
        "\n",
        "n = int(input('Inserisci il numnero di elementi  = '))\n",
        "lst  = [int(input('Inserisci il numero : ')) for i in range(0,n)]\n",
        "sommaLista(lst)"
      ],
      "execution_count": 100,
      "outputs": [
        {
          "name": "stdout",
          "output_type": "stream",
          "text": [
            "Inserisci il numnero di elementi  = 3\n",
            "Inserisci il numero : 1\n",
            "Inserisci il numero : 1\n",
            "Inserisci il numero : 1\n"
          ]
        },
        {
          "output_type": "execute_result",
          "data": {
            "text/plain": [
              "3"
            ]
          },
          "metadata": {},
          "execution_count": 100
        }
      ]
    },
    {
      "cell_type": "markdown",
      "metadata": {
        "id": "ExLt95Y7Yo6o"
      },
      "source": [
        "3. utilizzando le funzioni create precedentemente, scrivere un programma che permetta all'utente di inserire tre liste e di avere il valore massimo della somma degli elementi delle tre liste."
      ]
    },
    {
      "cell_type": "code",
      "metadata": {
        "colab": {
          "base_uri": "https://localhost:8080/"
        },
        "id": "pyjfN5n9YpRy",
        "outputId": "9827b13f-1033-4c03-cfec-ab2f78696d7f"
      },
      "source": [
        "list1 = [int(s)for s in input('Inserisci numeri : ').split()]\n",
        "list2 = [int(s)for s in input('Inserisci numeri : ').split()]\n",
        "list3 = [int(s)for s in input('Inserisci numeri : ').split()]\n",
        "sommaLista(list1)\n",
        "sommaLista(list2)\n",
        "sommaLista(list3)\n",
        "\n",
        "max(max(sommaLista(list1),sommaLista(list2)),sommaLista(list3))"
      ],
      "execution_count": 102,
      "outputs": [
        {
          "name": "stdout",
          "output_type": "stream",
          "text": [
            "Inserisci numeri : 2 2 5 7 8\n",
            "Inserisci numeri : 1 4 6 7\n",
            "Inserisci numeri : 4 2 3\n"
          ]
        },
        {
          "output_type": "execute_result",
          "data": {
            "text/plain": [
              "24"
            ]
          },
          "metadata": {},
          "execution_count": 102
        }
      ]
    },
    {
      "cell_type": "markdown",
      "metadata": {
        "id": "cb43syOQYr9B"
      },
      "source": [
        "4. scrivere una funzione chiamata controlla che dato un numero e due estremi restituisca True se il numero è compreso tra i due estremi, false altrimenti. Utilizzare poi la funzione per trovare il numero di elementi di una lista di numeri interi (inserita dall'utente) compresi tra due estremi (inseriti anch'essi dall'utente)"
      ]
    },
    {
      "cell_type": "code",
      "metadata": {
        "colab": {
          "base_uri": "https://localhost:8080/"
        },
        "id": "Z3MSQsigYt9c",
        "outputId": "63309b7f-51fa-4e1e-887c-e96159121fea"
      },
      "source": [
        "def controlla(a,b,c):\n",
        "\n",
        " d = [i for i in range(a+1,b)]\n",
        "\n",
        " if c in d:\n",
        "   return True\n",
        " else:\n",
        "   return False\n",
        "\n",
        "controlla(int(input('Inserisci estremo 1 = ')),int(input('Inserisci estremo 2 = ')),int(input('Numero = ')))"
      ],
      "execution_count": 154,
      "outputs": [
        {
          "name": "stdout",
          "output_type": "stream",
          "text": [
            "Inserisci estremo 1 = 4\n",
            "Inserisci estremo 2 = 9\n",
            "Numero = 6\n"
          ]
        },
        {
          "output_type": "execute_result",
          "data": {
            "text/plain": [
              "True"
            ]
          },
          "metadata": {},
          "execution_count": 154
        }
      ]
    },
    {
      "cell_type": "markdown",
      "metadata": {
        "id": "zkPyyPRvYuMl"
      },
      "source": [
        "5. utilizzare la funzione controlla creata precedentemente per scrivere un programma che, data una lista di numeri interi inserita  dall'utente, carichi in un'altra lista i numeri compresi tra due estremi inseriti anch'essi dall'utente."
      ]
    },
    {
      "cell_type": "code",
      "metadata": {
        "id": "zV8eSIO6YwZh"
      },
      "source": [
        ""
      ],
      "execution_count": null,
      "outputs": []
    },
    {
      "cell_type": "markdown",
      "metadata": {
        "id": "OJ1GoUBWYwoE"
      },
      "source": [
        "6. scrivere una funzione chiamata confrontaListe che date due liste restituisca True se le due liste sono uguali, False altrimenti. Utilizzare poi la funzione in un programma che dica se una lista di interi è palindroma, cioè se può essere letta indifferentemente da sinistra a destra e da destra a sinistra. Ad esempio la lista [1, 2, 3, 4, 3, 2, 1] è palindroma, la lista [1, 2, 3, 4, 3,1, 2] non lo è.\n"
      ]
    },
    {
      "cell_type": "code",
      "metadata": {
        "colab": {
          "base_uri": "https://localhost:8080/"
        },
        "id": "T3WiU3y1Yyqx",
        "outputId": "f65ee737-4c92-42f0-a676-c536ddc4095b"
      },
      "source": [
        "def confrontaListe(list1,list2):\n",
        "  return list1 == list2\n",
        "\n",
        "list1 = [int(s)for s in input('Inserisci numeri : ').split()]\n",
        "confrontaListe(list1, list1[::-1])\n"
      ],
      "execution_count": 169,
      "outputs": [
        {
          "name": "stdout",
          "output_type": "stream",
          "text": [
            "Inserisci numeri : 1 2 3 2 1\n"
          ]
        },
        {
          "output_type": "execute_result",
          "data": {
            "text/plain": [
              "True"
            ]
          },
          "metadata": {},
          "execution_count": 169
        }
      ]
    },
    {
      "cell_type": "markdown",
      "metadata": {
        "id": "p3zOy8lZYzrD"
      },
      "source": [
        "7. scrivere una funzione chiamata celsiusToFahrenheit che data una temperatura in gradi Celsius restituisca il valore convertito in gradi Fahrenheit (per ulteriori info, google it). Scrivere poi un programma che data una lista di temperature in gradi Celsius,inserita dall'utente, converta tutte le temperature in gradi Fahrenheit."
      ]
    },
    {
      "cell_type": "code",
      "metadata": {
        "colab": {
          "base_uri": "https://localhost:8080/"
        },
        "id": "V83RMFpXY1-r",
        "outputId": "30c837c4-b3ef-418b-ce6d-e1957ed067d5"
      },
      "source": [
        "def celsiusToFahrenheit(x):\n",
        "  \n",
        "  lst = [ (i* (9/5)) + 32 for i in x]\n",
        "  \n",
        "  return lst\n",
        "\n",
        "\n",
        "\n",
        "celsiusToFahrenheit([int(s)for s in input('Gradi Celsius : ').split()])"
      ],
      "execution_count": 186,
      "outputs": [
        {
          "name": "stdout",
          "output_type": "stream",
          "text": [
            "Gradi Celsius : 35 36 37 38\n"
          ]
        },
        {
          "output_type": "execute_result",
          "data": {
            "text/plain": [
              "[95.0, 96.8, 98.60000000000001, 100.4]"
            ]
          },
          "metadata": {},
          "execution_count": 186
        }
      ]
    },
    {
      "cell_type": "markdown",
      "metadata": {
        "id": "KfTlKWQtb5hp"
      },
      "source": [
        "8. scrivere una funzione chiamata IMC che calcoli l'Indice di Massa Corporea a partire dal peso (in kg) e dall'altezza (in m). Utilizzare poi la funzione per scrivere un programma che date tre liste, contenente la prima una serie di nomi, la seconda una serie di pesi e la terza una serie di altezze, produca una quarta lista contenente i valori di IMC corrispondenti. Visualizzare poi i risultati nel seguente modo: \"<nome> pesa <peso kg, misura <altezza> m ed ha un IMC di <IMC>\" ( i valori nelle parentesi angolari vanno presi ovviamente dalle liste)"
      ]
    },
    {
      "cell_type": "code",
      "metadata": {
        "colab": {
          "base_uri": "https://localhost:8080/"
        },
        "id": "lnp_h2ptb8Iz",
        "outputId": "4f8a2a58-309e-4a1a-8161-89dafa7469f1"
      },
      "source": [
        "def Imc(p,a):\n",
        "   return round(p / a**2, 2)\n",
        "\n",
        "ListNames = ['Francesco','Luca','Gabriele']\n",
        "ListPeso = [56,61,68]\n",
        "ListAltz = [1.61,1.76,1.83]\n",
        "\n",
        "def comp(p, a, n):\n",
        "  listY = []\n",
        "  for i in range(len(p)):\n",
        "    listY.append('{} pesa {}kg, misura {}m ed ha un IMC di {}'.format(n[i], p[i], a[i], Imc(p[i], a[i])))\n",
        "\n",
        "  return listY\n",
        "\n",
        "print('\\n'.join(comp(ListPeso,ListAltz,ListNames)))"
      ],
      "execution_count": 195,
      "outputs": [
        {
          "output_type": "stream",
          "name": "stdout",
          "text": [
            "Francesco pesa 56kg, misura 1.61m ed ha un IMC di 21.6\n",
            "Luca pesa 61kg, misura 1.76m ed ha un IMC di 19.69\n",
            "Gabriele pesa 68kg, misura 1.83m ed ha un IMC di 20.31\n"
          ]
        }
      ]
    },
    {
      "cell_type": "markdown",
      "metadata": {
        "id": "UorFlR9rb8ff"
      },
      "source": [
        "9: scrivere una lambda function per estrarre da una lista di numeri interi tutti i valori pari."
      ]
    },
    {
      "cell_type": "code",
      "metadata": {
        "colab": {
          "base_uri": "https://localhost:8080/"
        },
        "id": "S1xlkBWFb-mH",
        "outputId": "9a745541-dc04-400f-f007-444a38e9933d"
      },
      "source": [
        "lstJ = [0, 2, 3, 4, 5, 6, 7, 8, 9]\n",
        "res = lambda l: [n for n in l if n%2 == 0]\n",
        "print(res(lstJ))"
      ],
      "execution_count": 187,
      "outputs": [
        {
          "output_type": "stream",
          "name": "stdout",
          "text": [
            "[0, 2, 4, 6, 8]\n"
          ]
        }
      ]
    }
  ]
}
