{
  "nbformat": 4,
  "nbformat_minor": 0,
  "metadata": {
    "colab": {
      "name": "EsercizioB.ipynb",
      "provenance": []
    },
    "kernelspec": {
      "name": "python3",
      "display_name": "Python 3"
    },
    "language_info": {
      "name": "python"
    }
  },
  "cells": [
    {
      "cell_type": "markdown",
      "metadata": {
        "id": "m0klTj2Na4Cs"
      },
      "source": [
        "scrivere un programma che dato un indirizzo email nella forma nome.cognome@dominio visualizzi separatamente il nome, il cognome e il dominio\n"
      ]
    },
    {
      "cell_type": "code",
      "metadata": {
        "colab": {
          "base_uri": "https://localhost:8080/"
        },
        "id": "HlTi8dC_a5kl",
        "outputId": "f8b43ccb-5ba8-4a0d-a890-8cefad3aeb4f"
      },
      "source": [
        "email = \"mirko.tolentino@gmail.com\"\n",
        "print([x.split('@') for x in email.split('.',1)])"
      ],
      "execution_count": null,
      "outputs": [
        {
          "output_type": "stream",
          "name": "stdout",
          "text": [
            "[['mirko'], ['tolentino', 'gmail.com']]\n"
          ]
        }
      ]
    },
    {
      "cell_type": "markdown",
      "metadata": {
        "id": "BHRi2KH4cisH"
      },
      "source": [
        "scrivere un programma che permetta di stabilire se un numero pari è divisibile per 6. L’utente inserisce il numero e il programma, una volta controllato che sia pari, controlla anche se è divisibile per 6."
      ]
    },
    {
      "cell_type": "code",
      "metadata": {
        "colab": {
          "base_uri": "https://localhost:8080/"
        },
        "id": "skFDo_9hcpc7",
        "outputId": "a3491d23-f362-432b-8a0e-788ba764aaea"
      },
      "source": [
        "num = int(input(\"inserire numero : \"))\n",
        "if num%2==0:\n",
        "  print('è pari')\n",
        "else:\n",
        "  print('è dispari')  \n",
        "if num%6==0:\n",
        "  print('è div per 6')\n",
        "else:\n",
        "  print('non è div per 6')  "
      ],
      "execution_count": null,
      "outputs": [
        {
          "output_type": "stream",
          "name": "stdout",
          "text": [
            "inserire numero : 15\n",
            "è dispari\n",
            "non è div per 6\n"
          ]
        }
      ]
    },
    {
      "cell_type": "markdown",
      "metadata": {
        "id": "VntgfMXxdJ_0"
      },
      "source": [
        "scrivere un programma per verificare se una parola contiene solo vocali."
      ]
    },
    {
      "cell_type": "code",
      "metadata": {
        "colab": {
          "base_uri": "https://localhost:8080/"
        },
        "id": "PFXiAYKCdL6n",
        "outputId": "09a3c565-f60c-4214-897a-660e9d99e14c"
      },
      "source": [
        "nome = input('inserisci nome : ')\n",
        "for i in nome:\n",
        "  vocali = 'aeiouAEIOU'  \n",
        "  if nome == vocali:\n",
        "    print('è pieno di vocali')\n",
        "  else:\n",
        "    print('ci sono dei caratteri')"
      ],
      "execution_count": null,
      "outputs": [
        {
          "output_type": "stream",
          "name": "stdout",
          "text": [
            "inserisci nome : aaaa\n",
            "ci sono dei caratteri\n",
            "ci sono dei caratteri\n",
            "ci sono dei caratteri\n",
            "ci sono dei caratteri\n"
          ]
        }
      ]
    },
    {
      "cell_type": "markdown",
      "metadata": {
        "id": "EjbQijKweCn5"
      },
      "source": [
        "scrivere un programma che permetta di caricare una lista di parole e che elimini dalla lista tutte le parole più lunghe di un valore inserito dall’utente\n"
      ]
    },
    {
      "cell_type": "code",
      "metadata": {
        "colab": {
          "base_uri": "https://localhost:8080/"
        },
        "id": "URWJOE4ueFqA",
        "outputId": "f17e65bc-0346-4370-8b7d-8f8f51bb6640"
      },
      "source": [
        "listanomi = [s for s in input().split()]\n",
        "lungNom = int(input('lunghezza : '))\n",
        "for i in listanomi:\n",
        "  if len(listanomi) > lungNom:\n",
        "    "
      ],
      "execution_count": null,
      "outputs": [
        {
          "name": "stdout",
          "output_type": "stream",
          "text": [
            "e rrrr lol\n",
            "lunghezza : 3\n"
          ]
        }
      ]
    },
    {
      "cell_type": "markdown",
      "metadata": {
        "id": "I4CTHO65gJEe"
      },
      "source": [
        "scrivere una funzione che data una parola restituisca la stessa parola con i caratteri separati da uno spazio"
      ]
    },
    {
      "cell_type": "code",
      "metadata": {
        "colab": {
          "base_uri": "https://localhost:8080/"
        },
        "id": "QH9Vb8S-gJzu",
        "outputId": "e010743e-ced2-41f4-e12a-d94b5729872a"
      },
      "source": [
        "\n",
        "nom = input('inserisci nome : ')\n",
        "\n",
        "\n",
        "def sep(x):\n",
        "  return \" \".join(x) #il join inserisce una spaziatura dipendentemente da cosa ce scritto dentro le ' '\n",
        "\n",
        "print(sep(nom))"
      ],
      "execution_count": null,
      "outputs": [
        {
          "output_type": "stream",
          "name": "stdout",
          "text": [
            "inserisci nome : lolo e caduto\n",
            "l o l o   e   c a d u t o\n"
          ]
        }
      ]
    },
    {
      "cell_type": "markdown",
      "metadata": {
        "id": "r-o_8XManKdF"
      },
      "source": [
        "scrivere un programma che utilizzando la funzione precedente inserisca uno spazio tra i caratteri di tutte le parole presenti in una stringa\n"
      ]
    },
    {
      "cell_type": "code",
      "metadata": {
        "id": "Ie-psGeinP9w",
        "colab": {
          "base_uri": "https://localhost:8080/",
          "height": 52
        },
        "outputId": "adcf8021-5b03-42d7-8d4e-19cbcd96e0d1"
      },
      "source": [
        "nom = input('inserisci nome : ')\n",
        "def utilizzo(x):\n",
        "  return sep(x)\n",
        "utilizzo(nom)"
      ],
      "execution_count": null,
      "outputs": [
        {
          "name": "stdout",
          "output_type": "stream",
          "text": [
            "inserisci nome : molte persone\n"
          ]
        },
        {
          "output_type": "execute_result",
          "data": {
            "application/vnd.google.colaboratory.intrinsic+json": {
              "type": "string"
            },
            "text/plain": [
              "'m o l t e   p e r s o n e'"
            ]
          },
          "metadata": {},
          "execution_count": 5
        }
      ]
    },
    {
      "cell_type": "markdown",
      "metadata": {
        "id": "Zzoq-G2xnRgf"
      },
      "source": [
        "scrivere un programma che utilizzando una lambda function  sostituisca ad ogni elemento di una lista di parole la lunghezza delle parole stesse. Ad esempio se la lista fosse [‘mamma’, ‘stella’, ‘casa’] la lista finale dovrebbe essere [5, 5, 4]\n"
      ]
    },
    {
      "cell_type": "code",
      "metadata": {
        "colab": {
          "base_uri": "https://localhost:8080/"
        },
        "id": "i09432KGnT0q",
        "outputId": "10703b1a-7a16-42a4-a23a-4afbd9d595cb"
      },
      "source": [
        "lista = [str(s)for s in input('Inserisci numeri : ').split()]\n",
        "koko = list(map(lambda x: len(x),lista))\n",
        "print(koko)"
      ],
      "execution_count": null,
      "outputs": [
        {
          "output_type": "stream",
          "name": "stdout",
          "text": [
            "Inserisci numeri : ljohoiguigoio hjoihiohh ohhoh\n",
            "[13, 9, 5]\n"
          ]
        }
      ]
    },
    {
      "cell_type": "markdown",
      "metadata": {
        "id": "80Fql6BYATM9"
      },
      "source": [
        "scrivere un programma che utilizzando una lambda function elimini da una lista di parole tutte quelle più corte di un valore inserito dall’utente.  Ad esempio se la lista fosse [‘tre’, ‘stella’, ‘casa’] e l’utente inserisse il valore 5, la lista finale dovrebbe essere [‘stella’]\n"
      ]
    },
    {
      "cell_type": "code",
      "metadata": {
        "colab": {
          "base_uri": "https://localhost:8080/"
        },
        "id": "HXT6Rq0mAT8i",
        "outputId": "796b8260-afc1-495a-d85a-4e0aae19a757"
      },
      "source": [
        "lista1 = [(s)for s in input('Inserisci numeri : ').split()]\n",
        "num = int(input('inserire numero : '))\n",
        "fil = list(filter(lambda x: len(x) > num,lista1))\n",
        "print(fil)"
      ],
      "execution_count": null,
      "outputs": [
        {
          "output_type": "stream",
          "name": "stdout",
          "text": [
            "Inserisci numeri : ara ara l l l lollo\n",
            "inserire numero : 2\n",
            "['ara', 'ara', 'lollo']\n"
          ]
        }
      ]
    },
    {
      "cell_type": "markdown",
      "metadata": {
        "id": "JL_Io8jxCMpQ"
      },
      "source": [
        "Il centro vaccinale Covid di Milano vuole memorizzare le informazioni dei cittadini che si sono vaccinati. Le informazioni da inserire sono il codice fiscale del cittadino, le date in cui ha fatto la vaccinazione e il vaccino utilizzato. Caricare in una struttura dati apposita i codici fiscali dei cittadini (solo due codici) e le vaccinazioni effettuate (solo due vaccinazioni) e permettere di avere le informazioni relative ad un cittadino di cui si inserisce il codice fiscle. Inventare ovviamente tutte le informazioni.\n"
      ]
    },
    {
      "cell_type": "code",
      "metadata": {
        "colab": {
          "base_uri": "https://localhost:8080/"
        },
        "id": "HvH0oVFtCNiq",
        "outputId": "08f5ea03-ade7-498f-8b4f-c1660cca3acb"
      },
      "source": [
        "CentroCovid = [\n",
        "               {'codiceFiscale':'CodFis1','vaccinazione':'21/9/21'}\n",
        "               ,{'codiceFiscale':'CodFis2','vaccinazione':'01/10/21'}\n",
        "               ]\n",
        "codice = input('inserire codice fiscale : ')\n",
        "for dictionary in CentroCovid:\n",
        "  if dictionary['codiceFiscale']==codice:\n",
        "    print(dictionary['vaccinazione'])"
      ],
      "execution_count": null,
      "outputs": [
        {
          "output_type": "stream",
          "name": "stdout",
          "text": [
            "inserire codice fiscale : CodFis2\n",
            "01/10/21\n"
          ]
        }
      ]
    }
  ]
}
