{
  "nbformat": 4,
  "nbformat_minor": 0,
  "metadata": {
    "colab": {
      "name": "SimulazioneVer.ipynb",
      "provenance": [],
      "collapsed_sections": []
    },
    "kernelspec": {
      "name": "python3",
      "display_name": "Python 3"
    },
    "language_info": {
      "name": "python"
    }
  },
  "cells": [
    {
      "cell_type": "markdown",
      "metadata": {
        "id": "GgzufDUGAYLg"
      },
      "source": [
        "1. scrivere un programma che permetta all'utente di inserire tre valori e visualizzi quello intermedio."
      ]
    },
    {
      "cell_type": "code",
      "metadata": {
        "colab": {
          "base_uri": "https://localhost:8080/"
        },
        "id": "qJhkQ7ohAcFN",
        "outputId": "e1ac754d-3903-4f40-cc36-d3c2f4711571"
      },
      "source": [
        "val1 = int(input(\"Inserire Valore : \"))\n",
        "val2 = int(input(\"Inserire Valore : \"))\n",
        "val3 = int(input(\"Inserire Valore : \"))\n",
        "if val1 < val2 < val3:\n",
        "  print(val2)\n",
        "elif val2 < val1 < val3:\n",
        "  print(val1)\n",
        "else:\n",
        "  print(val3)\n",
        "      "
      ],
      "execution_count": null,
      "outputs": [
        {
          "output_type": "stream",
          "name": "stdout",
          "text": [
            "Inserire Valore : 10\n",
            "Inserire Valore : 40\n",
            "Inserire Valore : 20\n",
            "20\n"
          ]
        }
      ]
    },
    {
      "cell_type": "markdown",
      "metadata": {
        "id": "sok9vVEMBaxf"
      },
      "source": [
        "2. scrivere un programma che permetta all'utente di caricare una lista di numeri interi ed un valore e carichi in un'altra lista tutti gli elementi della prima lista che sono multipli del valore inserito. Al termnine visualizzare entrambe le liste."
      ]
    },
    {
      "cell_type": "code",
      "metadata": {
        "colab": {
          "base_uri": "https://localhost:8080/"
        },
        "id": "rOp0JQwADj83",
        "outputId": "3388832a-8484-4963-efca-a644728b8605"
      },
      "source": [
        "listanum = [int(ele) for ele in input(\"Inserire numeri : \").split()] #Listanum crea una lista\n",
        "                                                                     #Ele assume il val dell input e lo trasforma in integer\n",
        "valore = int(input(\"Inserire un valore : \"))\n",
        "listaFinale = [num for num in listanum if num%valore==0]  #listaFinale crea una lista,list comprension,num assume i valori di listanum  \n",
        "                                                          #e controlla in listanum se il numero diviso il resto è 0 lo inserisce all'interno\n",
        "print(listaFinale)"
      ],
      "execution_count": null,
      "outputs": [
        {
          "output_type": "stream",
          "name": "stdout",
          "text": [
            "Inserire numeri : 2 4 6 8 19 89\n",
            "Inserire un valore : 2\n",
            "[2, 4, 6, 8]\n"
          ]
        }
      ]
    },
    {
      "cell_type": "markdown",
      "metadata": {
        "id": "uzq3bYItEN8u"
      },
      "source": [
        "3. scrivere un programma che permetta all'utente di memorizzare in un dizionario i numeri di telefono dei propri amici. L'utente deve poter inserire i nomi e i numeri."
      ]
    },
    {
      "cell_type": "code",
      "metadata": {
        "colab": {
          "base_uri": "https://localhost:8080/"
        },
        "id": "huFWw9kvEPzO",
        "outputId": "05b95c5e-d000-425b-d59b-e59f22c4c628"
      },
      "source": [
        "nomi = [s for s in input().split()]\n",
        "numeri = [s for s in input().split()]\n",
        "rubrica = dict((nome,numero) for nome,numero in zip(nomi,numeri)) #dict trasforma in dizionario\n",
        "print(rubrica)"
      ],
      "execution_count": null,
      "outputs": [
        {
          "output_type": "stream",
          "name": "stdout",
          "text": [
            "a b c\n",
            "1 2 3\n",
            "{'a': '1', 'b': '2', 'c': '3'}\n"
          ]
        }
      ]
    },
    {
      "cell_type": "markdown",
      "metadata": {
        "id": "_edNfGJ9Frrn"
      },
      "source": [
        "4. scrivere un programma che dato il dizionario dell'esercizio precedente, permetta all'utente di inserire un nome e avere il numero di telefono corrispondente"
      ]
    },
    {
      "cell_type": "code",
      "metadata": {
        "colab": {
          "base_uri": "https://localhost:8080/"
        },
        "id": "1aIow66zF02v",
        "outputId": "d3be6b59-2238-486a-e1dd-8bc93a63c1f9"
      },
      "source": [
        "nome = input()\n",
        "print(rubrica[nome]) #della rubrica prende solo i nomi"
      ],
      "execution_count": null,
      "outputs": [
        {
          "output_type": "stream",
          "name": "stdout",
          "text": [
            "a\n",
            "1\n"
          ]
        }
      ]
    },
    {
      "cell_type": "markdown",
      "metadata": {
        "id": "r7C5-QC9GknH"
      },
      "source": [
        "5. scrivere una funzione che dato il raggio calcoli la superficie del cerchio avente quel raggio. Chiamare al funzione superficie,. Il valore di ritorno deve avere tre cifre decimali."
      ]
    },
    {
      "cell_type": "code",
      "metadata": {
        "colab": {
          "base_uri": "https://localhost:8080/"
        },
        "id": "N37pqPnVGnOe",
        "outputId": "2f16bc15-c457-4f7c-b1d4-90af5c45db01"
      },
      "source": [
        "import math\n",
        "def superficie(r):\n",
        "  return r**2*math.pi\n",
        "superficie(int(input(\"Inserisci raggio : \")))"
      ],
      "execution_count": null,
      "outputs": [
        {
          "name": "stdout",
          "output_type": "stream",
          "text": [
            "Inserisci raggio : 3\n"
          ]
        },
        {
          "output_type": "execute_result",
          "data": {
            "text/plain": [
              "28.274333882308138"
            ]
          },
          "metadata": {},
          "execution_count": 24
        }
      ]
    },
    {
      "cell_type": "markdown",
      "metadata": {
        "id": "dQR5Rs_LHVPY"
      },
      "source": [
        "6. scrivere una funzione che, utilizzando la funzione superficie dell'esercizio precedente, permetta di calcolare il volume di un cilindro dato il raggio e l'altezza. Chiamare la funzione volume. "
      ]
    },
    {
      "cell_type": "code",
      "metadata": {
        "colab": {
          "base_uri": "https://localhost:8080/"
        },
        "id": "S539tt6JHXCn",
        "outputId": "fc67534d-4bba-4314-fa72-dc0dfd440973"
      },
      "source": [
        "def volume(r,h):\n",
        "  return superficie(r)*h  #richiama la funzione superficie il quale lo calcola e poi lo moltiplica per l'altezza\n",
        "print(volume(5,10))"
      ],
      "execution_count": null,
      "outputs": [
        {
          "output_type": "stream",
          "name": "stdout",
          "text": [
            "785.3981633974483\n"
          ]
        }
      ]
    },
    {
      "cell_type": "markdown",
      "metadata": {
        "id": "uMABtDXeH-Xe"
      },
      "source": [
        "7. scrivere un programma che permetta di decrementare tutti gli elementi di una lista utilizzando una lambda function e la funzione map(). Far inserire all'utente gli elementi della lista."
      ]
    },
    {
      "cell_type": "code",
      "metadata": {
        "id": "izHnRwzGIAa-",
        "colab": {
          "base_uri": "https://localhost:8080/"
        },
        "outputId": "aa576c63-bdf8-4141-8ff2-530d818e604d"
      },
      "source": [
        "num = [int(s) for s in input().split()]\n",
        "decremento = list(map(lambda x:x-1,num)) #map prende tutti gli elementi della lista e li diminuisce di 1\n",
        "                                         #alla fine del lamba mettiamo la lista in cui volgiamo diminuire gli elementi ovvero la lista num\n",
        "print(num,decremento)  "
      ],
      "execution_count": null,
      "outputs": [
        {
          "output_type": "stream",
          "name": "stdout",
          "text": [
            "2 3 4 5 6 7 8\n",
            "[2, 3, 4, 5, 6, 7, 8] [1, 2, 3, 4, 5, 6, 7]\n"
          ]
        }
      ]
    },
    {
      "cell_type": "markdown",
      "metadata": {
        "id": "P8z0AmYRJa7n"
      },
      "source": [
        "8. scrivere un programma che permetta di estrarre da una lista tutti i valori pari utilizzando una lambda function e la funzione filter(). Far inserire all'utente gli elementi della lista."
      ]
    },
    {
      "cell_type": "code",
      "metadata": {
        "colab": {
          "base_uri": "https://localhost:8080/"
        },
        "id": "7ULuKhN2JePI",
        "outputId": "5a18357e-c095-4c3b-a012-c6c9cd9b3608"
      },
      "source": [
        "numeri = [int(s) for s in input().split()]\n",
        "numeriPari = list(filter(lambda x: x%2==0,numeri))  #filter in questo caso prende solo gli elementi che divisi per 2 il resto dia 0\n",
        "                                                    #alla fine del lamba mettiamo la lista in cui volgiamo prendere gli elementi ovvero la lista num\n",
        "print(numeri)\n",
        "print(numeriPari)"
      ],
      "execution_count": null,
      "outputs": [
        {
          "output_type": "stream",
          "name": "stdout",
          "text": [
            "2 4 6 7 9 3\n",
            "[2, 4, 6, 7, 9, 3]\n",
            "[2, 4, 6]\n"
          ]
        }
      ]
    },
    {
      "cell_type": "markdown",
      "metadata": {
        "id": "6gXFlSVVKHCu"
      },
      "source": [
        "9. scrivere una funzione ricorsiva per calcolare l'elevamento a potenza di un numero intero. La funzione ha due paramentri: numero ed esponente"
      ]
    },
    {
      "cell_type": "code",
      "metadata": {
        "colab": {
          "base_uri": "https://localhost:8080/"
        },
        "id": "bLYwUNqoKNH2",
        "outputId": "de6b26b2-955d-44df-d26b-1e840ab92df5"
      },
      "source": [
        "def potenza(base,esponente):\n",
        "  if esponente == 0:\n",
        "   return 1\n",
        "  else:\n",
        "    return base*potenza(base,esponente-1)\n",
        "print(potenza(5,4))\n"
      ],
      "execution_count": null,
      "outputs": [
        {
          "output_type": "stream",
          "name": "stdout",
          "text": [
            "625\n"
          ]
        }
      ]
    }
  ]
}