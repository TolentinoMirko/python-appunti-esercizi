{
  "nbformat": 4,
  "nbformat_minor": 0,
  "metadata": {
    "colab": {
      "name": "Esercizio1-Analisi_dati.ipynb",
      "provenance": [],
      "collapsed_sections": []
    },
    "kernelspec": {
      "name": "python3",
      "display_name": "Python 3"
    },
    "language_info": {
      "name": "python"
    }
  },
  "cells": [
    {
      "cell_type": "markdown",
      "metadata": {
        "id": "7TAM_MH5yVgs"
      },
      "source": [
        "raccolta dati e analisi di essi"
      ]
    },
    {
      "cell_type": "markdown",
      "metadata": {
        "id": "ytkV_veSysk8"
      },
      "source": [
        "GDPR (gestione della privacy)"
      ]
    },
    {
      "cell_type": "markdown",
      "metadata": {
        "id": "ydkwRVwjzbCM"
      },
      "source": [
        "1.Creare un DataFrame da questo file json ed assegnarlo ad una variabile df"
      ]
    },
    {
      "cell_type": "code",
      "metadata": {
        "id": "CKEv8sOPys3c"
      },
      "source": [
        "import pandas as pd\n",
        "import matplotlib.pyplot as plt\n",
        "import numpy as np  #gestire le liste"
      ],
      "execution_count": null,
      "outputs": []
    },
    {
      "cell_type": "code",
      "metadata": {
        "colab": {
          "base_uri": "https://localhost:8080/",
          "height": 419
        },
        "id": "NzjRscb13HQz",
        "outputId": "1bafb889-9b37-4519-a704-ecbae82b36bc"
      },
      "source": [
        "df = pd.read_json('https://raw.githubusercontent.com/CappuCitti/Python-appunti-ed-esercizi/main/MatPlotLib/Data/sample_chat_data.json')\n",
        "df"
      ],
      "execution_count": null,
      "outputs": [
        {
          "output_type": "execute_result",
          "data": {
            "text/html": [
              "<div>\n",
              "<style scoped>\n",
              "    .dataframe tbody tr th:only-of-type {\n",
              "        vertical-align: middle;\n",
              "    }\n",
              "\n",
              "    .dataframe tbody tr th {\n",
              "        vertical-align: top;\n",
              "    }\n",
              "\n",
              "    .dataframe thead th {\n",
              "        text-align: right;\n",
              "    }\n",
              "</style>\n",
              "<table border=\"1\" class=\"dataframe\">\n",
              "  <thead>\n",
              "    <tr style=\"text-align: right;\">\n",
              "      <th></th>\n",
              "      <th>user_id</th>\n",
              "      <th>message_length</th>\n",
              "      <th>device_type</th>\n",
              "      <th>has_media</th>\n",
              "      <th>has_links</th>\n",
              "      <th>full_date</th>\n",
              "    </tr>\n",
              "  </thead>\n",
              "  <tbody>\n",
              "    <tr>\n",
              "      <th>0</th>\n",
              "      <td>9a0f4@kp</td>\n",
              "      <td>43</td>\n",
              "      <td>android</td>\n",
              "      <td>False</td>\n",
              "      <td>False</td>\n",
              "      <td>2021-11-10T20:09:29.209Z</td>\n",
              "    </tr>\n",
              "    <tr>\n",
              "      <th>1</th>\n",
              "      <td>f6627@kp</td>\n",
              "      <td>0</td>\n",
              "      <td>android</td>\n",
              "      <td>False</td>\n",
              "      <td>False</td>\n",
              "      <td>2021-11-10T20:13:24.176Z</td>\n",
              "    </tr>\n",
              "    <tr>\n",
              "      <th>2</th>\n",
              "      <td>f6627@kp</td>\n",
              "      <td>38</td>\n",
              "      <td>android</td>\n",
              "      <td>False</td>\n",
              "      <td>False</td>\n",
              "      <td>2021-11-10T20:13:36.119Z</td>\n",
              "    </tr>\n",
              "    <tr>\n",
              "      <th>3</th>\n",
              "      <td>f6627@kp</td>\n",
              "      <td>33</td>\n",
              "      <td>android</td>\n",
              "      <td>False</td>\n",
              "      <td>False</td>\n",
              "      <td>2021-11-10T20:13:49.332Z</td>\n",
              "    </tr>\n",
              "    <tr>\n",
              "      <th>4</th>\n",
              "      <td>f9a56@kp</td>\n",
              "      <td>0</td>\n",
              "      <td>android</td>\n",
              "      <td>True</td>\n",
              "      <td>False</td>\n",
              "      <td>2021-11-10T20:17:00.923Z</td>\n",
              "    </tr>\n",
              "    <tr>\n",
              "      <th>...</th>\n",
              "      <td>...</td>\n",
              "      <td>...</td>\n",
              "      <td>...</td>\n",
              "      <td>...</td>\n",
              "      <td>...</td>\n",
              "      <td>...</td>\n",
              "    </tr>\n",
              "    <tr>\n",
              "      <th>213</th>\n",
              "      <td>f6627@kp</td>\n",
              "      <td>24</td>\n",
              "      <td>android</td>\n",
              "      <td>False</td>\n",
              "      <td>False</td>\n",
              "      <td>2021-11-16T07:09:05.402Z</td>\n",
              "    </tr>\n",
              "    <tr>\n",
              "      <th>214</th>\n",
              "      <td>9609a@kp</td>\n",
              "      <td>2</td>\n",
              "      <td>android</td>\n",
              "      <td>False</td>\n",
              "      <td>False</td>\n",
              "      <td>2021-11-16T07:09:33.219Z</td>\n",
              "    </tr>\n",
              "    <tr>\n",
              "      <th>215</th>\n",
              "      <td>f9a70@kp</td>\n",
              "      <td>37</td>\n",
              "      <td>ios</td>\n",
              "      <td>False</td>\n",
              "      <td>False</td>\n",
              "      <td>2021-11-16T19:46:42.982Z</td>\n",
              "    </tr>\n",
              "    <tr>\n",
              "      <th>216</th>\n",
              "      <td>f6627@kp</td>\n",
              "      <td>14</td>\n",
              "      <td>android</td>\n",
              "      <td>False</td>\n",
              "      <td>False</td>\n",
              "      <td>2021-11-16T19:58:27.852Z</td>\n",
              "    </tr>\n",
              "    <tr>\n",
              "      <th>217</th>\n",
              "      <td>9a0f4@kp</td>\n",
              "      <td>14</td>\n",
              "      <td>android</td>\n",
              "      <td>False</td>\n",
              "      <td>False</td>\n",
              "      <td>2021-11-16T20:01:04.148Z</td>\n",
              "    </tr>\n",
              "  </tbody>\n",
              "</table>\n",
              "<p>218 rows × 6 columns</p>\n",
              "</div>"
            ],
            "text/plain": [
              "      user_id  message_length  ... has_links                 full_date\n",
              "0    9a0f4@kp              43  ...     False  2021-11-10T20:09:29.209Z\n",
              "1    f6627@kp               0  ...     False  2021-11-10T20:13:24.176Z\n",
              "2    f6627@kp              38  ...     False  2021-11-10T20:13:36.119Z\n",
              "3    f6627@kp              33  ...     False  2021-11-10T20:13:49.332Z\n",
              "4    f9a56@kp               0  ...     False  2021-11-10T20:17:00.923Z\n",
              "..        ...             ...  ...       ...                       ...\n",
              "213  f6627@kp              24  ...     False  2021-11-16T07:09:05.402Z\n",
              "214  9609a@kp               2  ...     False  2021-11-16T07:09:33.219Z\n",
              "215  f9a70@kp              37  ...     False  2021-11-16T19:46:42.982Z\n",
              "216  f6627@kp              14  ...     False  2021-11-16T19:58:27.852Z\n",
              "217  9a0f4@kp              14  ...     False  2021-11-16T20:01:04.148Z\n",
              "\n",
              "[218 rows x 6 columns]"
            ]
          },
          "metadata": {},
          "execution_count": 2
        }
      ]
    },
    {
      "cell_type": "code",
      "metadata": {
        "colab": {
          "base_uri": "https://localhost:8080/"
        },
        "id": "pilqIirg4hKL",
        "outputId": "61ad0118-3d9e-4a58-af9b-f7471b19b85f"
      },
      "source": [
        "df.info()  #ci dice le colonne e il tipo"
      ],
      "execution_count": null,
      "outputs": [
        {
          "output_type": "stream",
          "name": "stdout",
          "text": [
            "<class 'pandas.core.frame.DataFrame'>\n",
            "RangeIndex: 218 entries, 0 to 217\n",
            "Data columns (total 6 columns):\n",
            " #   Column          Non-Null Count  Dtype \n",
            "---  ------          --------------  ----- \n",
            " 0   user_id         218 non-null    object\n",
            " 1   message_length  218 non-null    int64 \n",
            " 2   device_type     218 non-null    object\n",
            " 3   has_media       218 non-null    bool  \n",
            " 4   has_links       218 non-null    bool  \n",
            " 5   full_date       218 non-null    object\n",
            "dtypes: bool(2), int64(1), object(3)\n",
            "memory usage: 7.4+ KB\n"
          ]
        }
      ]
    },
    {
      "cell_type": "markdown",
      "metadata": {
        "id": "2hlbtewH4GjM"
      },
      "source": [
        "2.Creare un grafico a barre che mostri il numero di messaggi inviato da ogni utente in ordine decrescente, avente le seguenti caratterisiche:\n",
        "I tick dell'asse delle ascisse siano inclinati di 45°\n",
        "          ,Un titolo appropirato che descriva il grafico\n",
        "          ,Impostare il colore royalBlue per colorare le barre\n",
        "          ,Ingrandire le dimenrsioni del grafico e del testo del 50% (figsize default: [6.4, 4.8], font.size default: 10)"
      ]
    },
    {
      "cell_type": "code",
      "metadata": {
        "colab": {
          "base_uri": "https://localhost:8080/",
          "height": 514
        },
        "id": "wNnaVDMn3oIT",
        "outputId": "49b9639f-fb5f-4ce7-cc63-a068c02f25c9"
      },
      "source": [
        "msg_num = df.groupby('user_id',as_index=False).count().sort_values('full_date',ascending= False)\n",
        "msg_num   #user id non è piu una colonna perche lo abbiamo raggruppato\n",
        "\n"
      ],
      "execution_count": null,
      "outputs": [
        {
          "output_type": "execute_result",
          "data": {
            "text/html": [
              "<div>\n",
              "<style scoped>\n",
              "    .dataframe tbody tr th:only-of-type {\n",
              "        vertical-align: middle;\n",
              "    }\n",
              "\n",
              "    .dataframe tbody tr th {\n",
              "        vertical-align: top;\n",
              "    }\n",
              "\n",
              "    .dataframe thead th {\n",
              "        text-align: right;\n",
              "    }\n",
              "</style>\n",
              "<table border=\"1\" class=\"dataframe\">\n",
              "  <thead>\n",
              "    <tr style=\"text-align: right;\">\n",
              "      <th></th>\n",
              "      <th>user_id</th>\n",
              "      <th>message_length</th>\n",
              "      <th>device_type</th>\n",
              "      <th>has_media</th>\n",
              "      <th>has_links</th>\n",
              "      <th>full_date</th>\n",
              "    </tr>\n",
              "  </thead>\n",
              "  <tbody>\n",
              "    <tr>\n",
              "      <th>6</th>\n",
              "      <td>9a0f4@kp</td>\n",
              "      <td>57</td>\n",
              "      <td>57</td>\n",
              "      <td>57</td>\n",
              "      <td>57</td>\n",
              "      <td>57</td>\n",
              "    </tr>\n",
              "    <tr>\n",
              "      <th>1</th>\n",
              "      <td>9609a@kp</td>\n",
              "      <td>54</td>\n",
              "      <td>54</td>\n",
              "      <td>54</td>\n",
              "      <td>54</td>\n",
              "      <td>54</td>\n",
              "    </tr>\n",
              "    <tr>\n",
              "      <th>0</th>\n",
              "      <td>92a44@kp</td>\n",
              "      <td>20</td>\n",
              "      <td>20</td>\n",
              "      <td>20</td>\n",
              "      <td>20</td>\n",
              "      <td>20</td>\n",
              "    </tr>\n",
              "    <tr>\n",
              "      <th>2</th>\n",
              "      <td>96121@kp</td>\n",
              "      <td>17</td>\n",
              "      <td>17</td>\n",
              "      <td>17</td>\n",
              "      <td>17</td>\n",
              "      <td>17</td>\n",
              "    </tr>\n",
              "    <tr>\n",
              "      <th>13</th>\n",
              "      <td>f9a56@kp</td>\n",
              "      <td>17</td>\n",
              "      <td>17</td>\n",
              "      <td>17</td>\n",
              "      <td>17</td>\n",
              "      <td>17</td>\n",
              "    </tr>\n",
              "    <tr>\n",
              "      <th>9</th>\n",
              "      <td>f6627@kp</td>\n",
              "      <td>13</td>\n",
              "      <td>13</td>\n",
              "      <td>13</td>\n",
              "      <td>13</td>\n",
              "      <td>13</td>\n",
              "    </tr>\n",
              "    <tr>\n",
              "      <th>12</th>\n",
              "      <td>f9756@kp</td>\n",
              "      <td>9</td>\n",
              "      <td>9</td>\n",
              "      <td>9</td>\n",
              "      <td>9</td>\n",
              "      <td>9</td>\n",
              "    </tr>\n",
              "    <tr>\n",
              "      <th>10</th>\n",
              "      <td>f76a0@kp</td>\n",
              "      <td>5</td>\n",
              "      <td>5</td>\n",
              "      <td>5</td>\n",
              "      <td>5</td>\n",
              "      <td>5</td>\n",
              "    </tr>\n",
              "    <tr>\n",
              "      <th>11</th>\n",
              "      <td>f9742@kp</td>\n",
              "      <td>5</td>\n",
              "      <td>5</td>\n",
              "      <td>5</td>\n",
              "      <td>5</td>\n",
              "      <td>5</td>\n",
              "    </tr>\n",
              "    <tr>\n",
              "      <th>14</th>\n",
              "      <td>f9a70@kp</td>\n",
              "      <td>5</td>\n",
              "      <td>5</td>\n",
              "      <td>5</td>\n",
              "      <td>5</td>\n",
              "      <td>5</td>\n",
              "    </tr>\n",
              "    <tr>\n",
              "      <th>3</th>\n",
              "      <td>96199@kp</td>\n",
              "      <td>4</td>\n",
              "      <td>4</td>\n",
              "      <td>4</td>\n",
              "      <td>4</td>\n",
              "      <td>4</td>\n",
              "    </tr>\n",
              "    <tr>\n",
              "      <th>5</th>\n",
              "      <td>9679f@kp</td>\n",
              "      <td>4</td>\n",
              "      <td>4</td>\n",
              "      <td>4</td>\n",
              "      <td>4</td>\n",
              "      <td>4</td>\n",
              "    </tr>\n",
              "    <tr>\n",
              "      <th>7</th>\n",
              "      <td>f4511@kp</td>\n",
              "      <td>4</td>\n",
              "      <td>4</td>\n",
              "      <td>4</td>\n",
              "      <td>4</td>\n",
              "      <td>4</td>\n",
              "    </tr>\n",
              "    <tr>\n",
              "      <th>8</th>\n",
              "      <td>f5740@kp</td>\n",
              "      <td>3</td>\n",
              "      <td>3</td>\n",
              "      <td>3</td>\n",
              "      <td>3</td>\n",
              "      <td>3</td>\n",
              "    </tr>\n",
              "    <tr>\n",
              "      <th>4</th>\n",
              "      <td>966aa@kp</td>\n",
              "      <td>1</td>\n",
              "      <td>1</td>\n",
              "      <td>1</td>\n",
              "      <td>1</td>\n",
              "      <td>1</td>\n",
              "    </tr>\n",
              "  </tbody>\n",
              "</table>\n",
              "</div>"
            ],
            "text/plain": [
              "     user_id  message_length  device_type  has_media  has_links  full_date\n",
              "6   9a0f4@kp              57           57         57         57         57\n",
              "1   9609a@kp              54           54         54         54         54\n",
              "0   92a44@kp              20           20         20         20         20\n",
              "2   96121@kp              17           17         17         17         17\n",
              "13  f9a56@kp              17           17         17         17         17\n",
              "9   f6627@kp              13           13         13         13         13\n",
              "12  f9756@kp               9            9          9          9          9\n",
              "10  f76a0@kp               5            5          5          5          5\n",
              "11  f9742@kp               5            5          5          5          5\n",
              "14  f9a70@kp               5            5          5          5          5\n",
              "3   96199@kp               4            4          4          4          4\n",
              "5   9679f@kp               4            4          4          4          4\n",
              "7   f4511@kp               4            4          4          4          4\n",
              "8   f5740@kp               3            3          3          3          3\n",
              "4   966aa@kp               1            1          1          1          1"
            ]
          },
          "metadata": {},
          "execution_count": 4
        }
      ]
    },
    {
      "cell_type": "code",
      "metadata": {
        "colab": {
          "base_uri": "https://localhost:8080/",
          "height": 572
        },
        "id": "CIW-wiS85rqs",
        "outputId": "6d3fffe5-ad06-488e-f0b7-a36501af7ee6"
      },
      "source": [
        "plt.rcParams.update({'font.size':20}) #plt cambia (update) (dizionario) chiave e nuovo valore\n",
        "\n",
        "fig = plt.figure(figsize=(9.6,7.2)) #crea la figura\n",
        "ax = plt.axes()  #crea gli assi\n",
        "\n",
        "fig.autofmt_xdate(rotation=45) #si ruotano le scritte della x di 45 gradi\n",
        "fig.suptitle('Grafico quanto parlano le persone del gruppo')  # titolo grafico\n",
        "\n",
        "ax.set_xlabel('Utenti') #inserisce un titolo per l'asse delle x\n",
        "ax.set_ylabel('Messaggi')  #inserisce un titolo per l'asse delle y\n",
        "ax.grid() #inseriscie una griglia\n",
        "\n",
        "ax.bar(msg_num['user_id'],msg_num['full_date'],color = 'royalblue')  #creaimo il grafico a barre avente x che è la user_id e full_date come y e coloriamo le barre di blu"
      ],
      "execution_count": null,
      "outputs": [
        {
          "output_type": "execute_result",
          "data": {
            "text/plain": [
              "<BarContainer object of 15 artists>"
            ]
          },
          "metadata": {},
          "execution_count": 5
        },
        {
          "output_type": "display_data",
          "data": {
            "image/png": "[encoded data removed]",
            "text/plain": [
              "<Figure size 691.2x518.4 with 1 Axes>"
            ]
          },
          "metadata": {
            "needs_background": "light"
          }
        }
      ]
    },
    {
      "cell_type": "code",
      "metadata": {
        "colab": {
          "base_uri": "https://localhost:8080/"
        },
        "id": "5ieXXBzVCWJC",
        "outputId": "d263ec26-9199-4e4a-8f01-f3b743ce1102"
      },
      "source": [
        "#media\n",
        "msg_num['full_date'].mean()   #la media dei messaggi inviati per ogni utente"
      ],
      "execution_count": null,
      "outputs": [
        {
          "output_type": "execute_result",
          "data": {
            "text/plain": [
              "14.533333333333333"
            ]
          },
          "metadata": {},
          "execution_count": 6
        }
      ]
    },
    {
      "cell_type": "code",
      "metadata": {
        "colab": {
          "base_uri": "https://localhost:8080/"
        },
        "id": "S9YSCrpGC7xi",
        "outputId": "a190ecb3-9f2a-46d7-ad3f-cbb3e3300390"
      },
      "source": [
        "msg_num[msg_num['full_date'] > msg_num['full_date'].mean()]['user_id']  #gli utenti che hanno mandato piu messaggi della media"
      ],
      "execution_count": null,
      "outputs": [
        {
          "output_type": "execute_result",
          "data": {
            "text/plain": [
              "6     9a0f4@kp\n",
              "1     9609a@kp\n",
              "0     92a44@kp\n",
              "2     96121@kp\n",
              "13    f9a56@kp\n",
              "Name: user_id, dtype: object"
            ]
          },
          "metadata": {},
          "execution_count": 7
        }
      ]
    },
    {
      "cell_type": "code",
      "metadata": {
        "colab": {
          "base_uri": "https://localhost:8080/"
        },
        "id": "_KiCHnDTDaea",
        "outputId": "40b1732b-dc3d-4a30-83f5-a053f8a5b658"
      },
      "source": [
        "msg_num[msg_num['full_date'] == msg_num['full_date'].max()]['user_id']  #l'utente che ha scritto piu di tutti"
      ],
      "execution_count": null,
      "outputs": [
        {
          "output_type": "execute_result",
          "data": {
            "text/plain": [
              "6    9a0f4@kp\n",
              "Name: user_id, dtype: object"
            ]
          },
          "metadata": {},
          "execution_count": 8
        }
      ]
    },
    {
      "cell_type": "markdown",
      "metadata": {
        "id": "BHmfEPVSD4ky"
      },
      "source": [
        "3.Creare un grafico a torta che riporti la media totale dei messaggi inviati suddivisi per giorni avente le seguenti caratteristiche:\n",
        "L'angolo 0 deve partire da una inclinazione di 90°\n",
        "Mettere in esposizione la fetta del grafico che assuneme il minor valore percentuale\n",
        "Utilizzando come riferimento questo NoteBook scegliere 7 colori diversi per ogni giorno della settimana ed utilizzarli per colorare le fette del grafico"
      ]
    },
    {
      "cell_type": "code",
      "metadata": {
        "colab": {
          "base_uri": "https://localhost:8080/"
        },
        "id": "zrYEuSJTBTar",
        "outputId": "79bf8992-a957-4669-a5bd-7585dd92f1d5"
      },
      "source": [
        "df['full_date'] = pd.to_datetime(df['full_date'])\n",
        "df['full_date'].dt.date               #viene aggiustata la data e diventa una data effettiva per pandas"
      ],
      "execution_count": null,
      "outputs": [
        {
          "output_type": "execute_result",
          "data": {
            "text/plain": [
              "0      2021-11-10\n",
              "1      2021-11-10\n",
              "2      2021-11-10\n",
              "3      2021-11-10\n",
              "4      2021-11-10\n",
              "          ...    \n",
              "213    2021-11-16\n",
              "214    2021-11-16\n",
              "215    2021-11-16\n",
              "216    2021-11-16\n",
              "217    2021-11-16\n",
              "Name: full_date, Length: 218, dtype: object"
            ]
          },
          "metadata": {},
          "execution_count": 9
        }
      ]
    },
    {
      "cell_type": "code",
      "metadata": {
        "colab": {
          "base_uri": "https://localhost:8080/",
          "height": 297
        },
        "id": "xPl42sJXGBxq",
        "outputId": "df134291-fbca-4707-ff3c-7999f3b14a32"
      },
      "source": [
        "data = df.groupby(df['full_date'].dt.date).count()\n",
        "data #raggruppa in base alla data e li conta\n"
      ],
      "execution_count": null,
      "outputs": [
        {
          "output_type": "execute_result",
          "data": {
            "text/html": [
              "<div>\n",
              "<style scoped>\n",
              "    .dataframe tbody tr th:only-of-type {\n",
              "        vertical-align: middle;\n",
              "    }\n",
              "\n",
              "    .dataframe tbody tr th {\n",
              "        vertical-align: top;\n",
              "    }\n",
              "\n",
              "    .dataframe thead th {\n",
              "        text-align: right;\n",
              "    }\n",
              "</style>\n",
              "<table border=\"1\" class=\"dataframe\">\n",
              "  <thead>\n",
              "    <tr style=\"text-align: right;\">\n",
              "      <th></th>\n",
              "      <th>user_id</th>\n",
              "      <th>message_length</th>\n",
              "      <th>device_type</th>\n",
              "      <th>has_media</th>\n",
              "      <th>has_links</th>\n",
              "      <th>full_date</th>\n",
              "    </tr>\n",
              "    <tr>\n",
              "      <th>full_date</th>\n",
              "      <th></th>\n",
              "      <th></th>\n",
              "      <th></th>\n",
              "      <th></th>\n",
              "      <th></th>\n",
              "      <th></th>\n",
              "    </tr>\n",
              "  </thead>\n",
              "  <tbody>\n",
              "    <tr>\n",
              "      <th>2021-11-10</th>\n",
              "      <td>10</td>\n",
              "      <td>10</td>\n",
              "      <td>10</td>\n",
              "      <td>10</td>\n",
              "      <td>10</td>\n",
              "      <td>10</td>\n",
              "    </tr>\n",
              "    <tr>\n",
              "      <th>2021-11-11</th>\n",
              "      <td>34</td>\n",
              "      <td>34</td>\n",
              "      <td>34</td>\n",
              "      <td>34</td>\n",
              "      <td>34</td>\n",
              "      <td>34</td>\n",
              "    </tr>\n",
              "    <tr>\n",
              "      <th>2021-11-12</th>\n",
              "      <td>62</td>\n",
              "      <td>62</td>\n",
              "      <td>62</td>\n",
              "      <td>62</td>\n",
              "      <td>62</td>\n",
              "      <td>62</td>\n",
              "    </tr>\n",
              "    <tr>\n",
              "      <th>2021-11-13</th>\n",
              "      <td>2</td>\n",
              "      <td>2</td>\n",
              "      <td>2</td>\n",
              "      <td>2</td>\n",
              "      <td>2</td>\n",
              "      <td>2</td>\n",
              "    </tr>\n",
              "    <tr>\n",
              "      <th>2021-11-14</th>\n",
              "      <td>41</td>\n",
              "      <td>41</td>\n",
              "      <td>41</td>\n",
              "      <td>41</td>\n",
              "      <td>41</td>\n",
              "      <td>41</td>\n",
              "    </tr>\n",
              "    <tr>\n",
              "      <th>2021-11-15</th>\n",
              "      <td>56</td>\n",
              "      <td>56</td>\n",
              "      <td>56</td>\n",
              "      <td>56</td>\n",
              "      <td>56</td>\n",
              "      <td>56</td>\n",
              "    </tr>\n",
              "    <tr>\n",
              "      <th>2021-11-16</th>\n",
              "      <td>13</td>\n",
              "      <td>13</td>\n",
              "      <td>13</td>\n",
              "      <td>13</td>\n",
              "      <td>13</td>\n",
              "      <td>13</td>\n",
              "    </tr>\n",
              "  </tbody>\n",
              "</table>\n",
              "</div>"
            ],
            "text/plain": [
              "            user_id  message_length  ...  has_links  full_date\n",
              "full_date                            ...                      \n",
              "2021-11-10       10              10  ...         10         10\n",
              "2021-11-11       34              34  ...         34         34\n",
              "2021-11-12       62              62  ...         62         62\n",
              "2021-11-13        2               2  ...          2          2\n",
              "2021-11-14       41              41  ...         41         41\n",
              "2021-11-15       56              56  ...         56         56\n",
              "2021-11-16       13              13  ...         13         13\n",
              "\n",
              "[7 rows x 6 columns]"
            ]
          },
          "metadata": {},
          "execution_count": 10
        }
      ]
    },
    {
      "cell_type": "code",
      "metadata": {
        "colab": {
          "base_uri": "https://localhost:8080/",
          "height": 277
        },
        "id": "vSdnpBWGFPxy",
        "outputId": "faa422d9-151c-475d-b4d9-1b4c6bd70e18"
      },
      "source": [
        "plt.rcParams.update({'font.size':13}) \n",
        "cols = ['c','b','hotpink','yellow','red','brown','lime']     #lista di colori che verranno inseriti nel grafico\n",
        "\n",
        "fig = plt.figure()\n",
        "ax = plt.axes()\n",
        "fig.suptitle('Grafico a torta')\n",
        "\n",
        "ax.pie(data['user_id'],labels=data.index,autopct = '%1.1f%%',startangle=90,colors=cols)  #creiamo il grafico a torta e gli mettiamo per ogni spicchio la data (dato che abbiamo fatto groupby la data si trova negli indici)\n",
        "plt.show()                                                                               # in %1.1f%% dopo il punto indica quanti n ci devono essere dopo la virgola\n",
        "                                                                                        #startangle indica in quale angolo inizia la circonferenza"
      ],
      "execution_count": null,
      "outputs": [
        {
          "output_type": "display_data",
          "data": {
            "image/png": "[encoded data removed]",
            "text/plain": [
              "<Figure size 432x288 with 1 Axes>"
            ]
          },
          "metadata": {}
        }
      ]
    },
    {
      "cell_type": "markdown",
      "metadata": {
        "id": "e7NrjlyXiBLs"
      },
      "source": [
        "Creare un unico grafico a barre che riporti il numero totale dei messaggi inviati per ogni utente suddivisi in messaggi testuali, messaggi che contengo media e messaggi che contengono links, avente le seguenti caratteristiche:\n",
        "Utilizare i colori #0097e6, #e1b12c e #44bd32 corrispettivamente per messaggi testuali, messaggi che contengo media e messaggi che contengono links\n",
        "Inclinare i tick dell'asse delle ascisse di 45°\n",
        "Un titolo appropirato che descriva il grafico\n",
        "Aggiungere delle label appropiate ad ogni colonna e visualizzarle nella legenda, posizionarla a destra.\n",
        "Impostare Unetnti come label dell'asse delle X\n",
        "Impostare Numero di messaggi come label dell'asse delle Y"
      ]
    },
    {
      "cell_type": "code",
      "metadata": {
        "id": "BdJlSiVHkRWV"
      },
      "source": [
        "import numpy as np"
      ],
      "execution_count": null,
      "outputs": []
    },
    {
      "cell_type": "code",
      "metadata": {
        "colab": {
          "base_uri": "https://localhost:8080/",
          "height": 304
        },
        "id": "SLzfx6mvhdi0",
        "outputId": "4aac2f51-70da-483a-ee49-ef56220c6997"
      },
      "source": [
        "\n",
        "data = df.groupby('user_id').agg({'message_length':'count','has_media':'sum','has_links':'sum'}).sort_values('message_length',ascending=False) #raggruppa gli user id \n",
        "labels = data.index #visto che abbiamo raggruppato gli user allora i nomi in data saranno uguali all'indice\n",
        "msgs = np.subtract(data['message_length'],np.add(data['has_media'],data['has_links']))\n",
        "msgs_links = data['has_links']\n",
        "msgs_media = data['has_media']\n",
        "\n",
        "fig = plt.figure()\n",
        "ax = plt.axes()\n",
        "\n",
        "fig.autofmt_xdate(rotation=90)\n",
        "\n",
        "\n",
        "ax.bar(labels,msgs,color = '#0097e6')\n",
        "ax.bar(labels,msgs_links,bottom=msgs,color = '#e1b12c') #indica quanto spazio dal basso deve lasciare\n",
        "ax.bar(labels,msgs_media,bottom=msgs_links+msgs,color = '#44bd32')\n",
        "\n",
        "plt.show()\n"
      ],
      "execution_count": null,
      "outputs": [
        {
          "output_type": "display_data",
          "data": {
            "image/png": "[encoded data removed]",
            "text/plain": [
              "<Figure size 432x288 with 1 Axes>"
            ]
          },
          "metadata": {
            "needs_background": "light"
          }
        }
      ]
    }
  ]
}