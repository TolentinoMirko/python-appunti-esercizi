{
  "nbformat": 4,
  "nbformat_minor": 0,
  "metadata": {
    "colab": {
      "name": "Esercizio6.ipynb",
      "provenance": [],
      "collapsed_sections": [],
      "authorship_tag": "ABX9TyOJACsgOkF4xhjnKoROr3r/",
      "include_colab_link": true
    },
    "kernelspec": {
      "name": "python3",
      "display_name": "Python 3"
    },
    "language_info": {
      "name": "python"
    }
  },
  "cells": [
    {
      "cell_type": "markdown",
      "metadata": {
        "id": "view-in-github",
        "colab_type": "text"
      },
      "source": [
        "<a href=\"https://colab.research.google.com/github/TolentinoMirko/python-appunti-esercizi/blob/main/Esercizio6.ipynb\" target=\"_parent\"><img src=\"https://colab.research.google.com/assets/colab-badge.svg\" alt=\"Open In Colab\"/></a>"
      ]
    },
    {
      "cell_type": "markdown",
      "metadata": {
        "id": "GTkUxcp9_n9Y"
      },
      "source": [
        "1. scrivere una funzione chiamata sommaTutti che permetta di sommare un numero arbitrario di valori interi passati come parametri. Scrivere poi un programma che permetta all'utente di inserire un numero variabile di interi e visualizzi la somma."
      ]
    },
    {
      "cell_type": "code",
      "metadata": {
        "colab": {
          "base_uri": "https://localhost:8080/"
        },
        "id": "cGnwGcE-_tJ_",
        "outputId": "c680c0b8-49d6-48db-f9e1-a69a73bcebca"
      },
      "source": [
        "def sommaTutti(y):\n",
        "  return sum(y)\n",
        "\n",
        "num = [int(s)for s in input('Inserisci numeri : ').split()]\n",
        "\n",
        "sommaTutti(num)"
      ],
      "execution_count": null,
      "outputs": [
        {
          "name": "stdout",
          "output_type": "stream",
          "text": [
            "Inserisci numeri : 4 8\n"
          ]
        },
        {
          "output_type": "execute_result",
          "data": {
            "text/plain": [
              "12"
            ]
          },
          "metadata": {},
          "execution_count": 5
        }
      ]
    },
    {
      "cell_type": "markdown",
      "metadata": {
        "id": "SDlihj00BiKd"
      },
      "source": [
        "2. scrivere una lambda function che calcoli la lunghezza della circonferenza di un cerchio dato il raggio. Utilizzarla poi in un programma che chieda all'utente il valore del raggio e visualizzi la lunghezza della circonferenza\n"
      ]
    },
    {
      "cell_type": "code",
      "metadata": {
        "colab": {
          "base_uri": "https://localhost:8080/"
        },
        "id": "1A_jrw69BqFF",
        "outputId": "65f918a2-0ebb-4b3c-f6b2-d4866240a719"
      },
      "source": [
        "circ = lambda x : x * 3.14 *2\n",
        "\n",
        "raggio = int(input('Inserire raggio : '))\n",
        "circ(raggio)"
      ],
      "execution_count": null,
      "outputs": [
        {
          "name": "stdout",
          "output_type": "stream",
          "text": [
            "Inserire raggio : 3\n"
          ]
        },
        {
          "output_type": "execute_result",
          "data": {
            "text/plain": [
              "18.84"
            ]
          },
          "metadata": {},
          "execution_count": 11
        }
      ]
    },
    {
      "cell_type": "markdown",
      "metadata": {
        "id": "HbGiQPzICrC2"
      },
      "source": [
        "3. scrivere una funzione che calcoli il quadrato di un numero. Scrivere poi una funzione che calcoli la radice quadrata della somma di due numeri. Scrivere poi una lambda function che date le lunghezze di due cateti di un triangolo calcoli l'ipotenusa utilizzando le funzioni definite precedentemente. Utilizzare quest'ultima funzione in un programma che permetta all'utente di inserire le lunghezze dei cateti e di avere in risposta la lunghezza dell'ipotenusa di un triangolo rettangolo"
      ]
    },
    {
      "cell_type": "code",
      "metadata": {
        "colab": {
          "base_uri": "https://localhost:8080/"
        },
        "id": "CYcoiCSmCt_f",
        "outputId": "0d5d9b64-1435-4127-b87f-3ff322a83aa6"
      },
      "source": [
        "def quadrato(c):\n",
        "  return c**2\n",
        "\n",
        "def radice(v,b):\n",
        "  return (v+b)**(1/2) \n",
        "\n",
        "ipo = lambda p,u: radice(quadrato(p),quadrato(u))\n",
        "\n",
        "print(quadrato(int(input('Inserire numero : '))))\n",
        "print(radice(int(input('Inserisci numeri : ')),int(input('Inserisci numeri : '))))\n",
        "print(ipo(float(input('Numero :')),float(input('Numero :'))))"
      ],
      "execution_count": 17,
      "outputs": [
        {
          "output_type": "stream",
          "name": "stdout",
          "text": [
            "Inserire numero : 2\n",
            "4\n",
            "Inserisci numeri : 42\n",
            "Inserisci numeri : 7\n",
            "7.0\n",
            "Numero :2\n",
            "Numero :5\n",
            "5.385164807134504\n"
          ]
        }
      ]
    },
    {
      "cell_type": "markdown",
      "metadata": {
        "id": "tzJRU8VVCyMG"
      },
      "source": [
        "4. Scrivere le funzioni quadrato, cubo e radiceQuadrata che calcolano il quadrato, il cubo e la radice quadrata di un numero intero. Scrivere poi un programma che, utilizzando un ciclo for, richiami le tre funzioni su un valore intero inserito dall'utente e visualizzi i tre risultati."
      ]
    },
    {
      "cell_type": "code",
      "metadata": {
        "colab": {
          "base_uri": "https://localhost:8080/"
        },
        "id": "_3lktq8GC2QH",
        "outputId": "5a0c6c2c-7ced-4ef8-8eb6-fba39255ae3e"
      },
      "source": [
        "\n",
        "def quadrato(z):\n",
        "  return z**2\n",
        "\n",
        "def cubo(s):\n",
        "  return s**3\n",
        "\n",
        "def radiceQuadrata(j):\n",
        "  return j**(1/2)\n",
        "   \n",
        "numero = int(input('Numero : '))\n",
        "\n",
        "for i in range(0,1):\n",
        "  print(quadrato(numero))\n",
        "  print(cubo(numero))\n",
        "  print(radiceQuadrata(numero))\n",
        "\n",
        "\n"
      ],
      "execution_count": 26,
      "outputs": [
        {
          "output_type": "stream",
          "name": "stdout",
          "text": [
            "Numero : 4\n",
            "16\n",
            "64\n",
            "2.0\n"
          ]
        }
      ]
    },
    {
      "cell_type": "markdown",
      "metadata": {
        "id": "M3X2nSSIpYAl"
      },
      "source": [
        "5. Utilizzando una lambda function, scrivere un programma che data una lista di numeri interi inserita dall'utente carichi in altre due liste i quadrati e i cubi dei numeri presenti nella lista inserita. Al termine, visualizzare le due liste."
      ]
    },
    {
      "cell_type": "code",
      "metadata": {
        "id": "hHJ6EuQgpbWa"
      },
      "source": [
        "\n",
        "\n"
      ],
      "execution_count": 28,
      "outputs": []
    },
    {
      "cell_type": "markdown",
      "metadata": {
        "id": "Gfa2WrSXp3qh"
      },
      "source": [
        "6. Utilizzando una lambda function, scrivere un programma che data una lista di numeri interi inserita dall'utente carichi in altre due liste i numeri pari e i numeri dispari presenti nella lista inserita. Al termine, visualizzare le due liste.\n"
      ]
    },
    {
      "cell_type": "code",
      "metadata": {
        "colab": {
          "base_uri": "https://localhost:8080/"
        },
        "id": "FjGIqAkMp5Ve",
        "outputId": "6265dd6d-3ab4-43ee-fa2f-e7d452b3ae85"
      },
      "source": [
        "Pari = lambda y,x: [n for n in x if n%2 == 0]\n",
        "Dispari = lambda y: [n for n in y if n%2 == 1]\n",
        "\n",
        "lista = [int(s)for s in input('Inserisci numeri : ').split()]\n",
        "\n",
        "print(Pari(lista))\n",
        "print(Dispari(lista))"
      ],
      "execution_count": 10,
      "outputs": [
        {
          "output_type": "stream",
          "name": "stdout",
          "text": [
            "Inserisci numeri : 1 2 3 4 5 6 7 8\n",
            "[2, 4, 6, 8]\n",
            "[1, 3, 5, 7]\n"
          ]
        }
      ]
    },
    {
      "cell_type": "markdown",
      "metadata": {
        "id": "0HKtsNVUqjnC"
      },
      "source": [
        "\n",
        "\n",
        "\n",
        "7.Scrivere poi una funzione ricorsiva che calcoli il fattoriale di un numero. Utilizzare poi la funzione creata per scrivere un programma che permetta all'utente di inserire un numero intero e che visualizzi il fattoriale di quel numero."
      ]
    },
    {
      "cell_type": "code",
      "metadata": {
        "colab": {
          "base_uri": "https://localhost:8080/"
        },
        "id": "l9eCOVxIq6QW",
        "outputId": "08d3efbc-12b9-4b49-981f-5c7294a4c2bb"
      },
      "source": [
        "def fattoriale(n):\n",
        "  if (n<2):\n",
        "    return 1 \n",
        "  else:  \n",
        "    return n*fattoriale(n-1)\n",
        "\n",
        "num = int(input('Inserire il numero : '))\n",
        "print(fattoriale(num))"
      ],
      "execution_count": 7,
      "outputs": [
        {
          "output_type": "stream",
          "name": "stdout",
          "text": [
            "Inserire il numero : 5\n",
            "120\n"
          ]
        }
      ]
    },
    {
      "cell_type": "markdown",
      "metadata": {
        "id": "K7mzgfrqsTuI"
      },
      "source": [
        "8. Svolgere l'esercizio 7, senza ricorsione\n"
      ]
    },
    {
      "cell_type": "code",
      "metadata": {
        "colab": {
          "base_uri": "https://localhost:8080/"
        },
        "id": "w6Y8Hte_sbty",
        "outputId": "48671e69-a582-4fa7-ffd9-d779444f8e73"
      },
      "source": [
        "def fattoriale2(n):\n",
        "  x = 1\n",
        "  for i in range(2,n+1):\n",
        "     \n",
        "     x = x * i\n",
        "  return x\n",
        "\n",
        "fattoriale2(int(input('Inserire numero : ')))"
      ],
      "execution_count": 36,
      "outputs": [
        {
          "name": "stdout",
          "output_type": "stream",
          "text": [
            "Inserire numero : 5\n"
          ]
        },
        {
          "output_type": "execute_result",
          "data": {
            "text/plain": [
              "120"
            ]
          },
          "metadata": {},
          "execution_count": 36
        }
      ]
    },
    {
      "cell_type": "markdown",
      "metadata": {
        "id": "YPLZqL7fCHE3"
      },
      "source": [
        "9. Cercare su internet che cosa sono i numeri di Fibonacci. Scrivere poi una funzione ricorsiva che calcoli l'n-esimo numero della sequenza di Fibonacci. Utilizzare poi la funzione creata per scrivere un programma che permetta all'utente di inserire un numero intero e che visualizzi il numero della sequenza di Fibonacci corrispondente."
      ]
    },
    {
      "cell_type": "code",
      "metadata": {
        "colab": {
          "base_uri": "https://localhost:8080/"
        },
        "id": "Ds7I34YTAKa4",
        "outputId": "f151320f-b346-4f82-f815-0a31c588090e"
      },
      "source": [
        "def fibonacci(number):\n",
        "    if(number <= 2):\n",
        "        return 1\n",
        "    else:\n",
        "        a=1\n",
        "        b=1\n",
        "        for i in range(0,number):\n",
        "            c=a+b\n",
        "            a=b\n",
        "            b=c\n",
        "        return c\n",
        "\n",
        "fibonacci(4)"
      ],
      "execution_count": 28,
      "outputs": [
        {
          "output_type": "execute_result",
          "data": {
            "text/plain": [
              "8"
            ]
          },
          "metadata": {},
          "execution_count": 28
        }
      ]
    }
  ]
}