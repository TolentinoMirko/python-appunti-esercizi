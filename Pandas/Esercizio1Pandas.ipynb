{
  "nbformat": 4,
  "nbformat_minor": 0,
  "metadata": {
    "colab": {
      "name": "Esercizio1Pandas.ipynb",
      "provenance": [],
      "collapsed_sections": []
    },
    "kernelspec": {
      "name": "python3",
      "display_name": "Python 3"
    },
    "language_info": {
      "name": "python"
    }
  },
  "cells": [
    {
      "cell_type": "markdown",
      "metadata": {
        "id": "OZWPgKK1vFfR"
      },
      "source": [
        "1.Creare un dizionario avente come chiavi regione, capoluogo, superficie, presidente e abitanti e per ciascuna chiave, inserire come valore una lista del corrispettivo attributo per tre regioni del nord Italia."
      ]
    },
    {
      "cell_type": "code",
      "metadata": {
        "id": "WW9S8IJdsY5x"
      },
      "source": [
        "dizionario = {'regione':['Lombardia',\"Valle d'Aosta\",'Piemonte'],\n",
        "              'capoluogo':['Milano','Aosta','Torino'],\n",
        "              'superficie':['23.844 km²','3.263 km²','25.387 Km²'],\n",
        "              'presidente':['Attilio Fontana','Autonoma','Roberto Cota'],\n",
        "              'abitanti':['10M','125k','4,3M']}"
      ],
      "execution_count": null,
      "outputs": []
    },
    {
      "cell_type": "markdown",
      "metadata": {
        "id": "6UOBdAD-vLKh"
      },
      "source": [
        "2.Assegnare ad una variabile chiamata nord_italia un dataframe basato sopra il dizionario precedentemente creato."
      ]
    },
    {
      "cell_type": "code",
      "metadata": {
        "colab": {
          "base_uri": "https://localhost:8080/",
          "height": 143
        },
        "id": "zMWM9kIOuAfp",
        "outputId": "405287d1-c014-4961-ef3f-16cac0195013"
      },
      "source": [
        "import pandas as pd\n",
        "nord_italia = pd.DataFrame(dizionario)\n",
        "nord_italia"
      ],
      "execution_count": null,
      "outputs": [
        {
          "output_type": "execute_result",
          "data": {
            "text/html": [
              "<div>\n",
              "<style scoped>\n",
              "    .dataframe tbody tr th:only-of-type {\n",
              "        vertical-align: middle;\n",
              "    }\n",
              "\n",
              "    .dataframe tbody tr th {\n",
              "        vertical-align: top;\n",
              "    }\n",
              "\n",
              "    .dataframe thead th {\n",
              "        text-align: right;\n",
              "    }\n",
              "</style>\n",
              "<table border=\"1\" class=\"dataframe\">\n",
              "  <thead>\n",
              "    <tr style=\"text-align: right;\">\n",
              "      <th></th>\n",
              "      <th>regione</th>\n",
              "      <th>capoluogo</th>\n",
              "      <th>superficie</th>\n",
              "      <th>presidente</th>\n",
              "      <th>abitanti</th>\n",
              "    </tr>\n",
              "  </thead>\n",
              "  <tbody>\n",
              "    <tr>\n",
              "      <th>0</th>\n",
              "      <td>Lombardia</td>\n",
              "      <td>Milano</td>\n",
              "      <td>23.844 km²</td>\n",
              "      <td>Attilio Fontana</td>\n",
              "      <td>10M</td>\n",
              "    </tr>\n",
              "    <tr>\n",
              "      <th>1</th>\n",
              "      <td>Valle d'Aosta</td>\n",
              "      <td>Aosta</td>\n",
              "      <td>3.263 km²</td>\n",
              "      <td>Autonoma</td>\n",
              "      <td>125k</td>\n",
              "    </tr>\n",
              "    <tr>\n",
              "      <th>2</th>\n",
              "      <td>Piemonte</td>\n",
              "      <td>Torino</td>\n",
              "      <td>25.387 Km²</td>\n",
              "      <td>Roberto Cota</td>\n",
              "      <td>4,3M</td>\n",
              "    </tr>\n",
              "  </tbody>\n",
              "</table>\n",
              "</div>"
            ],
            "text/plain": [
              "         regione capoluogo  superficie       presidente abitanti\n",
              "0      Lombardia    Milano  23.844 km²  Attilio Fontana      10M\n",
              "1  Valle d'Aosta     Aosta   3.263 km²         Autonoma     125k\n",
              "2       Piemonte    Torino  25.387 Km²     Roberto Cota     4,3M"
            ]
          },
          "metadata": {},
          "execution_count": 5
        }
      ]
    },
    {
      "cell_type": "markdown",
      "metadata": {
        "id": "ii9mmJR4vPCp"
      },
      "source": [
        "3.Impostare regione come nuovo indice del dataframe. Visualizzare in fine il dataframe con il nuovo index."
      ]
    },
    {
      "cell_type": "code",
      "metadata": {
        "id": "PWSL2DFrvSUw"
      },
      "source": [
        ""
      ],
      "execution_count": null,
      "outputs": []
    },
    {
      "cell_type": "markdown",
      "metadata": {
        "id": "dj328stIvY04"
      },
      "source": [
        "4.Utilizzando il dataframe appena creato visualizzare solo i capoluoghi."
      ]
    },
    {
      "cell_type": "code",
      "metadata": {
        "colab": {
          "base_uri": "https://localhost:8080/"
        },
        "id": "DfAb1jXevbDA",
        "outputId": "732b4f2a-b815-4990-9653-4f3b6f4069ef"
      },
      "source": [
        "nord_italia['capoluogo']"
      ],
      "execution_count": null,
      "outputs": [
        {
          "output_type": "execute_result",
          "data": {
            "text/plain": [
              "0    Milano\n",
              "1     Aosta\n",
              "2    Torino\n",
              "Name: capoluogo, dtype: object"
            ]
          },
          "metadata": {},
          "execution_count": 9
        }
      ]
    },
    {
      "cell_type": "markdown",
      "metadata": {
        "id": "I2IMehcWwzWR"
      },
      "source": [
        "5.Visualizzare una lista delle colonne del dataframe."
      ]
    },
    {
      "cell_type": "code",
      "metadata": {
        "colab": {
          "base_uri": "https://localhost:8080/"
        },
        "id": "bEJvsUtiw3fx",
        "outputId": "9a49515b-b938-4f78-da4d-4d8f5872a3b6"
      },
      "source": [
        "nord_italia.columns"
      ],
      "execution_count": null,
      "outputs": [
        {
          "output_type": "execute_result",
          "data": {
            "text/plain": [
              "Index(['regione', 'capoluogo', 'superficie', 'presidente', 'abitanti'], dtype='object')"
            ]
          },
          "metadata": {},
          "execution_count": 10
        }
      ]
    },
    {
      "cell_type": "markdown",
      "metadata": {
        "id": "uzMlbn3bx5t4"
      },
      "source": [
        "6.Visualizzare l'insieme degli indici."
      ]
    },
    {
      "cell_type": "code",
      "metadata": {
        "colab": {
          "base_uri": "https://localhost:8080/"
        },
        "id": "EpFnXK9Hx454",
        "outputId": "113354f4-69e9-45c4-9ee1-ff0705e8cb80"
      },
      "source": [
        "nord_italia.index"
      ],
      "execution_count": null,
      "outputs": [
        {
          "output_type": "execute_result",
          "data": {
            "text/plain": [
              "RangeIndex(start=0, stop=3, step=1)"
            ]
          },
          "metadata": {},
          "execution_count": 11
        }
      ]
    },
    {
      "cell_type": "markdown",
      "metadata": {
        "id": "IkGLcgwbyLAJ"
      },
      "source": [
        "--------------------------------------------------------------------------------"
      ]
    },
    {
      "cell_type": "code",
      "metadata": {
        "colab": {
          "base_uri": "https://localhost:8080/",
          "height": 351
        },
        "id": "MGhud6NEyLRJ",
        "outputId": "e6f79bbe-9f79-4ff7-e267-86714cf67ca6"
      },
      "source": [
        "url = 'https://raw.githubusercontent.com/italia/covid19-opendata-vaccini/master/dati/anagrafica-vaccini-summary-latest.csv'\n",
        "df = pd.read_csv(url)\n",
        "df"
      ],
      "execution_count": null,
      "outputs": [
        {
          "output_type": "execute_result",
          "data": {
            "text/html": [
              "<div>\n",
              "<style scoped>\n",
              "    .dataframe tbody tr th:only-of-type {\n",
              "        vertical-align: middle;\n",
              "    }\n",
              "\n",
              "    .dataframe tbody tr th {\n",
              "        vertical-align: top;\n",
              "    }\n",
              "\n",
              "    .dataframe thead th {\n",
              "        text-align: right;\n",
              "    }\n",
              "</style>\n",
              "<table border=\"1\" class=\"dataframe\">\n",
              "  <thead>\n",
              "    <tr style=\"text-align: right;\">\n",
              "      <th></th>\n",
              "      <th>fascia_anagrafica</th>\n",
              "      <th>totale</th>\n",
              "      <th>sesso_maschile</th>\n",
              "      <th>sesso_femminile</th>\n",
              "      <th>prima_dose</th>\n",
              "      <th>seconda_dose</th>\n",
              "      <th>pregressa_infezione</th>\n",
              "      <th>dose_aggiuntiva</th>\n",
              "      <th>dose_booster</th>\n",
              "      <th>ultimo_aggiornamento</th>\n",
              "    </tr>\n",
              "  </thead>\n",
              "  <tbody>\n",
              "    <tr>\n",
              "      <th>0</th>\n",
              "      <td>12-19</td>\n",
              "      <td>6268693</td>\n",
              "      <td>3209454</td>\n",
              "      <td>3059239</td>\n",
              "      <td>3223185</td>\n",
              "      <td>2940568</td>\n",
              "      <td>103985</td>\n",
              "      <td>726</td>\n",
              "      <td>229</td>\n",
              "      <td>2021-10-28</td>\n",
              "    </tr>\n",
              "    <tr>\n",
              "      <th>1</th>\n",
              "      <td>20-29</td>\n",
              "      <td>9891343</td>\n",
              "      <td>5171718</td>\n",
              "      <td>4719625</td>\n",
              "      <td>5075497</td>\n",
              "      <td>4587980</td>\n",
              "      <td>198307</td>\n",
              "      <td>3952</td>\n",
              "      <td>25607</td>\n",
              "      <td>2021-10-28</td>\n",
              "    </tr>\n",
              "    <tr>\n",
              "      <th>2</th>\n",
              "      <td>30-39</td>\n",
              "      <td>10555697</td>\n",
              "      <td>5420477</td>\n",
              "      <td>5135220</td>\n",
              "      <td>5415036</td>\n",
              "      <td>4888959</td>\n",
              "      <td>205108</td>\n",
              "      <td>7605</td>\n",
              "      <td>38989</td>\n",
              "      <td>2021-10-28</td>\n",
              "    </tr>\n",
              "    <tr>\n",
              "      <th>3</th>\n",
              "      <td>40-49</td>\n",
              "      <td>13761536</td>\n",
              "      <td>6829397</td>\n",
              "      <td>6932139</td>\n",
              "      <td>6991305</td>\n",
              "      <td>6417692</td>\n",
              "      <td>283878</td>\n",
              "      <td>18727</td>\n",
              "      <td>49934</td>\n",
              "      <td>2021-10-28</td>\n",
              "    </tr>\n",
              "    <tr>\n",
              "      <th>4</th>\n",
              "      <td>50-59</td>\n",
              "      <td>15818591</td>\n",
              "      <td>7760613</td>\n",
              "      <td>8057978</td>\n",
              "      <td>8023900</td>\n",
              "      <td>7337139</td>\n",
              "      <td>346607</td>\n",
              "      <td>39896</td>\n",
              "      <td>71049</td>\n",
              "      <td>2021-10-28</td>\n",
              "    </tr>\n",
              "    <tr>\n",
              "      <th>5</th>\n",
              "      <td>60-69</td>\n",
              "      <td>12875027</td>\n",
              "      <td>6247299</td>\n",
              "      <td>6627728</td>\n",
              "      <td>6537683</td>\n",
              "      <td>5948012</td>\n",
              "      <td>241212</td>\n",
              "      <td>57677</td>\n",
              "      <td>90443</td>\n",
              "      <td>2021-10-28</td>\n",
              "    </tr>\n",
              "    <tr>\n",
              "      <th>6</th>\n",
              "      <td>70-79</td>\n",
              "      <td>10840433</td>\n",
              "      <td>5091827</td>\n",
              "      <td>5748606</td>\n",
              "      <td>5393839</td>\n",
              "      <td>5158247</td>\n",
              "      <td>165987</td>\n",
              "      <td>61817</td>\n",
              "      <td>60543</td>\n",
              "      <td>2021-10-28</td>\n",
              "    </tr>\n",
              "    <tr>\n",
              "      <th>7</th>\n",
              "      <td>80-89</td>\n",
              "      <td>7541357</td>\n",
              "      <td>3148258</td>\n",
              "      <td>4393099</td>\n",
              "      <td>3451789</td>\n",
              "      <td>3388016</td>\n",
              "      <td>78350</td>\n",
              "      <td>36395</td>\n",
              "      <td>586807</td>\n",
              "      <td>2021-10-28</td>\n",
              "    </tr>\n",
              "    <tr>\n",
              "      <th>8</th>\n",
              "      <td>90+</td>\n",
              "      <td>1721375</td>\n",
              "      <td>514973</td>\n",
              "      <td>1206402</td>\n",
              "      <td>797161</td>\n",
              "      <td>768344</td>\n",
              "      <td>19234</td>\n",
              "      <td>6096</td>\n",
              "      <td>130540</td>\n",
              "      <td>2021-10-28</td>\n",
              "    </tr>\n",
              "  </tbody>\n",
              "</table>\n",
              "</div>"
            ],
            "text/plain": [
              "  fascia_anagrafica    totale  ...  dose_booster  ultimo_aggiornamento\n",
              "0             12-19   6268693  ...           229            2021-10-28\n",
              "1             20-29   9891343  ...         25607            2021-10-28\n",
              "2             30-39  10555697  ...         38989            2021-10-28\n",
              "3             40-49  13761536  ...         49934            2021-10-28\n",
              "4             50-59  15818591  ...         71049            2021-10-28\n",
              "5             60-69  12875027  ...         90443            2021-10-28\n",
              "6             70-79  10840433  ...         60543            2021-10-28\n",
              "7             80-89   7541357  ...        586807            2021-10-28\n",
              "8               90+   1721375  ...        130540            2021-10-28\n",
              "\n",
              "[9 rows x 10 columns]"
            ]
          },
          "metadata": {},
          "execution_count": 32
        }
      ]
    },
    {
      "cell_type": "markdown",
      "metadata": {
        "id": "epa7aLHnyulh"
      },
      "source": [
        "1.visualizzare il numero di vaccinatine nella fascia 12-19"
      ]
    },
    {
      "cell_type": "code",
      "metadata": {
        "colab": {
          "base_uri": "https://localhost:8080/"
        },
        "id": "dIGnQiN2y5ep",
        "outputId": "5a6daeb1-4ee9-4f3a-ebac-25fb302f47af"
      },
      "source": [
        "df.loc[df['fascia_anagrafica']=='12-19','totale']"
      ],
      "execution_count": null,
      "outputs": [
        {
          "output_type": "execute_result",
          "data": {
            "text/plain": [
              "0    6268693\n",
              "Name: totale, dtype: int64"
            ]
          },
          "metadata": {},
          "execution_count": 33
        }
      ]
    },
    {
      "cell_type": "markdown",
      "metadata": {
        "id": "GqcTI5nFzilp"
      },
      "source": [
        "2.visualizzare il numero vaccinati maschi,femmine"
      ]
    },
    {
      "cell_type": "code",
      "metadata": {
        "colab": {
          "base_uri": "https://localhost:8080/",
          "height": 81
        },
        "id": "GXFrZovUzpzx",
        "outputId": "c94dfa98-3fcf-40c8-b57d-d565ad953b65"
      },
      "source": [
        "df.loc[df['fascia_anagrafica']=='12-19',['sesso_maschile','sesso_femminile']]"
      ],
      "execution_count": null,
      "outputs": [
        {
          "output_type": "execute_result",
          "data": {
            "text/html": [
              "<div>\n",
              "<style scoped>\n",
              "    .dataframe tbody tr th:only-of-type {\n",
              "        vertical-align: middle;\n",
              "    }\n",
              "\n",
              "    .dataframe tbody tr th {\n",
              "        vertical-align: top;\n",
              "    }\n",
              "\n",
              "    .dataframe thead th {\n",
              "        text-align: right;\n",
              "    }\n",
              "</style>\n",
              "<table border=\"1\" class=\"dataframe\">\n",
              "  <thead>\n",
              "    <tr style=\"text-align: right;\">\n",
              "      <th></th>\n",
              "      <th>sesso_maschile</th>\n",
              "      <th>sesso_femminile</th>\n",
              "    </tr>\n",
              "  </thead>\n",
              "  <tbody>\n",
              "    <tr>\n",
              "      <th>0</th>\n",
              "      <td>3209454</td>\n",
              "      <td>3059239</td>\n",
              "    </tr>\n",
              "  </tbody>\n",
              "</table>\n",
              "</div>"
            ],
            "text/plain": [
              "   sesso_maschile  sesso_femminile\n",
              "0         3209454          3059239"
            ]
          },
          "metadata": {},
          "execution_count": 34
        }
      ]
    },
    {
      "cell_type": "markdown",
      "metadata": {
        "id": "9ZtX_IV2z6EZ"
      },
      "source": [
        "3.fascie di eta con piu di 10M di vaccinazioni"
      ]
    },
    {
      "cell_type": "code",
      "metadata": {
        "colab": {
          "base_uri": "https://localhost:8080/"
        },
        "id": "wQovV91T0B45",
        "outputId": "4275f006-bbfd-40a9-aab4-4fc94f3326b3"
      },
      "source": [
        "df.loc[df['totale'] >= 10000000,'fascia_anagrafica']"
      ],
      "execution_count": null,
      "outputs": [
        {
          "output_type": "execute_result",
          "data": {
            "text/plain": [
              "2    30-39\n",
              "3    40-49\n",
              "4    50-59\n",
              "5    60-69\n",
              "6    70-79\n",
              "Name: fascia_anagrafica, dtype: object"
            ]
          },
          "metadata": {},
          "execution_count": 35
        }
      ]
    },
    {
      "cell_type": "markdown",
      "metadata": {
        "id": "R8yF3wL90ZGw"
      },
      "source": [
        "4.fascie di eta in cui sono stati vaccinati tra i 10M e 20M"
      ]
    },
    {
      "cell_type": "code",
      "metadata": {
        "id": "Y8tpde7N0iQx"
      },
      "source": [
        "df.loc[df['totale'] <20000000 & (df)>= 10000000,'fascia_anagrafica']"
      ],
      "execution_count": null,
      "outputs": []
    },
    {
      "cell_type": "markdown",
      "metadata": {
        "id": "Ojm0bkwoKVy-"
      },
      "source": [
        "5.aggiungere una colonna percentuale sesso maschile dove inserire la percentuale maschi vaccinati su totale"
      ]
    },
    {
      "cell_type": "code",
      "metadata": {
        "colab": {
          "base_uri": "https://localhost:8080/",
          "height": 351
        },
        "id": "Q-nGT1ubMU_l",
        "outputId": "aa2a9e3d-4f28-479c-869f-8530de87a692"
      },
      "source": [
        "df['percentuale_sesso_maschile'] = df['sesso_maschile']/df['totale']*100\n",
        "df"
      ],
      "execution_count": null,
      "outputs": [
        {
          "output_type": "execute_result",
          "data": {
            "text/html": [
              "<div>\n",
              "<style scoped>\n",
              "    .dataframe tbody tr th:only-of-type {\n",
              "        vertical-align: middle;\n",
              "    }\n",
              "\n",
              "    .dataframe tbody tr th {\n",
              "        vertical-align: top;\n",
              "    }\n",
              "\n",
              "    .dataframe thead th {\n",
              "        text-align: right;\n",
              "    }\n",
              "</style>\n",
              "<table border=\"1\" class=\"dataframe\">\n",
              "  <thead>\n",
              "    <tr style=\"text-align: right;\">\n",
              "      <th></th>\n",
              "      <th>fascia_anagrafica</th>\n",
              "      <th>totale</th>\n",
              "      <th>sesso_maschile</th>\n",
              "      <th>sesso_femminile</th>\n",
              "      <th>prima_dose</th>\n",
              "      <th>seconda_dose</th>\n",
              "      <th>pregressa_infezione</th>\n",
              "      <th>dose_aggiuntiva</th>\n",
              "      <th>dose_booster</th>\n",
              "      <th>ultimo_aggiornamento</th>\n",
              "      <th>percentuale_sesso_maschile</th>\n",
              "    </tr>\n",
              "  </thead>\n",
              "  <tbody>\n",
              "    <tr>\n",
              "      <th>0</th>\n",
              "      <td>12-19</td>\n",
              "      <td>6268693</td>\n",
              "      <td>3209454</td>\n",
              "      <td>3059239</td>\n",
              "      <td>3223185</td>\n",
              "      <td>2940568</td>\n",
              "      <td>103985</td>\n",
              "      <td>726</td>\n",
              "      <td>229</td>\n",
              "      <td>2021-10-28</td>\n",
              "      <td>51.198137</td>\n",
              "    </tr>\n",
              "    <tr>\n",
              "      <th>1</th>\n",
              "      <td>20-29</td>\n",
              "      <td>9891343</td>\n",
              "      <td>5171718</td>\n",
              "      <td>4719625</td>\n",
              "      <td>5075497</td>\n",
              "      <td>4587980</td>\n",
              "      <td>198307</td>\n",
              "      <td>3952</td>\n",
              "      <td>25607</td>\n",
              "      <td>2021-10-28</td>\n",
              "      <td>52.285296</td>\n",
              "    </tr>\n",
              "    <tr>\n",
              "      <th>2</th>\n",
              "      <td>30-39</td>\n",
              "      <td>10555697</td>\n",
              "      <td>5420477</td>\n",
              "      <td>5135220</td>\n",
              "      <td>5415036</td>\n",
              "      <td>4888959</td>\n",
              "      <td>205108</td>\n",
              "      <td>7605</td>\n",
              "      <td>38989</td>\n",
              "      <td>2021-10-28</td>\n",
              "      <td>51.351199</td>\n",
              "    </tr>\n",
              "    <tr>\n",
              "      <th>3</th>\n",
              "      <td>40-49</td>\n",
              "      <td>13761536</td>\n",
              "      <td>6829397</td>\n",
              "      <td>6932139</td>\n",
              "      <td>6991305</td>\n",
              "      <td>6417692</td>\n",
              "      <td>283878</td>\n",
              "      <td>18727</td>\n",
              "      <td>49934</td>\n",
              "      <td>2021-10-28</td>\n",
              "      <td>49.626706</td>\n",
              "    </tr>\n",
              "    <tr>\n",
              "      <th>4</th>\n",
              "      <td>50-59</td>\n",
              "      <td>15818591</td>\n",
              "      <td>7760613</td>\n",
              "      <td>8057978</td>\n",
              "      <td>8023900</td>\n",
              "      <td>7337139</td>\n",
              "      <td>346607</td>\n",
              "      <td>39896</td>\n",
              "      <td>71049</td>\n",
              "      <td>2021-10-28</td>\n",
              "      <td>49.060077</td>\n",
              "    </tr>\n",
              "    <tr>\n",
              "      <th>5</th>\n",
              "      <td>60-69</td>\n",
              "      <td>12875027</td>\n",
              "      <td>6247299</td>\n",
              "      <td>6627728</td>\n",
              "      <td>6537683</td>\n",
              "      <td>5948012</td>\n",
              "      <td>241212</td>\n",
              "      <td>57677</td>\n",
              "      <td>90443</td>\n",
              "      <td>2021-10-28</td>\n",
              "      <td>48.522609</td>\n",
              "    </tr>\n",
              "    <tr>\n",
              "      <th>6</th>\n",
              "      <td>70-79</td>\n",
              "      <td>10840433</td>\n",
              "      <td>5091827</td>\n",
              "      <td>5748606</td>\n",
              "      <td>5393839</td>\n",
              "      <td>5158247</td>\n",
              "      <td>165987</td>\n",
              "      <td>61817</td>\n",
              "      <td>60543</td>\n",
              "      <td>2021-10-28</td>\n",
              "      <td>46.970698</td>\n",
              "    </tr>\n",
              "    <tr>\n",
              "      <th>7</th>\n",
              "      <td>80-89</td>\n",
              "      <td>7541357</td>\n",
              "      <td>3148258</td>\n",
              "      <td>4393099</td>\n",
              "      <td>3451789</td>\n",
              "      <td>3388016</td>\n",
              "      <td>78350</td>\n",
              "      <td>36395</td>\n",
              "      <td>586807</td>\n",
              "      <td>2021-10-28</td>\n",
              "      <td>41.746572</td>\n",
              "    </tr>\n",
              "    <tr>\n",
              "      <th>8</th>\n",
              "      <td>90+</td>\n",
              "      <td>1721375</td>\n",
              "      <td>514973</td>\n",
              "      <td>1206402</td>\n",
              "      <td>797161</td>\n",
              "      <td>768344</td>\n",
              "      <td>19234</td>\n",
              "      <td>6096</td>\n",
              "      <td>130540</td>\n",
              "      <td>2021-10-28</td>\n",
              "      <td>29.916375</td>\n",
              "    </tr>\n",
              "  </tbody>\n",
              "</table>\n",
              "</div>"
            ],
            "text/plain": [
              "  fascia_anagrafica    totale  ...  ultimo_aggiornamento  percentuale_sesso_maschile\n",
              "0             12-19   6268693  ...            2021-10-28                   51.198137\n",
              "1             20-29   9891343  ...            2021-10-28                   52.285296\n",
              "2             30-39  10555697  ...            2021-10-28                   51.351199\n",
              "3             40-49  13761536  ...            2021-10-28                   49.626706\n",
              "4             50-59  15818591  ...            2021-10-28                   49.060077\n",
              "5             60-69  12875027  ...            2021-10-28                   48.522609\n",
              "6             70-79  10840433  ...            2021-10-28                   46.970698\n",
              "7             80-89   7541357  ...            2021-10-28                   41.746572\n",
              "8               90+   1721375  ...            2021-10-28                   29.916375\n",
              "\n",
              "[9 rows x 11 columns]"
            ]
          },
          "metadata": {},
          "execution_count": 37
        }
      ]
    },
    {
      "cell_type": "markdown",
      "metadata": {
        "id": "pavjw-NzLGqd"
      },
      "source": [
        "6.fare la stessa cosa con le femmine"
      ]
    },
    {
      "cell_type": "code",
      "metadata": {
        "colab": {
          "base_uri": "https://localhost:8080/",
          "height": 351
        },
        "id": "mYuAtY6uNuvM",
        "outputId": "4d34b4f1-d888-4b47-e53e-3b1b6937ad77"
      },
      "source": [
        "df['percentuale_sesso_femminile'] = df['sesso_femminile']/df['totale']*100\n",
        "df"
      ],
      "execution_count": null,
      "outputs": [
        {
          "output_type": "execute_result",
          "data": {
            "text/html": [
              "<div>\n",
              "<style scoped>\n",
              "    .dataframe tbody tr th:only-of-type {\n",
              "        vertical-align: middle;\n",
              "    }\n",
              "\n",
              "    .dataframe tbody tr th {\n",
              "        vertical-align: top;\n",
              "    }\n",
              "\n",
              "    .dataframe thead th {\n",
              "        text-align: right;\n",
              "    }\n",
              "</style>\n",
              "<table border=\"1\" class=\"dataframe\">\n",
              "  <thead>\n",
              "    <tr style=\"text-align: right;\">\n",
              "      <th></th>\n",
              "      <th>fascia_anagrafica</th>\n",
              "      <th>totale</th>\n",
              "      <th>sesso_maschile</th>\n",
              "      <th>sesso_femminile</th>\n",
              "      <th>prima_dose</th>\n",
              "      <th>seconda_dose</th>\n",
              "      <th>pregressa_infezione</th>\n",
              "      <th>dose_aggiuntiva</th>\n",
              "      <th>dose_booster</th>\n",
              "      <th>ultimo_aggiornamento</th>\n",
              "      <th>percentuale_sesso_maschile</th>\n",
              "      <th>percentuale_sesso_femminile</th>\n",
              "    </tr>\n",
              "  </thead>\n",
              "  <tbody>\n",
              "    <tr>\n",
              "      <th>0</th>\n",
              "      <td>12-19</td>\n",
              "      <td>6268693</td>\n",
              "      <td>3209454</td>\n",
              "      <td>3059239</td>\n",
              "      <td>3223185</td>\n",
              "      <td>2940568</td>\n",
              "      <td>103985</td>\n",
              "      <td>726</td>\n",
              "      <td>229</td>\n",
              "      <td>2021-10-28</td>\n",
              "      <td>51.198137</td>\n",
              "      <td>48.801863</td>\n",
              "    </tr>\n",
              "    <tr>\n",
              "      <th>1</th>\n",
              "      <td>20-29</td>\n",
              "      <td>9891343</td>\n",
              "      <td>5171718</td>\n",
              "      <td>4719625</td>\n",
              "      <td>5075497</td>\n",
              "      <td>4587980</td>\n",
              "      <td>198307</td>\n",
              "      <td>3952</td>\n",
              "      <td>25607</td>\n",
              "      <td>2021-10-28</td>\n",
              "      <td>52.285296</td>\n",
              "      <td>47.714704</td>\n",
              "    </tr>\n",
              "    <tr>\n",
              "      <th>2</th>\n",
              "      <td>30-39</td>\n",
              "      <td>10555697</td>\n",
              "      <td>5420477</td>\n",
              "      <td>5135220</td>\n",
              "      <td>5415036</td>\n",
              "      <td>4888959</td>\n",
              "      <td>205108</td>\n",
              "      <td>7605</td>\n",
              "      <td>38989</td>\n",
              "      <td>2021-10-28</td>\n",
              "      <td>51.351199</td>\n",
              "      <td>48.648801</td>\n",
              "    </tr>\n",
              "    <tr>\n",
              "      <th>3</th>\n",
              "      <td>40-49</td>\n",
              "      <td>13761536</td>\n",
              "      <td>6829397</td>\n",
              "      <td>6932139</td>\n",
              "      <td>6991305</td>\n",
              "      <td>6417692</td>\n",
              "      <td>283878</td>\n",
              "      <td>18727</td>\n",
              "      <td>49934</td>\n",
              "      <td>2021-10-28</td>\n",
              "      <td>49.626706</td>\n",
              "      <td>50.373294</td>\n",
              "    </tr>\n",
              "    <tr>\n",
              "      <th>4</th>\n",
              "      <td>50-59</td>\n",
              "      <td>15818591</td>\n",
              "      <td>7760613</td>\n",
              "      <td>8057978</td>\n",
              "      <td>8023900</td>\n",
              "      <td>7337139</td>\n",
              "      <td>346607</td>\n",
              "      <td>39896</td>\n",
              "      <td>71049</td>\n",
              "      <td>2021-10-28</td>\n",
              "      <td>49.060077</td>\n",
              "      <td>50.939923</td>\n",
              "    </tr>\n",
              "    <tr>\n",
              "      <th>5</th>\n",
              "      <td>60-69</td>\n",
              "      <td>12875027</td>\n",
              "      <td>6247299</td>\n",
              "      <td>6627728</td>\n",
              "      <td>6537683</td>\n",
              "      <td>5948012</td>\n",
              "      <td>241212</td>\n",
              "      <td>57677</td>\n",
              "      <td>90443</td>\n",
              "      <td>2021-10-28</td>\n",
              "      <td>48.522609</td>\n",
              "      <td>51.477391</td>\n",
              "    </tr>\n",
              "    <tr>\n",
              "      <th>6</th>\n",
              "      <td>70-79</td>\n",
              "      <td>10840433</td>\n",
              "      <td>5091827</td>\n",
              "      <td>5748606</td>\n",
              "      <td>5393839</td>\n",
              "      <td>5158247</td>\n",
              "      <td>165987</td>\n",
              "      <td>61817</td>\n",
              "      <td>60543</td>\n",
              "      <td>2021-10-28</td>\n",
              "      <td>46.970698</td>\n",
              "      <td>53.029302</td>\n",
              "    </tr>\n",
              "    <tr>\n",
              "      <th>7</th>\n",
              "      <td>80-89</td>\n",
              "      <td>7541357</td>\n",
              "      <td>3148258</td>\n",
              "      <td>4393099</td>\n",
              "      <td>3451789</td>\n",
              "      <td>3388016</td>\n",
              "      <td>78350</td>\n",
              "      <td>36395</td>\n",
              "      <td>586807</td>\n",
              "      <td>2021-10-28</td>\n",
              "      <td>41.746572</td>\n",
              "      <td>58.253428</td>\n",
              "    </tr>\n",
              "    <tr>\n",
              "      <th>8</th>\n",
              "      <td>90+</td>\n",
              "      <td>1721375</td>\n",
              "      <td>514973</td>\n",
              "      <td>1206402</td>\n",
              "      <td>797161</td>\n",
              "      <td>768344</td>\n",
              "      <td>19234</td>\n",
              "      <td>6096</td>\n",
              "      <td>130540</td>\n",
              "      <td>2021-10-28</td>\n",
              "      <td>29.916375</td>\n",
              "      <td>70.083625</td>\n",
              "    </tr>\n",
              "  </tbody>\n",
              "</table>\n",
              "</div>"
            ],
            "text/plain": [
              "  fascia_anagrafica  ...  percentuale_sesso_femminile\n",
              "0             12-19  ...                    48.801863\n",
              "1             20-29  ...                    47.714704\n",
              "2             30-39  ...                    48.648801\n",
              "3             40-49  ...                    50.373294\n",
              "4             50-59  ...                    50.939923\n",
              "5             60-69  ...                    51.477391\n",
              "6             70-79  ...                    53.029302\n",
              "7             80-89  ...                    58.253428\n",
              "8               90+  ...                    70.083625\n",
              "\n",
              "[9 rows x 12 columns]"
            ]
          },
          "metadata": {},
          "execution_count": 38
        }
      ]
    },
    {
      "cell_type": "markdown",
      "metadata": {
        "id": "O1KhIBBWLMZl"
      },
      "source": [
        "7.visualizzare le fascie di eta in cui la percentuale di maschi vaccinati è maggiore della percentuale di quella femminile"
      ]
    },
    {
      "cell_type": "code",
      "metadata": {
        "colab": {
          "base_uri": "https://localhost:8080/"
        },
        "id": "7eXnXpkBNuXV",
        "outputId": "3f998896-f263-4228-c17d-c9e880dc7340"
      },
      "source": [
        "df.loc[df['sesso_maschile']>df['sesso_femminile'],'fascia_anagrafica']\n"
      ],
      "execution_count": null,
      "outputs": [
        {
          "output_type": "execute_result",
          "data": {
            "text/plain": [
              "0    12-19\n",
              "1    20-29\n",
              "2    30-39\n",
              "Name: fascia_anagrafica, dtype: object"
            ]
          },
          "metadata": {},
          "execution_count": 39
        }
      ]
    },
    {
      "cell_type": "markdown",
      "metadata": {
        "id": "g-gph8DQLa3f"
      },
      "source": [
        "8.visualizzare le fascie di eta dove la dose aggiuntiva è minore della dose booster"
      ]
    },
    {
      "cell_type": "code",
      "metadata": {
        "colab": {
          "base_uri": "https://localhost:8080/"
        },
        "id": "JEb2fQMMOtwF",
        "outputId": "edcf4931-145e-4e66-e13a-68ca8f26c416"
      },
      "source": [
        "df.loc[df['dose_aggiuntiva']>df['dose_booster'],'fascia_anagrafica']\n"
      ],
      "execution_count": null,
      "outputs": [
        {
          "output_type": "execute_result",
          "data": {
            "text/plain": [
              "0    12-19\n",
              "6    70-79\n",
              "Name: fascia_anagrafica, dtype: object"
            ]
          },
          "metadata": {},
          "execution_count": 40
        }
      ]
    },
    {
      "cell_type": "markdown",
      "metadata": {
        "id": "gF_eV3kOLj-u"
      },
      "source": [
        "9.sostituire al valore 90+ il valore 90-120"
      ]
    },
    {
      "cell_type": "code",
      "metadata": {
        "colab": {
          "base_uri": "https://localhost:8080/",
          "height": 351
        },
        "id": "5m5tAl6XO2t2",
        "outputId": "e8ff1d45-d5d0-45b1-af17-c55869a9cf06"
      },
      "source": [
        "df['fascia_anagrafica'] = df['fascia_anagrafica'].replace(['90+'],'90-120')\n",
        "df"
      ],
      "execution_count": null,
      "outputs": [
        {
          "output_type": "execute_result",
          "data": {
            "text/html": [
              "<div>\n",
              "<style scoped>\n",
              "    .dataframe tbody tr th:only-of-type {\n",
              "        vertical-align: middle;\n",
              "    }\n",
              "\n",
              "    .dataframe tbody tr th {\n",
              "        vertical-align: top;\n",
              "    }\n",
              "\n",
              "    .dataframe thead th {\n",
              "        text-align: right;\n",
              "    }\n",
              "</style>\n",
              "<table border=\"1\" class=\"dataframe\">\n",
              "  <thead>\n",
              "    <tr style=\"text-align: right;\">\n",
              "      <th></th>\n",
              "      <th>fascia_anagrafica</th>\n",
              "      <th>totale</th>\n",
              "      <th>sesso_maschile</th>\n",
              "      <th>sesso_femminile</th>\n",
              "      <th>prima_dose</th>\n",
              "      <th>seconda_dose</th>\n",
              "      <th>pregressa_infezione</th>\n",
              "      <th>dose_aggiuntiva</th>\n",
              "      <th>dose_booster</th>\n",
              "      <th>ultimo_aggiornamento</th>\n",
              "      <th>percentuale_sesso_maschile</th>\n",
              "      <th>percentuale_sesso_femminile</th>\n",
              "    </tr>\n",
              "  </thead>\n",
              "  <tbody>\n",
              "    <tr>\n",
              "      <th>0</th>\n",
              "      <td>12-19</td>\n",
              "      <td>6268693</td>\n",
              "      <td>3209454</td>\n",
              "      <td>3059239</td>\n",
              "      <td>3223185</td>\n",
              "      <td>2940568</td>\n",
              "      <td>103985</td>\n",
              "      <td>726</td>\n",
              "      <td>229</td>\n",
              "      <td>2021-10-28</td>\n",
              "      <td>51.198137</td>\n",
              "      <td>48.801863</td>\n",
              "    </tr>\n",
              "    <tr>\n",
              "      <th>1</th>\n",
              "      <td>20-29</td>\n",
              "      <td>9891343</td>\n",
              "      <td>5171718</td>\n",
              "      <td>4719625</td>\n",
              "      <td>5075497</td>\n",
              "      <td>4587980</td>\n",
              "      <td>198307</td>\n",
              "      <td>3952</td>\n",
              "      <td>25607</td>\n",
              "      <td>2021-10-28</td>\n",
              "      <td>52.285296</td>\n",
              "      <td>47.714704</td>\n",
              "    </tr>\n",
              "    <tr>\n",
              "      <th>2</th>\n",
              "      <td>30-39</td>\n",
              "      <td>10555697</td>\n",
              "      <td>5420477</td>\n",
              "      <td>5135220</td>\n",
              "      <td>5415036</td>\n",
              "      <td>4888959</td>\n",
              "      <td>205108</td>\n",
              "      <td>7605</td>\n",
              "      <td>38989</td>\n",
              "      <td>2021-10-28</td>\n",
              "      <td>51.351199</td>\n",
              "      <td>48.648801</td>\n",
              "    </tr>\n",
              "    <tr>\n",
              "      <th>3</th>\n",
              "      <td>40-49</td>\n",
              "      <td>13761536</td>\n",
              "      <td>6829397</td>\n",
              "      <td>6932139</td>\n",
              "      <td>6991305</td>\n",
              "      <td>6417692</td>\n",
              "      <td>283878</td>\n",
              "      <td>18727</td>\n",
              "      <td>49934</td>\n",
              "      <td>2021-10-28</td>\n",
              "      <td>49.626706</td>\n",
              "      <td>50.373294</td>\n",
              "    </tr>\n",
              "    <tr>\n",
              "      <th>4</th>\n",
              "      <td>50-59</td>\n",
              "      <td>15818591</td>\n",
              "      <td>7760613</td>\n",
              "      <td>8057978</td>\n",
              "      <td>8023900</td>\n",
              "      <td>7337139</td>\n",
              "      <td>346607</td>\n",
              "      <td>39896</td>\n",
              "      <td>71049</td>\n",
              "      <td>2021-10-28</td>\n",
              "      <td>49.060077</td>\n",
              "      <td>50.939923</td>\n",
              "    </tr>\n",
              "    <tr>\n",
              "      <th>5</th>\n",
              "      <td>60-69</td>\n",
              "      <td>12875027</td>\n",
              "      <td>6247299</td>\n",
              "      <td>6627728</td>\n",
              "      <td>6537683</td>\n",
              "      <td>5948012</td>\n",
              "      <td>241212</td>\n",
              "      <td>57677</td>\n",
              "      <td>90443</td>\n",
              "      <td>2021-10-28</td>\n",
              "      <td>48.522609</td>\n",
              "      <td>51.477391</td>\n",
              "    </tr>\n",
              "    <tr>\n",
              "      <th>6</th>\n",
              "      <td>70-79</td>\n",
              "      <td>10840433</td>\n",
              "      <td>5091827</td>\n",
              "      <td>5748606</td>\n",
              "      <td>5393839</td>\n",
              "      <td>5158247</td>\n",
              "      <td>165987</td>\n",
              "      <td>61817</td>\n",
              "      <td>60543</td>\n",
              "      <td>2021-10-28</td>\n",
              "      <td>46.970698</td>\n",
              "      <td>53.029302</td>\n",
              "    </tr>\n",
              "    <tr>\n",
              "      <th>7</th>\n",
              "      <td>80-89</td>\n",
              "      <td>7541357</td>\n",
              "      <td>3148258</td>\n",
              "      <td>4393099</td>\n",
              "      <td>3451789</td>\n",
              "      <td>3388016</td>\n",
              "      <td>78350</td>\n",
              "      <td>36395</td>\n",
              "      <td>586807</td>\n",
              "      <td>2021-10-28</td>\n",
              "      <td>41.746572</td>\n",
              "      <td>58.253428</td>\n",
              "    </tr>\n",
              "    <tr>\n",
              "      <th>8</th>\n",
              "      <td>90-120</td>\n",
              "      <td>1721375</td>\n",
              "      <td>514973</td>\n",
              "      <td>1206402</td>\n",
              "      <td>797161</td>\n",
              "      <td>768344</td>\n",
              "      <td>19234</td>\n",
              "      <td>6096</td>\n",
              "      <td>130540</td>\n",
              "      <td>2021-10-28</td>\n",
              "      <td>29.916375</td>\n",
              "      <td>70.083625</td>\n",
              "    </tr>\n",
              "  </tbody>\n",
              "</table>\n",
              "</div>"
            ],
            "text/plain": [
              "  fascia_anagrafica  ...  percentuale_sesso_femminile\n",
              "0             12-19  ...                    48.801863\n",
              "1             20-29  ...                    47.714704\n",
              "2             30-39  ...                    48.648801\n",
              "3             40-49  ...                    50.373294\n",
              "4             50-59  ...                    50.939923\n",
              "5             60-69  ...                    51.477391\n",
              "6             70-79  ...                    53.029302\n",
              "7             80-89  ...                    58.253428\n",
              "8            90-120  ...                    70.083625\n",
              "\n",
              "[9 rows x 12 columns]"
            ]
          },
          "metadata": {},
          "execution_count": 20
        }
      ]
    },
    {
      "cell_type": "markdown",
      "metadata": {
        "id": "l_j6pYKzLudG"
      },
      "source": [
        "10.creare un nuovo dataframe contenente le prime 10 fascie anagrafiche"
      ]
    },
    {
      "cell_type": "code",
      "metadata": {
        "colab": {
          "base_uri": "https://localhost:8080/",
          "height": 331
        },
        "id": "lYepaPH_PYN9",
        "outputId": "e6c089c4-fa3d-46aa-c59c-fc08cd6c0f51"
      },
      "source": [
        "lm = df[['fascia_anagrafica']].head(10)\n",
        "lm"
      ],
      "execution_count": null,
      "outputs": [
        {
          "output_type": "execute_result",
          "data": {
            "text/html": [
              "<div>\n",
              "<style scoped>\n",
              "    .dataframe tbody tr th:only-of-type {\n",
              "        vertical-align: middle;\n",
              "    }\n",
              "\n",
              "    .dataframe tbody tr th {\n",
              "        vertical-align: top;\n",
              "    }\n",
              "\n",
              "    .dataframe thead th {\n",
              "        text-align: right;\n",
              "    }\n",
              "</style>\n",
              "<table border=\"1\" class=\"dataframe\">\n",
              "  <thead>\n",
              "    <tr style=\"text-align: right;\">\n",
              "      <th></th>\n",
              "      <th>fascia_anagrafica</th>\n",
              "    </tr>\n",
              "  </thead>\n",
              "  <tbody>\n",
              "    <tr>\n",
              "      <th>0</th>\n",
              "      <td>12-19</td>\n",
              "    </tr>\n",
              "    <tr>\n",
              "      <th>1</th>\n",
              "      <td>20-29</td>\n",
              "    </tr>\n",
              "    <tr>\n",
              "      <th>2</th>\n",
              "      <td>30-39</td>\n",
              "    </tr>\n",
              "    <tr>\n",
              "      <th>3</th>\n",
              "      <td>40-49</td>\n",
              "    </tr>\n",
              "    <tr>\n",
              "      <th>4</th>\n",
              "      <td>50-59</td>\n",
              "    </tr>\n",
              "    <tr>\n",
              "      <th>5</th>\n",
              "      <td>60-69</td>\n",
              "    </tr>\n",
              "    <tr>\n",
              "      <th>6</th>\n",
              "      <td>70-79</td>\n",
              "    </tr>\n",
              "    <tr>\n",
              "      <th>7</th>\n",
              "      <td>80-89</td>\n",
              "    </tr>\n",
              "    <tr>\n",
              "      <th>8</th>\n",
              "      <td>90-120</td>\n",
              "    </tr>\n",
              "  </tbody>\n",
              "</table>\n",
              "</div>"
            ],
            "text/plain": [
              "  fascia_anagrafica\n",
              "0             12-19\n",
              "1             20-29\n",
              "2             30-39\n",
              "3             40-49\n",
              "4             50-59\n",
              "5             60-69\n",
              "6             70-79\n",
              "7             80-89\n",
              "8            90-120"
            ]
          },
          "metadata": {},
          "execution_count": 28
        }
      ]
    },
    {
      "cell_type": "markdown",
      "metadata": {
        "id": "ymaOsNmDL3fl"
      },
      "source": [
        "11.creare un nuovo dataframe contenete la fascia anagrafica e la prima e seconda dose"
      ]
    },
    {
      "cell_type": "code",
      "metadata": {
        "colab": {
          "base_uri": "https://localhost:8080/",
          "height": 331
        },
        "id": "jhZk_R_YPYtt",
        "outputId": "d58e73ef-e250-4651-e66a-de3fa6829a64"
      },
      "source": [
        "df1 = df[['fascia_anagrafica','prima_dose','seconda_dose']].head(10)\n",
        "df1"
      ],
      "execution_count": null,
      "outputs": [
        {
          "output_type": "execute_result",
          "data": {
            "text/html": [
              "<div>\n",
              "<style scoped>\n",
              "    .dataframe tbody tr th:only-of-type {\n",
              "        vertical-align: middle;\n",
              "    }\n",
              "\n",
              "    .dataframe tbody tr th {\n",
              "        vertical-align: top;\n",
              "    }\n",
              "\n",
              "    .dataframe thead th {\n",
              "        text-align: right;\n",
              "    }\n",
              "</style>\n",
              "<table border=\"1\" class=\"dataframe\">\n",
              "  <thead>\n",
              "    <tr style=\"text-align: right;\">\n",
              "      <th></th>\n",
              "      <th>fascia_anagrafica</th>\n",
              "      <th>prima_dose</th>\n",
              "      <th>seconda_dose</th>\n",
              "    </tr>\n",
              "  </thead>\n",
              "  <tbody>\n",
              "    <tr>\n",
              "      <th>0</th>\n",
              "      <td>12-19</td>\n",
              "      <td>3223185</td>\n",
              "      <td>2940568</td>\n",
              "    </tr>\n",
              "    <tr>\n",
              "      <th>1</th>\n",
              "      <td>20-29</td>\n",
              "      <td>5075497</td>\n",
              "      <td>4587980</td>\n",
              "    </tr>\n",
              "    <tr>\n",
              "      <th>2</th>\n",
              "      <td>30-39</td>\n",
              "      <td>5415036</td>\n",
              "      <td>4888959</td>\n",
              "    </tr>\n",
              "    <tr>\n",
              "      <th>3</th>\n",
              "      <td>40-49</td>\n",
              "      <td>6991305</td>\n",
              "      <td>6417692</td>\n",
              "    </tr>\n",
              "    <tr>\n",
              "      <th>4</th>\n",
              "      <td>50-59</td>\n",
              "      <td>8023900</td>\n",
              "      <td>7337139</td>\n",
              "    </tr>\n",
              "    <tr>\n",
              "      <th>5</th>\n",
              "      <td>60-69</td>\n",
              "      <td>6537683</td>\n",
              "      <td>5948012</td>\n",
              "    </tr>\n",
              "    <tr>\n",
              "      <th>6</th>\n",
              "      <td>70-79</td>\n",
              "      <td>5393839</td>\n",
              "      <td>5158247</td>\n",
              "    </tr>\n",
              "    <tr>\n",
              "      <th>7</th>\n",
              "      <td>80-89</td>\n",
              "      <td>3451789</td>\n",
              "      <td>3388016</td>\n",
              "    </tr>\n",
              "    <tr>\n",
              "      <th>8</th>\n",
              "      <td>90-120</td>\n",
              "      <td>797161</td>\n",
              "      <td>768344</td>\n",
              "    </tr>\n",
              "  </tbody>\n",
              "</table>\n",
              "</div>"
            ],
            "text/plain": [
              "  fascia_anagrafica  prima_dose  seconda_dose\n",
              "0             12-19     3223185       2940568\n",
              "1             20-29     5075497       4587980\n",
              "2             30-39     5415036       4888959\n",
              "3             40-49     6991305       6417692\n",
              "4             50-59     8023900       7337139\n",
              "5             60-69     6537683       5948012\n",
              "6             70-79     5393839       5158247\n",
              "7             80-89     3451789       3388016\n",
              "8            90-120      797161        768344"
            ]
          },
          "metadata": {},
          "execution_count": 27
        }
      ]
    },
    {
      "cell_type": "markdown",
      "metadata": {
        "id": "_wriAeVhMCt1"
      },
      "source": [
        "12.eliminare dal dataframe i dati relativi delle persone 40-69 anni"
      ]
    },
    {
      "cell_type": "code",
      "metadata": {
        "colab": {
          "base_uri": "https://localhost:8080/",
          "height": 257
        },
        "id": "fU571ftkPZsF",
        "outputId": "62399826-6139-448a-8ced-c11457252c98"
      },
      "source": [
        "df = df.drop([3,4,5])\n",
        "df"
      ],
      "execution_count": null,
      "outputs": [
        {
          "output_type": "execute_result",
          "data": {
            "text/html": [
              "<div>\n",
              "<style scoped>\n",
              "    .dataframe tbody tr th:only-of-type {\n",
              "        vertical-align: middle;\n",
              "    }\n",
              "\n",
              "    .dataframe tbody tr th {\n",
              "        vertical-align: top;\n",
              "    }\n",
              "\n",
              "    .dataframe thead th {\n",
              "        text-align: right;\n",
              "    }\n",
              "</style>\n",
              "<table border=\"1\" class=\"dataframe\">\n",
              "  <thead>\n",
              "    <tr style=\"text-align: right;\">\n",
              "      <th></th>\n",
              "      <th>fascia_anagrafica</th>\n",
              "      <th>totale</th>\n",
              "      <th>sesso_maschile</th>\n",
              "      <th>sesso_femminile</th>\n",
              "      <th>prima_dose</th>\n",
              "      <th>seconda_dose</th>\n",
              "      <th>pregressa_infezione</th>\n",
              "      <th>dose_aggiuntiva</th>\n",
              "      <th>dose_booster</th>\n",
              "      <th>ultimo_aggiornamento</th>\n",
              "      <th>percentuale_sesso_maschile</th>\n",
              "      <th>percentuale_sesso_femminile</th>\n",
              "    </tr>\n",
              "  </thead>\n",
              "  <tbody>\n",
              "    <tr>\n",
              "      <th>0</th>\n",
              "      <td>12-19</td>\n",
              "      <td>6268693</td>\n",
              "      <td>3209454</td>\n",
              "      <td>3059239</td>\n",
              "      <td>3223185</td>\n",
              "      <td>2940568</td>\n",
              "      <td>103985</td>\n",
              "      <td>726</td>\n",
              "      <td>229</td>\n",
              "      <td>2021-10-28</td>\n",
              "      <td>51.198137</td>\n",
              "      <td>48.801863</td>\n",
              "    </tr>\n",
              "    <tr>\n",
              "      <th>1</th>\n",
              "      <td>20-29</td>\n",
              "      <td>9891343</td>\n",
              "      <td>5171718</td>\n",
              "      <td>4719625</td>\n",
              "      <td>5075497</td>\n",
              "      <td>4587980</td>\n",
              "      <td>198307</td>\n",
              "      <td>3952</td>\n",
              "      <td>25607</td>\n",
              "      <td>2021-10-28</td>\n",
              "      <td>52.285296</td>\n",
              "      <td>47.714704</td>\n",
              "    </tr>\n",
              "    <tr>\n",
              "      <th>2</th>\n",
              "      <td>30-39</td>\n",
              "      <td>10555697</td>\n",
              "      <td>5420477</td>\n",
              "      <td>5135220</td>\n",
              "      <td>5415036</td>\n",
              "      <td>4888959</td>\n",
              "      <td>205108</td>\n",
              "      <td>7605</td>\n",
              "      <td>38989</td>\n",
              "      <td>2021-10-28</td>\n",
              "      <td>51.351199</td>\n",
              "      <td>48.648801</td>\n",
              "    </tr>\n",
              "    <tr>\n",
              "      <th>6</th>\n",
              "      <td>70-79</td>\n",
              "      <td>10840433</td>\n",
              "      <td>5091827</td>\n",
              "      <td>5748606</td>\n",
              "      <td>5393839</td>\n",
              "      <td>5158247</td>\n",
              "      <td>165987</td>\n",
              "      <td>61817</td>\n",
              "      <td>60543</td>\n",
              "      <td>2021-10-28</td>\n",
              "      <td>46.970698</td>\n",
              "      <td>53.029302</td>\n",
              "    </tr>\n",
              "    <tr>\n",
              "      <th>7</th>\n",
              "      <td>80-89</td>\n",
              "      <td>7541357</td>\n",
              "      <td>3148258</td>\n",
              "      <td>4393099</td>\n",
              "      <td>3451789</td>\n",
              "      <td>3388016</td>\n",
              "      <td>78350</td>\n",
              "      <td>36395</td>\n",
              "      <td>586807</td>\n",
              "      <td>2021-10-28</td>\n",
              "      <td>41.746572</td>\n",
              "      <td>58.253428</td>\n",
              "    </tr>\n",
              "    <tr>\n",
              "      <th>8</th>\n",
              "      <td>90+</td>\n",
              "      <td>1721375</td>\n",
              "      <td>514973</td>\n",
              "      <td>1206402</td>\n",
              "      <td>797161</td>\n",
              "      <td>768344</td>\n",
              "      <td>19234</td>\n",
              "      <td>6096</td>\n",
              "      <td>130540</td>\n",
              "      <td>2021-10-28</td>\n",
              "      <td>29.916375</td>\n",
              "      <td>70.083625</td>\n",
              "    </tr>\n",
              "  </tbody>\n",
              "</table>\n",
              "</div>"
            ],
            "text/plain": [
              "  fascia_anagrafica  ...  percentuale_sesso_femminile\n",
              "0             12-19  ...                    48.801863\n",
              "1             20-29  ...                    47.714704\n",
              "2             30-39  ...                    48.648801\n",
              "6             70-79  ...                    53.029302\n",
              "7             80-89  ...                    58.253428\n",
              "8               90+  ...                    70.083625\n",
              "\n",
              "[6 rows x 12 columns]"
            ]
          },
          "metadata": {},
          "execution_count": 41
        }
      ]
    },
    {
      "cell_type": "markdown",
      "metadata": {
        "id": "ooRVu_5TMLb9"
      },
      "source": [
        "13.eliminare dal dataframe le colonne sesso maschile e sesso femminile"
      ]
    },
    {
      "cell_type": "code",
      "metadata": {
        "colab": {
          "base_uri": "https://localhost:8080/",
          "height": 257
        },
        "id": "eJK0XT3YPaN9",
        "outputId": "06d6d0a4-eae9-4870-cb8d-d1cd1563eeef"
      },
      "source": [
        "df = df.drop(columns=['sesso_maschile','sesso_femminile'])\n",
        "df"
      ],
      "execution_count": null,
      "outputs": [
        {
          "output_type": "execute_result",
          "data": {
            "text/html": [
              "<div>\n",
              "<style scoped>\n",
              "    .dataframe tbody tr th:only-of-type {\n",
              "        vertical-align: middle;\n",
              "    }\n",
              "\n",
              "    .dataframe tbody tr th {\n",
              "        vertical-align: top;\n",
              "    }\n",
              "\n",
              "    .dataframe thead th {\n",
              "        text-align: right;\n",
              "    }\n",
              "</style>\n",
              "<table border=\"1\" class=\"dataframe\">\n",
              "  <thead>\n",
              "    <tr style=\"text-align: right;\">\n",
              "      <th></th>\n",
              "      <th>fascia_anagrafica</th>\n",
              "      <th>totale</th>\n",
              "      <th>prima_dose</th>\n",
              "      <th>seconda_dose</th>\n",
              "      <th>pregressa_infezione</th>\n",
              "      <th>dose_aggiuntiva</th>\n",
              "      <th>dose_booster</th>\n",
              "      <th>ultimo_aggiornamento</th>\n",
              "      <th>percentuale_sesso_maschile</th>\n",
              "      <th>percentuale_sesso_femminile</th>\n",
              "    </tr>\n",
              "  </thead>\n",
              "  <tbody>\n",
              "    <tr>\n",
              "      <th>0</th>\n",
              "      <td>12-19</td>\n",
              "      <td>6268693</td>\n",
              "      <td>3223185</td>\n",
              "      <td>2940568</td>\n",
              "      <td>103985</td>\n",
              "      <td>726</td>\n",
              "      <td>229</td>\n",
              "      <td>2021-10-28</td>\n",
              "      <td>51.198137</td>\n",
              "      <td>48.801863</td>\n",
              "    </tr>\n",
              "    <tr>\n",
              "      <th>1</th>\n",
              "      <td>20-29</td>\n",
              "      <td>9891343</td>\n",
              "      <td>5075497</td>\n",
              "      <td>4587980</td>\n",
              "      <td>198307</td>\n",
              "      <td>3952</td>\n",
              "      <td>25607</td>\n",
              "      <td>2021-10-28</td>\n",
              "      <td>52.285296</td>\n",
              "      <td>47.714704</td>\n",
              "    </tr>\n",
              "    <tr>\n",
              "      <th>2</th>\n",
              "      <td>30-39</td>\n",
              "      <td>10555697</td>\n",
              "      <td>5415036</td>\n",
              "      <td>4888959</td>\n",
              "      <td>205108</td>\n",
              "      <td>7605</td>\n",
              "      <td>38989</td>\n",
              "      <td>2021-10-28</td>\n",
              "      <td>51.351199</td>\n",
              "      <td>48.648801</td>\n",
              "    </tr>\n",
              "    <tr>\n",
              "      <th>6</th>\n",
              "      <td>70-79</td>\n",
              "      <td>10840433</td>\n",
              "      <td>5393839</td>\n",
              "      <td>5158247</td>\n",
              "      <td>165987</td>\n",
              "      <td>61817</td>\n",
              "      <td>60543</td>\n",
              "      <td>2021-10-28</td>\n",
              "      <td>46.970698</td>\n",
              "      <td>53.029302</td>\n",
              "    </tr>\n",
              "    <tr>\n",
              "      <th>7</th>\n",
              "      <td>80-89</td>\n",
              "      <td>7541357</td>\n",
              "      <td>3451789</td>\n",
              "      <td>3388016</td>\n",
              "      <td>78350</td>\n",
              "      <td>36395</td>\n",
              "      <td>586807</td>\n",
              "      <td>2021-10-28</td>\n",
              "      <td>41.746572</td>\n",
              "      <td>58.253428</td>\n",
              "    </tr>\n",
              "    <tr>\n",
              "      <th>8</th>\n",
              "      <td>90+</td>\n",
              "      <td>1721375</td>\n",
              "      <td>797161</td>\n",
              "      <td>768344</td>\n",
              "      <td>19234</td>\n",
              "      <td>6096</td>\n",
              "      <td>130540</td>\n",
              "      <td>2021-10-28</td>\n",
              "      <td>29.916375</td>\n",
              "      <td>70.083625</td>\n",
              "    </tr>\n",
              "  </tbody>\n",
              "</table>\n",
              "</div>"
            ],
            "text/plain": [
              "  fascia_anagrafica  ...  percentuale_sesso_femminile\n",
              "0             12-19  ...                    48.801863\n",
              "1             20-29  ...                    47.714704\n",
              "2             30-39  ...                    48.648801\n",
              "6             70-79  ...                    53.029302\n",
              "7             80-89  ...                    58.253428\n",
              "8               90+  ...                    70.083625\n",
              "\n",
              "[6 rows x 10 columns]"
            ]
          },
          "metadata": {},
          "execution_count": 42
        }
      ]
    }
  ]
}
