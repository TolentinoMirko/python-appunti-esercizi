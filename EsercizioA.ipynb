{
  "nbformat": 4,
  "nbformat_minor": 0,
  "metadata": {
    "colab": {
      "name": "EsercizioA.ipynb",
      "provenance": [],
      "collapsed_sections": []
    },
    "kernelspec": {
      "name": "python3",
      "display_name": "Python 3"
    },
    "language_info": {
      "name": "python"
    }
  },
  "cells": [
    {
      "cell_type": "markdown",
      "metadata": {
        "id": "D-9xoIAaHffr"
      },
      "source": [
        "es : 1"
      ]
    },
    {
      "cell_type": "code",
      "metadata": {
        "colab": {
          "base_uri": "https://localhost:8080/"
        },
        "id": "XpBKUduZHfK7",
        "outputId": "3e4b3baf-e135-43bf-f56b-d78942d94532"
      },
      "source": [
        "data = 'gg/mm/aaaa'\n",
        "print(data.split('/'))"
      ],
      "execution_count": null,
      "outputs": [
        {
          "output_type": "stream",
          "name": "stdout",
          "text": [
            "['gg', 'mm', 'aaaa']\n"
          ]
        }
      ]
    },
    {
      "cell_type": "markdown",
      "metadata": {
        "id": "KGWra5wAnGkH"
      },
      "source": [
        "es 2:"
      ]
    },
    {
      "cell_type": "code",
      "metadata": {
        "colab": {
          "base_uri": "https://localhost:8080/"
        },
        "id": "6tdjpxYvlmT3",
        "outputId": "c76514cf-d757-49dd-c27e-e0164498a955"
      },
      "source": [
        "num = int(input('Inserire num : '))\n",
        "if num%2==1:\n",
        "  print('e un numero dispari')\n",
        "else:\n",
        "  print('NON e un numero dipari')\n",
        "\n",
        "if num%5==0:\n",
        "  print('il numero e divsibile per 5')\n",
        "else:\n",
        "  print('il numero NON e divisibile per 5')"
      ],
      "execution_count": null,
      "outputs": [
        {
          "output_type": "stream",
          "name": "stdout",
          "text": [
            "Inserire num : 15\n",
            "e un numero dispari\n",
            "il numero e divsibile per 5\n"
          ]
        }
      ]
    },
    {
      "cell_type": "markdown",
      "metadata": {
        "id": "mRPYbYx9nKPe"
      },
      "source": [
        "es 3:"
      ]
    },
    {
      "cell_type": "code",
      "metadata": {
        "colab": {
          "base_uri": "https://localhost:8080/"
        },
        "id": "5szfLJQcnMOO",
        "outputId": "c542a23e-098c-45fb-fe33-82cd54257f12"
      },
      "source": [
        "nome = input('inserire nome : ')\n",
        "if nome[0] == nome[-1]:\n",
        "  print('il nome ha la stessa lettera come inizio e fine')\n",
        "else:\n",
        "  print('no')"
      ],
      "execution_count": null,
      "outputs": [
        {
          "output_type": "stream",
          "name": "stdout",
          "text": [
            "inserire nome : dead\n",
            "il nome ha la stessa lettera come inizio e fine\n"
          ]
        }
      ]
    },
    {
      "cell_type": "markdown",
      "metadata": {
        "id": "JP52_BiunyaQ"
      },
      "source": [
        "es 4:"
      ]
    },
    {
      "cell_type": "code",
      "metadata": {
        "colab": {
          "base_uri": "https://localhost:8080/"
        },
        "id": "6QFdK8CNn94W",
        "outputId": "96bdd43b-8c2a-4e52-cab0-2212c474e879"
      },
      "source": [
        "NomEl = input('inserire lettera da togliere')\n",
        "lista = ['Angiolieri','Barbarossa','Cavalcanti','Dante']\n",
        "for i in lista:\n",
        "  if NomEl == i[-1]:\n",
        "    i.replace(NomeEl,'')\n",
        "print(lista)  "
      ],
      "execution_count": null,
      "outputs": [
        {
          "output_type": "stream",
          "name": "stdout",
          "text": [
            "inserire lettera da togliereB\n",
            "['Angiolieri', 'Barbarossa', 'Cavalcanti', 'Dante']\n"
          ]
        }
      ]
    },
    {
      "cell_type": "markdown",
      "metadata": {
        "id": "XlZOwd64qutP"
      },
      "source": [
        "es 5:"
      ]
    },
    {
      "cell_type": "code",
      "metadata": {
        "colab": {
          "base_uri": "https://localhost:8080/"
        },
        "id": "y_I1oOmZvON2",
        "outputId": "a0fa2dfb-bb33-4bd3-f89f-b6444504aac2"
      },
      "source": [
        "nome = input('inserisci nome : ')\n",
        "def vocal(text):\n",
        "        for i in \"aeiouAEIOU\":\n",
        "            text = text.replace(i,\"\")\n",
        "        return text\n",
        "\n",
        "print(vocal(nome))"
      ],
      "execution_count": null,
      "outputs": [
        {
          "output_type": "stream",
          "name": "stdout",
          "text": [
            "inserisci nome : lollo\n",
            "lll\n"
          ]
        }
      ]
    },
    {
      "cell_type": "markdown",
      "metadata": {
        "id": "WZxNky3rwIw2"
      },
      "source": [
        "es 6:"
      ]
    },
    {
      "cell_type": "code",
      "metadata": {
        "id": "HubVq2k6wLzF",
        "colab": {
          "base_uri": "https://localhost:8080/"
        },
        "outputId": "cd3c8675-be25-4ff0-d77d-cc9c5e0e16a9"
      },
      "source": [
        "def vocal(text):\n",
        "        for i in \"aeiouAEIOU\":\n",
        "            text = text.replace(i,\"\")\n",
        "        return text\n",
        "\n",
        "\n",
        "frase = input('inserisci frase : ')\n",
        "def noVoc(y):\n",
        "  for i in y:\n",
        "    return vocal(y)\n",
        "print(noVoc(frase))"
      ],
      "execution_count": null,
      "outputs": [
        {
          "output_type": "stream",
          "name": "stdout",
          "text": [
            "inserisci frase : La mamma di bono e uscita\n",
            "L mmm d bn  sct\n"
          ]
        }
      ]
    },
    {
      "cell_type": "markdown",
      "metadata": {
        "id": "8fY4MDquJFar"
      },
      "source": [
        "7.scrivere un programma che utilizzando una lambda function  sostituisca ad ogni elemento di una lista di parole la lunghezza delle parole stesse. Ad esempio se la lista fosse [‘mamma’, ‘stella’, ‘casa’] la lista finale dovrebbe essere [5, 5, 4]\n"
      ]
    },
    {
      "cell_type": "code",
      "metadata": {
        "colab": {
          "base_uri": "https://localhost:8080/"
        },
        "id": "6VXUcF8tJKwf",
        "outputId": "3ad0cdd3-c49a-4788-b587-660585f2fdd6"
      },
      "source": [
        "listacose = [str(s)for s in input('Inserisci numeri : ').split()]\n",
        "\n",
        "conta = list(map(lambda x: len(x),listacose))  #list crea una lista nella funzione\n",
        "print(conta)"
      ],
      "execution_count": null,
      "outputs": [
        {
          "output_type": "stream",
          "name": "stdout",
          "text": [
            "Inserisci numeri : mamma sol re\n",
            "[5, 3, 2]\n"
          ]
        }
      ]
    },
    {
      "cell_type": "markdown",
      "metadata": {
        "id": "n0S5Qo2TNxWj"
      },
      "source": [
        "8.scrivere un programma che utilizzando una lambda function elimini da una lista di parole tutte quelle più corte di un valore inserito dall’utente.  Ad esempio se la lista fosse [‘tre’, ‘stella’, ‘casa’] e l’utente inserisse il valore 5, la lista finale dovrebbe essere [‘stella’]\n"
      ]
    },
    {
      "cell_type": "code",
      "metadata": {
        "colab": {
          "base_uri": "https://localhost:8080/"
        },
        "id": "Irmn84pQOV9-",
        "outputId": "7a2d0db5-9442-494c-dca5-535e48356de7"
      },
      "source": [
        "num = int(input('Inserire quantita da eliminare : '))\n",
        "elim = list(filter(lambda x: len(x) > num,listacose))\n",
        "print(elim)"
      ],
      "execution_count": null,
      "outputs": [
        {
          "output_type": "stream",
          "name": "stdout",
          "text": [
            "Inserire quantita da eliminare : 3\n",
            "['mamma']\n"
          ]
        }
      ]
    },
    {
      "cell_type": "markdown",
      "metadata": {
        "id": "HNsGFFtiQF_z"
      },
      "source": [
        "9.MilanoSport propone corsi di nuoto e vuole memorizzare i nomi dei corsi e i cognomi delle persone che partecipano a quel corso. Caricare in una struttura dati apposita i nomi dei corsi (solo due nomi) e i cognomi dei partecipanti (solo due cognomi) e permettere di avere i cognomi dei partecipanti di un determinato corso inserito dall’utente"
      ]
    },
    {
      "cell_type": "code",
      "metadata": {
        "colab": {
          "base_uri": "https://localhost:8080/"
        },
        "id": "ntsYEoMeQGyf",
        "outputId": "18c0ebdc-3f41-4a99-96e0-7cd0f37db1f7"
      },
      "source": [
        "MilanoSport = [\n",
        "         {'corso':'pallavolo','iscritti':['manda','rino']},\n",
        "         {'corso':'pallanuoco','iscritti':['aran','ciata']}\n",
        "]\n",
        "corso = input()\n",
        "for dictionary in MilanoSport:\n",
        "  if dictionary['corso']==corso:\n",
        "    print(dictionary['iscritti'])\n",
        "  elif  dictionary['corso']!=corso:\n",
        "    print('non ci sono corsi')"
      ],
      "execution_count": null,
      "outputs": [
        {
          "output_type": "stream",
          "name": "stdout",
          "text": [
            "calcio\n",
            "non ci sono corsi\n",
            "non ci sono corsi\n"
          ]
        }
      ]
    },
    {
      "cell_type": "code",
      "metadata": {
        "colab": {
          "base_uri": "https://localhost:8080/"
        },
        "id": "N1BWW06HJlbn",
        "outputId": "a2506142-d3ce-49ef-da7d-85926ffdc42b"
      },
      "source": [
        "\n",
        "lista = [i for i in range(0,100) if i%2==0]\n",
        "for n,i in enumerate(lista):\n",
        "  if i%6==0:\n",
        "    lista[n] = 0\n",
        "print(lista)"
      ],
      "execution_count": null,
      "outputs": [
        {
          "output_type": "stream",
          "name": "stdout",
          "text": [
            "[0, 2, 4, 0, 8, 10, 0, 14, 16, 0, 20, 22, 0, 26, 28, 0, 32, 34, 0, 38, 40, 0, 44, 46, 0, 50, 52, 0, 56, 58, 0, 62, 64, 0, 68, 70, 0, 74, 76, 0, 80, 82, 0, 86, 88, 0, 92, 94, 0, 98]\n"
          ]
        }
      ]
    },
    {
      "cell_type": "code",
      "metadata": {
        "colab": {
          "base_uri": "https://localhost:8080/"
        },
        "id": "krxhR2MJMG-h",
        "outputId": "96ea0d5c-7ecc-418c-c03e-9b412109c1c3"
      },
      "source": [
        "num = int(input())\n",
        "lista1 = [i for i in range(0,102) if i%2==0]\n",
        "for n,i in enumerate(lista1):\n",
        "  if i < num:\n",
        "    lista1.remove(lista1[i]) \n",
        "print(lista1)"
      ],
      "execution_count": null,
      "outputs": [
        {
          "output_type": "stream",
          "name": "stdout",
          "text": [
            "20\n",
            "[2, 4, 6, 8, 12, 14, 18, 20, 24, 26, 28, 30, 34, 36, 40, 42, 44, 46, 50, 52, 54, 56, 58, 60, 62, 64, 66, 68, 70, 72, 74, 76, 78, 80, 82, 84, 86, 88, 90, 92, 94, 96, 98, 100]\n"
          ]
        }
      ]
    },
    {
      "cell_type": "code",
      "metadata": {
        "colab": {
          "base_uri": "https://localhost:8080/"
        },
        "id": "wvp-wB3MNqPg",
        "outputId": "4d658913-7f61-4b41-955d-984f9513ff0e"
      },
      "source": [
        "num = int(input())\n",
        "lista = []\n",
        "for i in range(0,num):\n",
        " \n",
        "    lista.append(10*i)\n",
        "print(lista)"
      ],
      "execution_count": null,
      "outputs": [
        {
          "output_type": "stream",
          "name": "stdout",
          "text": [
            "10\n",
            "[0, 10, 20, 30, 40, 50, 60, 70, 80, 90]\n"
          ]
        }
      ]
    },
    {
      "cell_type": "code",
      "metadata": {
        "id": "IYYo_He_QEFJ"
      },
      "source": [
        "def volumeCubo(x):\n",
        "  return x**3\n",
        "def pesoCubo(x,y):\n",
        "  return x/100 "
      ],
      "execution_count": null,
      "outputs": []
    }
  ]
}