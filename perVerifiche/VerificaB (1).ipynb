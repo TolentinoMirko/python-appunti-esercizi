{
  "nbformat": 4,
  "nbformat_minor": 0,
  "metadata": {
    "colab": {
      "name": "VerificaB.ipynb",
      "provenance": [],
      "collapsed_sections": []
    },
    "kernelspec": {
      "name": "python3",
      "display_name": "Python 3"
    },
    "language_info": {
      "name": "python"
    }
  },
  "cells": [
    {
      "cell_type": "markdown",
      "metadata": {
        "id": "KDgSLxDWQQhl"
      },
      "source": [
        "1.Scrivere un programma che permetta di convertire un peso da kg in libbre. L’utente inserisce il peso in kg e il programma calcola il peso corrispondente nell’altra unità di misura.\n"
      ]
    },
    {
      "cell_type": "code",
      "metadata": {
        "colab": {
          "base_uri": "https://localhost:8080/"
        },
        "id": "Y-YG24tJQedM",
        "outputId": "a4079bdb-9aca-40a6-84bf-4ee89c9ed800"
      },
      "source": [
        "kg = float(input('Inserire il peso : '))\n",
        "libre = kg * 2.2046\n",
        "print(libre)"
      ],
      "execution_count": null,
      "outputs": [
        {
          "output_type": "stream",
          "name": "stdout",
          "text": [
            "Inserire il peso : 2\n",
            "4.4092\n"
          ]
        }
      ]
    },
    {
      "cell_type": "markdown",
      "metadata": {
        "id": "do69ZHnXRL2b"
      },
      "source": [
        "2.Scrivere un programma che permetta di verificare se un indirizzo mail contiene il carattere @. L’utente inserisce l’indirizzo e il programma restituisce il messaggio “indirizzo corretto” se il carattere è presente” o “indirizzo errato” se "
      ]
    },
    {
      "cell_type": "code",
      "metadata": {
        "colab": {
          "base_uri": "https://localhost:8080/"
        },
        "id": "AwGGJVUkRPAT",
        "outputId": "a445f35b-0e1f-4237-ee99-4fe0e35f56bc"
      },
      "source": [
        "indirizzo = input('Inserire indirizzo email : ')\n",
        "if '@' in indirizzo:\n",
        "  if '@' in indirizzo[0] or '@' in indirizzo[-1]: \n",
        "    print('Indirizzo errato')\n",
        "  else:\n",
        "    print('indirizzo corretto')  \n",
        "else:\n",
        "  print('indirizzo errato')"
      ],
      "execution_count": null,
      "outputs": [
        {
          "output_type": "stream",
          "name": "stdout",
          "text": [
            "Inserire indirizzo email : @nnsocmchiamarlo.com\n",
            "Indirizzo errato\n"
          ]
        }
      ]
    },
    {
      "cell_type": "markdown",
      "metadata": {
        "id": "2zrK82heR6de"
      },
      "source": [
        "3.Scrivere un programma che visualizzi l’inverso dei primi n numeri interi con n inserito dall’utente. Per esempio, se l’utente inserisse il valore 4 il programma dovrebbe visualizzare i valori 1 (1:1), 0,5 (1:2), 0,33333 (1:3) e 0.25 (1:4). Separare i valori visualizzati con una virgola.\n",
        "\n"
      ]
    },
    {
      "cell_type": "code",
      "metadata": {
        "colab": {
          "base_uri": "https://localhost:8080/"
        },
        "id": "5mNBbPyMSeqM",
        "outputId": "9214abf8-3289-4297-a182-a89298074d23"
      },
      "source": [
        "n = int(input('Inserire numero : '))\n",
        "listanum = [1/i for i in range(1,n+1)]\n",
        "print(listanum)"
      ],
      "execution_count": null,
      "outputs": [
        {
          "output_type": "stream",
          "name": "stdout",
          "text": [
            "Inserire numero : 4\n",
            "[1.0, 0.5, 0.3333333333333333, 0.25]\n"
          ]
        }
      ]
    },
    {
      "cell_type": "markdown",
      "metadata": {
        "id": "ovrO44-gUoA7"
      },
      "source": [
        "4.scrivere un programma che carichi in una lista i primi 100 numeri interi dispari. Al termine visualizzare gli ultimi 10 numeri della lista.\n"
      ]
    },
    {
      "cell_type": "code",
      "metadata": {
        "colab": {
          "base_uri": "https://localhost:8080/"
        },
        "id": "abz075B8Urjk",
        "outputId": "a2b54cb9-7ab3-46aa-885b-f683d9aee5a1"
      },
      "source": [
        "lista = []\n",
        "for i in range(100):\n",
        "  if  i%2==1:\n",
        "    lista.append(i)\n",
        "print(lista[-10:])    "
      ],
      "execution_count": null,
      "outputs": [
        {
          "output_type": "stream",
          "name": "stdout",
          "text": [
            "[81, 83, 85, 87, 89, 91, 93, 95, 97, 99]\n"
          ]
        }
      ]
    },
    {
      "cell_type": "markdown",
      "metadata": {
        "id": "JgkrbfW1VtZT"
      },
      "source": [
        "5.scrivere un programma che elimini dalla lista precedente gli ultimi 10 elementi. Visualizzare al termine la lista modificata.\n"
      ]
    },
    {
      "cell_type": "code",
      "metadata": {
        "colab": {
          "base_uri": "https://localhost:8080/"
        },
        "id": "Xn53WZBDWCE7",
        "outputId": "5aaae63f-080f-436a-e329-a1bf91d0a816"
      },
      "source": [
        "lista = lista[:]\n",
        "for i in lista[-10:]:\n",
        "  lista.remove(i)\n",
        "print(lista)"
      ],
      "execution_count": null,
      "outputs": [
        {
          "output_type": "stream",
          "name": "stdout",
          "text": [
            "[1, 3, 5, 7, 9, 11, 13, 15, 17, 19, 21, 23, 25, 27, 29, 31, 33, 35, 37, 39, 41, 43, 45, 47, 49, 51, 53, 55, 57, 59, 61, 63, 65, 67, 69, 71, 73, 75, 77]\n"
          ]
        }
      ]
    },
    {
      "cell_type": "markdown",
      "metadata": {
        "id": "cfCk_y4oXgfL"
      },
      "source": [
        "6.scrivere una funzione che data una lista formata da un numero pari di elementi restituisca la lista con gli elementi scambiati a due a due. Ad esempio se la lista di partenza fosse [1, 2, 3, 4, 5, 6] la lista da restituire sarebbe [2, 1, 4, 3, 6, 5]\n"
      ]
    },
    {
      "cell_type": "code",
      "metadata": {
        "id": "_pTYGuP3XjSi",
        "colab": {
          "base_uri": "https://localhost:8080/"
        },
        "outputId": "f9d1c732-d6a8-4553-f18a-e062d5123a10"
      },
      "source": [
        "listaPari = [2,4,6,8,10]\n",
        "def scambia(x):\n",
        "  a = x[:]\n",
        "  for i in range(0,len(x),2):\n",
        "    a[i] = x[i+1]\n",
        "    a[i+1] = x[i]\n",
        "    return a\n",
        "print(scambia(listaPari))"
      ],
      "execution_count": null,
      "outputs": [
        {
          "output_type": "stream",
          "name": "stdout",
          "text": [
            "[4, 2, 6, 8, 10]\n"
          ]
        }
      ]
    },
    {
      "cell_type": "markdown",
      "metadata": {
        "id": "weL8ff8_YMk0"
      },
      "source": [
        "7.scrivere un programma che permetta di caricare in una struttura dati opportuna i nomi delle regioni italiane, i loro capoluoghi e la popolazione (inserire solo tre regioni). Visualizzare poi i dati di una regione inserita dall’utente\n"
      ]
    },
    {
      "cell_type": "code",
      "metadata": {
        "id": "Kzsno9f7YOYT",
        "colab": {
          "base_uri": "https://localhost:8080/"
        },
        "outputId": "8cef4053-5c8c-4639-a773-f178a4b8d5fc"
      },
      "source": [
        "regioniIta = [{'nome':'Lombardia','capoluogo':'Milano','popolazione':'10M'},\n",
        "                 {'nome':'Piemonte','capoluogo':'Torino','popolazione':'4,3M'},\n",
        "                 {'nome':'Lazio','capoluogo':'Roma','popolazione':'5,8M'}]\n",
        "Nome = input('Inserire : ')\n",
        "for regione in regioniIta:\n",
        "  if regione['nome'] == Nome:\n",
        "    print(regione['capoluogo'],regione['popolazione'])\n",
        "  \n",
        " \n"
      ],
      "execution_count": null,
      "outputs": [
        {
          "output_type": "stream",
          "name": "stdout",
          "text": [
            "Inserire : Piemonte\n",
            "Torino 4,3M\n"
          ]
        }
      ]
    },
    {
      "cell_type": "markdown",
      "metadata": {
        "id": "Dd2yw4aCZJNE"
      },
      "source": [
        "8.scrivere un programma che, utilizzando una lambda function e la funzione filter, elimini da una lista inserita dall’utente tutti gli elementi dispari. Al termine, visualizzare la lista modificata"
      ]
    },
    {
      "cell_type": "code",
      "metadata": {
        "colab": {
          "base_uri": "https://localhost:8080/"
        },
        "id": "mHUmmUoXZ16W",
        "outputId": "a14b2fa1-fc91-4a0d-9284-b62dcce66f09"
      },
      "source": [
        "lista1 = [int(s)for s in input('Inserisci numeri : ').split()]\n",
        "noDisp = list(filter(lambda x:(x%2==0),lista1))\n",
        "print(noDisp)"
      ],
      "execution_count": null,
      "outputs": [
        {
          "output_type": "stream",
          "name": "stdout",
          "text": [
            "Inserisci numeri : 1 2 3 4 5 6\n",
            "[2, 4, 6]\n"
          ]
        }
      ]
    },
    {
      "cell_type": "markdown",
      "metadata": {
        "id": "1AZYjICia1kj"
      },
      "source": [
        "9.scrivere una funzione che, in modo ricorsivo, calcoli la somma dei primi n numeri interi, con n inserito dall’utente. Ad esempio se l’utente inserisse 5 il programma dovrebbe restituire il valore 15 (5+4+3+2+1=15)\n"
      ]
    },
    {
      "cell_type": "code",
      "metadata": {
        "id": "8alqJ3mVbBW8",
        "colab": {
          "base_uri": "https://localhost:8080/"
        },
        "outputId": "eaef16cb-bc49-4663-c10e-27bcc27c2d9a"
      },
      "source": [
        "numero = int(input('Inserire numero : '))\n",
        "def numPr(x):\n",
        "  if x == 0:\n",
        "    return 0\n",
        "  else:\n",
        "    return x + numPr(x-1)\n",
        "print(numPr(numero))    "
      ],
      "execution_count": null,
      "outputs": [
        {
          "output_type": "stream",
          "name": "stdout",
          "text": [
            "Inserire numero : 5\n",
            "15\n"
          ]
        }
      ]
    }
  ]
}
