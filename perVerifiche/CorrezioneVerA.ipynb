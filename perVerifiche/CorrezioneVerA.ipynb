{
  "nbformat": 4,
  "nbformat_minor": 0,
  "metadata": {
    "colab": {
      "name": "CorrezioneVerA.ipynb",
      "provenance": []
    },
    "kernelspec": {
      "name": "python3",
      "display_name": "Python 3"
    },
    "language_info": {
      "name": "python"
    }
  },
  "cells": [
    {
      "cell_type": "markdown",
      "metadata": {
        "id": "pWqzeedr01eK"
      },
      "source": [
        "1. scrivere un programma che calcoli la somma di due frazioni. L’utente deve inserire il numeratore e il denominatore della prima frazione e poi numeratore e denominatore della seconda frazione e il programma calcola la somma."
      ]
    },
    {
      "cell_type": "code",
      "metadata": {
        "colab": {
          "base_uri": "https://localhost:8080/"
        },
        "id": "Xlc13hoB04Dx",
        "outputId": "5acface5-5a6b-4317-e95d-f79e9d3f77f1"
      },
      "source": [
        "n1 = int(input('Inserire n1 : '))\n",
        "d1 = int(input('Inserire d1 : '))\n",
        "n2 = int(input('Inserire d2 : '))\n",
        "d2 = int(input('Inserire d2 : '))\n",
        "print(str(n1*d2+n2*d1)+'/'+str(d1*d2))"
      ],
      "execution_count": null,
      "outputs": [
        {
          "output_type": "stream",
          "name": "stdout",
          "text": [
            "Inserire n1 : 1\n",
            "Inserire d1 : 2\n",
            "Inserire d2 : 2\n",
            "Inserire d2 : 3\n",
            "7/6\n"
          ]
        }
      ]
    },
    {
      "cell_type": "markdown",
      "metadata": {
        "id": "z5qlcfuW3GRB"
      },
      "source": [
        "2.scrivere un programma che permetta di verificare se un orario è scritto correttamente. Un orario è scritto correttamente se è formato da 5 caratteri di cui il terzo è il carattere : . Ad esempio 13:45 è scritto correttamente 123:4 non è scritto correttamente.\n"
      ]
    },
    {
      "cell_type": "code",
      "metadata": {
        "colab": {
          "base_uri": "https://localhost:8080/"
        },
        "id": "q1tdlnwV3XGQ",
        "outputId": "715b7a22-12b3-446a-8bcf-eb05114358f8"
      },
      "source": [
        "orario = input(\"Inserire un orario =\")\n",
        "if len(orario) == 5:\n",
        "  if orario[2] == \":\":\n",
        "   print(\"Orario corretto\")\n",
        "  else:\n",
        "    print(\"Orario sbagliato\")\n",
        "else:\n",
        "    print(\"Orario sbaglia\")"
      ],
      "execution_count": null,
      "outputs": [
        {
          "output_type": "stream",
          "name": "stdout",
          "text": [
            "Inserire un orario =23:69\n",
            "Orario corretto\n"
          ]
        }
      ]
    },
    {
      "cell_type": "markdown",
      "metadata": {
        "id": "d-jlNl1y634x"
      },
      "source": [
        "3.scrivere un programma che visualizzi le prime dieci potenze di un numero inserito dall’utente. Ad esempio se l’utente inserisse 2 il programma dovrebbe visualizzare i valori 1, 2, 4, 8, 16, 32, 64, 128, 256 e 512. Separare i valori con il trattino -\n"
      ]
    },
    {
      "cell_type": "code",
      "metadata": {
        "id": "BoayOOmx68Pw"
      },
      "source": [
        "numero = int(input(\"Inserire numero : \"))\n",
        "potenze = []\n",
        "for i in range(0,10):\n",
        "  potenze.append(numero**i)\n",
        "print(potenze)"
      ],
      "execution_count": null,
      "outputs": []
    },
    {
      "cell_type": "markdown",
      "metadata": {
        "id": "n0YpMWgW9QE5"
      },
      "source": [
        "4.scrivere un programma che carichi in una lista le prime venti potenze di un numero inserito dall’utente. Al termine visualizzare gli ultimi tre elementi della lista.\n"
      ]
    },
    {
      "cell_type": "code",
      "metadata": {
        "colab": {
          "base_uri": "https://localhost:8080/"
        },
        "id": "a8vbLY259Uih",
        "outputId": "bde2baf9-b017-42b7-ca96-2037439f218a"
      },
      "source": [
        "numero = int(input(\"Inserire numero : \"))\n",
        "potenze = []\n",
        "for i in range(0,20):\n",
        "  potenze.append(numero**i)\n",
        "print(potenze[17:20])\n",
        "\n"
      ],
      "execution_count": null,
      "outputs": [
        {
          "output_type": "stream",
          "name": "stdout",
          "text": [
            "Inserire numero : 2\n",
            "[131072, 262144, 524288]\n"
          ]
        }
      ]
    },
    {
      "cell_type": "code",
      "metadata": {
        "colab": {
          "base_uri": "https://localhost:8080/"
        },
        "id": "Ve2Z8iRH9xTA",
        "outputId": "6094e745-53ca-48d0-9704-418f47424467"
      },
      "source": [
        "numero1 = int(input(\"Inserire numero : \"))\n",
        "potenze1 = [numero**i for i in range(20)] #nella LIST COMP. prima del for si mettono le operazioni che si vuole eseguire e dopo il for le condizioni \n",
        "print(potenze1)                           #se queste condizioni sono soddisfatte allora si esegue l'operazione"
      ],
      "execution_count": null,
      "outputs": [
        {
          "output_type": "stream",
          "name": "stdout",
          "text": [
            "Inserire numero : 2\n",
            "[1, 2, 4, 8, 16, 32, 64, 128, 256, 512, 1024, 2048, 4096, 8192, 16384, 32768, 65536, 131072, 262144, 524288]\n"
          ]
        }
      ]
    },
    {
      "cell_type": "markdown",
      "metadata": {
        "id": "mw7GJ-0VBXgg"
      },
      "source": [
        "5.scrivere un programma che elimini dalla lista precedente tutti i numeri compresi tra due estremi inseriti dall’utente. Visualizzare al termine la lista modificata\n"
      ]
    },
    {
      "cell_type": "code",
      "metadata": {
        "id": "ISRubLG1BZSl"
      },
      "source": [
        "est1 = int(input('Inserire il primo estremo : '))\n",
        "est2 = int(input('Inserire il secondo estremo : '))\n",
        "print(potenze1)\n",
        "for i in potenze1:\n",
        "  if est1<i<est2:\n",
        "    potenze.remove(potenze[i])\n",
        "print(potenze1)"
      ],
      "execution_count": null,
      "outputs": []
    },
    {
      "cell_type": "markdown",
      "metadata": {
        "id": "nux94PJ_FE-Z"
      },
      "source": [
        "6.scrivere una funzione chiamata prodotto che data una lista di numeri interi restituisca il prodotto di tutti i suoi elementi. Ad esempio se la lista fosse [2, 5, 3] la funzione restituirebbe 30\n"
      ]
    },
    {
      "cell_type": "code",
      "metadata": {
        "colab": {
          "base_uri": "https://localhost:8080/"
        },
        "id": "BwwwVETCFQbH",
        "outputId": "445d7f8c-bd38-4e6e-bbfd-1ba37a8a53e0"
      },
      "source": [
        "lista = [int(s)for s in input('Inserisci numeri : ').split()]\n",
        "def prodotto(x):\n",
        "  a = 1\n",
        "  for i in x:\n",
        "    a = a * i\n",
        "  return a\n",
        "prodotto(lista)"
      ],
      "execution_count": null,
      "outputs": [
        {
          "name": "stdout",
          "output_type": "stream",
          "text": [
            "Inserisci numeri : 2 3 4\n"
          ]
        },
        {
          "output_type": "execute_result",
          "data": {
            "text/plain": [
              "24"
            ]
          },
          "metadata": {},
          "execution_count": 2
        }
      ]
    },
    {
      "cell_type": "code",
      "metadata": {
        "colab": {
          "base_uri": "https://localhost:8080/"
        },
        "id": "7BExpr1UNroO",
        "outputId": "2c33fb2d-8f67-418b-f819-6f04e74eb579"
      },
      "source": [
        "lista = [int(s)for s in input('Inserisci numeri : ').split()]\n",
        "for i in lista:\n",
        "  print(i)\n",
        "inp = input('ins lett : ')\n",
        "for y in inp:\n",
        "  print(y)"
      ],
      "execution_count": null,
      "outputs": [
        {
          "output_type": "stream",
          "name": "stdout",
          "text": [
            "Inserisci numeri : 1 2 3\n",
            "1\n",
            "2\n",
            "3\n",
            "ins lett : lollo\n",
            "l\n",
            "o\n",
            "l\n",
            "l\n",
            "o\n"
          ]
        }
      ]
    },
    {
      "cell_type": "markdown",
      "metadata": {
        "id": "VoWkWpExHTxH"
      },
      "source": [
        "7.scrivere un programma che permetta di caricare in una struttura dati opportuna i nomi delle nazioni che compongono l’Unione Europea, le loro capitali e la popolazione (inserire solo tre nazioni). "
      ]
    },
    {
      "cell_type": "code",
      "metadata": {
        "id": "dRnjbqX1I6mh"
      },
      "source": [
        "UnioneEuropea = [{'nome':'Italia','capitale':'Roma','popolazione':'60'},\n",
        "                 {'nome':'Francia','capitale':'Parigi','popolazione':'58'},\n",
        "                 {'nome':'Germania','capitale':'Berlino','popolazione':'80'}]\n",
        "nazione = input('Inserire : ')"
      ],
      "execution_count": null,
      "outputs": []
    },
    {
      "cell_type": "markdown",
      "metadata": {
        "id": "RXseD0yNKVdD"
      },
      "source": [
        "8.scrivere un programma che, utilizzando una lambda function e la funzione map, elevi alla terza tutti gli elementi della lista. La lista deve essere caricata dall’utente.\n"
      ]
    },
    {
      "cell_type": "code",
      "metadata": {
        "colab": {
          "base_uri": "https://localhost:8080/"
        },
        "id": "oBYK_1A0Ka15",
        "outputId": "06d705d6-9044-4b79-fd4e-275b07524629"
      },
      "source": [
        "lista = [int(s)for s in input('Inserisci numeri : ').split()]\n",
        "allaTerza = list(map(lambda x: x**3,lista))\n",
        "print(allaTerza)\n"
      ],
      "execution_count": null,
      "outputs": [
        {
          "output_type": "stream",
          "name": "stdout",
          "text": [
            "Inserisci numeri : 2 3\n",
            "[8, 27]\n"
          ]
        }
      ]
    },
    {
      "cell_type": "markdown",
      "metadata": {
        "id": "JgVnAeJfLhRp"
      },
      "source": [
        "9.scrivere una funzione che calcoli in modo ricorsivo il prodotto tra due numeri."
      ]
    },
    {
      "cell_type": "code",
      "metadata": {
        "colab": {
          "base_uri": "https://localhost:8080/"
        },
        "id": "pN5ZpGdrLkpQ",
        "outputId": "183bae2a-fe3b-4139-845f-61e396823309"
      },
      "source": [
        "def prodotto1(x,y):\n",
        "  if x==1:\n",
        "    return y\n",
        "  else:\n",
        "    return y +prodotto1(x-1,y)\n",
        "print(prodotto1(5,7))"
      ],
      "execution_count": null,
      "outputs": [
        {
          "output_type": "stream",
          "name": "stdout",
          "text": [
            "35\n"
          ]
        }
      ]
    }
  ]
}
