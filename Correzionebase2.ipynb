{
  "nbformat": 4,
  "nbformat_minor": 0,
  "metadata": {
    "colab": {
      "name": "Correzionebase2.ipynb",
      "provenance": [],
      "collapsed_sections": []
    },
    "kernelspec": {
      "name": "python3",
      "display_name": "Python 3"
    },
    "language_info": {
      "name": "python"
    }
  },
  "cells": [
    {
      "cell_type": "markdown",
      "metadata": {
        "id": "MsDPG9oArWSZ"
      },
      "source": [
        "1.scrivere un programma che calcoli il volume di un parallelepipedo data la base, l’altezza e la profondità. I valori inseriti possono essere decimali e il risultato deve essere fornito con due cifre decimali. I valori della base, dell’altezza e della profondità devono essere inseriti dall’utente\n"
      ]
    },
    {
      "cell_type": "code",
      "metadata": {
        "colab": {
          "base_uri": "https://localhost:8080/"
        },
        "id": "c10ppbcfSfDY",
        "outputId": "201b4a6b-667e-4469-9ffa-6dc792b63ca3"
      },
      "source": [
        "base = float(input('Inserire la base'))\n",
        "altezza = float(input(\"Inserire l'altezza\"))\n",
        "profondita = float(input('Inserire la profondita'))\n",
        "volume = base * altezza * profondita\n",
        "print(round(volume,2))"
      ],
      "execution_count": null,
      "outputs": [
        {
          "output_type": "stream",
          "name": "stdout",
          "text": [
            "Inserire la base10.8\n",
            "Inserire l'altezza9.7\n",
            "Inserire la profondita8.6\n",
            "900.94\n"
          ]
        }
      ]
    },
    {
      "cell_type": "markdown",
      "metadata": {
        "id": "vgu4NgCarYPC"
      },
      "source": [
        "2.modificare il programma precedente in modo che prima di effettuare il calcolo controlli che i valori inseriti dall’utente siano positivi. Visualizzare gli opportuni messaggi di errore a seconda del verificarsi delle diverse condizioni\n"
      ]
    },
    {
      "cell_type": "code",
      "metadata": {
        "colab": {
          "base_uri": "https://localhost:8080/"
        },
        "id": "JFh0PQWXTc20",
        "outputId": "e8e666c6-f06d-4b28-a53a-0007736f028c"
      },
      "source": [
        "base = float(input('Inserire la base'))\n",
        "if base < 0:\n",
        "  print('la base non puo essere negativo')\n",
        "else:\n",
        "  altezza = float(input(\"Inserire l'altezza\"))\n",
        "  if altezza < 0:\n",
        "    print(\"l'altezza  non puo essere negativo\")\n",
        "  else:\n",
        "    profondita = float(input('Inserire la profondita'))\n",
        "    if profondita < 0:\n",
        "      print('la profondita non puo essere negativa')\n",
        "    else:\n",
        "        volume = base * altezza * profondita\n",
        "        print(round(volume,2))"
      ],
      "execution_count": null,
      "outputs": [
        {
          "output_type": "stream",
          "name": "stdout",
          "text": [
            "Inserire la base5\n",
            "Inserire l'altezza-10\n",
            "l'altezza  non puo essere negativo\n"
          ]
        }
      ]
    },
    {
      "cell_type": "markdown",
      "metadata": {
        "id": "U6SdA73fra-g"
      },
      "source": [
        "3.scrivere un programma che permetta di visualizzare tutti i quadrati perfetti minori di un numero intero inserito dall’utente. I quadrati perfetti sono numeri interi che possono essere espressi come il quadrato di un numero intero. Ad esempio 9 è un quadrato perfetto perché è il quadrato del numero intero 3 mentre 8 non è un quadrato perfetto perché non è il quadrato di nessun numero intero)\n"
      ]
    },
    {
      "cell_type": "code",
      "metadata": {
        "colab": {
          "base_uri": "https://localhost:8080/"
        },
        "id": "hgbOvhpKWJyy",
        "outputId": "eb3266b9-798b-4494-cef9-e3c2f4829357"
      },
      "source": [
        "num = int(input('inserire numero'))\n",
        "quadratiPerfetti = []\n",
        "i = 1\n",
        "while i**2 < num:\n",
        "  print(i**2)\n",
        "  i += 1"
      ],
      "execution_count": null,
      "outputs": [
        {
          "output_type": "stream",
          "name": "stdout",
          "text": [
            "inserire numero30\n",
            "1\n",
            "4\n",
            "9\n",
            "16\n",
            "25\n"
          ]
        }
      ]
    },
    {
      "cell_type": "markdown",
      "metadata": {
        "id": "Toy3PRcdrdcz"
      },
      "source": [
        "4.scrivere un programma che inserisca in una lista tutti i numeri interi compresi tra due estremi forniti dall’utente. Al termine, visualizzare la lista dei numeri e la lista al contrario\n"
      ]
    },
    {
      "cell_type": "code",
      "metadata": {
        "colab": {
          "base_uri": "https://localhost:8080/"
        },
        "id": "x1hYoMDiYe1J",
        "outputId": "5ffb5772-3222-41ad-9abd-8a40a80b66d8"
      },
      "source": [
        "val1 = int(input('inserire estremo inferiore: '))\n",
        "val2 = int(input('inserire estremo superiore: '))\n",
        "lista = [elemento for elemento in range(val1,val2+1)]\n",
        "print(lista)\n",
        "print(sorted(lista,reverse = True))"
      ],
      "execution_count": null,
      "outputs": [
        {
          "output_type": "stream",
          "name": "stdout",
          "text": [
            "inserire estremo inferiore: 10\n",
            "inserire estremo superiore: 20\n",
            "[10, 11, 12, 13, 14, 15, 16, 17, 18, 19, 20]\n",
            "[20, 19, 18, 17, 16, 15, 14, 13, 12, 11, 10]\n"
          ]
        }
      ]
    },
    {
      "cell_type": "markdown",
      "metadata": {
        "id": "XbXNn6SQrhXp"
      },
      "source": [
        "5.scrivere un programma che carichi in una lista chiamata “tutti” i numeri pari compresi tra -30 e +30. Usando poi lo slicing, caricare in una lista chiamata “negativi” gli elementi della lista “tutti” minori di 0 e in una chiamata “positivi” gli elementi della lista “tutti” maggiori di zero. Al termine visualizzare le tre liste..\n"
      ]
    },
    {
      "cell_type": "code",
      "metadata": {
        "colab": {
          "base_uri": "https://localhost:8080/"
        },
        "id": "w0iyrXPdZ12F",
        "outputId": "1c5f286e-9cbd-422a-e9be-fb10cbba9e71"
      },
      "source": [
        "tutti = [elemento for elemento in range(-30,30) if elemento%2==0]\n",
        "negativi = tutti[:15]\n",
        "positivi = tutti[15:]\n",
        "print(tutti)\n",
        "print(positivi)\n",
        "print(negativi)"
      ],
      "execution_count": null,
      "outputs": [
        {
          "output_type": "stream",
          "name": "stdout",
          "text": [
            "[-30, -28, -26, -24, -22, -20, -18, -16, -14, -12, -10, -8, -6, -4, -2, 0, 2, 4, 6, 8, 10, 12, 14, 16, 18, 20, 22, 24, 26, 28]\n",
            "[0, 2, 4, 6, 8, 10, 12, 14, 16, 18, 20, 22, 24, 26, 28]\n",
            "[-30, -28, -26, -24, -22, -20, -18, -16, -14, -12, -10, -8, -6, -4, -2]\n"
          ]
        }
      ]
    },
    {
      "cell_type": "markdown",
      "metadata": {
        "id": "yMybaXnGrk1H"
      },
      "source": [
        "6.scrivere una funzione chiamata volumeSfera che dato il raggio in metri di una sfera calcoli il suo volume. Utilizzare poi quella funzione per scrivere un’altra funzione chiamata pesoSfera che permetta di calcolare il peso di una sfera dato il suo raggio in metri e la sua densità, espressa in grammi al centimetro cubo. Infine, scrivere un programma che calcoli il peso di una sfera di piombo del raggio di un metro (la densità del piombo è di 11.34 g/cm3)\n"
      ]
    },
    {
      "cell_type": "code",
      "metadata": {
        "colab": {
          "base_uri": "https://localhost:8080/"
        },
        "id": "hkK4ZvLzbzyT",
        "outputId": "6a7b7d6f-e2cf-467f-8aa7-1939c90da250"
      },
      "source": [
        "import math\n",
        "def volumeSfera(x):\n",
        "  return 4/3 * math.pi * x**3\n",
        "\n",
        "def pesoSfera(r,d):\n",
        "  return volumeSfera(r) * d\n",
        "\n",
        "print(pesoSfera(1,11.34*1000),' kg')\n"
      ],
      "execution_count": null,
      "outputs": [
        {
          "output_type": "stream",
          "name": "stdout",
          "text": [
            "47500.88092227767  kg\n"
          ]
        }
      ]
    },
    {
      "cell_type": "markdown",
      "metadata": {
        "id": "OAmUHtFBrssV"
      },
      "source": [
        "7.data una lista di 100 numeri pari casuali caricata tramite una list comprehension, sostituire ogni elemento con il suo quadrato \n"
      ]
    },
    {
      "cell_type": "code",
      "metadata": {
        "id": "uFAjn8s_rtw-",
        "colab": {
          "base_uri": "https://localhost:8080/"
        },
        "outputId": "0cd66a39-998b-4f0a-d0aa-00bb45817a4e"
      },
      "source": [
        "import random\n",
        "res1 = [random.randrange(2, 101, 2) for i in range(0,100) if i%2==0]\n",
        "list(map(lambda x:x**2,res1))\n"
      ],
      "execution_count": null,
      "outputs": [
        {
          "output_type": "execute_result",
          "data": {
            "text/plain": [
              "[900,\n",
              " 8100,\n",
              " 1600,\n",
              " 1156,\n",
              " 256,\n",
              " 7056,\n",
              " 576,\n",
              " 1936,\n",
              " 9216,\n",
              " 4,\n",
              " 8100,\n",
              " 1600,\n",
              " 2116,\n",
              " 900,\n",
              " 5776,\n",
              " 3136,\n",
              " 3844,\n",
              " 7744,\n",
              " 6724,\n",
              " 2704,\n",
              " 2304,\n",
              " 7744,\n",
              " 784,\n",
              " 2116,\n",
              " 400,\n",
              " 9216,\n",
              " 4356,\n",
              " 8464,\n",
              " 5776,\n",
              " 484,\n",
              " 4900,\n",
              " 100,\n",
              " 1024,\n",
              " 7056,\n",
              " 144,\n",
              " 3364,\n",
              " 6084,\n",
              " 7396,\n",
              " 3136,\n",
              " 1764,\n",
              " 7056,\n",
              " 4356,\n",
              " 1296,\n",
              " 1024,\n",
              " 784,\n",
              " 256,\n",
              " 576,\n",
              " 9604,\n",
              " 4096,\n",
              " 676]"
            ]
          },
          "metadata": {},
          "execution_count": 29
        }
      ]
    },
    {
      "cell_type": "markdown",
      "metadata": {
        "id": "5gWkdkBnrwt8"
      },
      "source": [
        "8.data una lista di 100 numeri pari casuali caricata tramite una list comprehension, eliminare tutti gli elementi della lista che sono multipli di 6\n"
      ]
    },
    {
      "cell_type": "code",
      "metadata": {
        "id": "1r37v3g4r0AU",
        "colab": {
          "base_uri": "https://localhost:8080/"
        },
        "outputId": "4de3ad82-623d-4c43-ed57-875e402cd7ef"
      },
      "source": [
        "import random\n",
        "res2 = [random.randrange(2, 101, 2) for i in range(0,100) if i%2==0]\n",
        "for i in res2:\n",
        "  if i%6==0:\n",
        "    res2.remove(i)\n",
        "print(res2)\n"
      ],
      "execution_count": null,
      "outputs": [
        {
          "output_type": "stream",
          "name": "stdout",
          "text": [
            "[8, 88, 82, 58, 16, 20, 8, 64, 38, 28, 42, 22, 74, 100, 28, 86, 74, 52, 14, 30, 56, 64, 64, 72, 8, 44, 86, 54, 46, 38, 38, 60, 86, 16, 34]\n"
          ]
        }
      ]
    },
    {
      "cell_type": "markdown",
      "metadata": {
        "id": "vwUJ1-MHr0bF"
      },
      "source": [
        "9.progettare una struttura dati che permetta di memorizzare l’orario di partenza e di arrivo dei treni della tratta Milano Roma dell’alta velocità. Ad esempio il treno 9645 parte alle 16.00 e arriva alle 19.10, il treno 9647 parte alle 16.30 e arriva alle 19.40 a Roma. Memorizzare nella struttura dati progettata queste informazioni e scrivere il codice necessario per cercare un treno ed avere l’ora di partenza e l’ora di arrivo. Se non c’è il treno che l’utente inserisce, dare un opportuno messaggio di errore.\n",
        "\n"
      ]
    },
    {
      "cell_type": "code",
      "metadata": {
        "id": "sx0pG1Jyr29u",
        "colab": {
          "base_uri": "https://localhost:8080/"
        },
        "outputId": "80fc01a3-aba7-4178-e9f7-5854c12a930b"
      },
      "source": [
        "MilanoRoma = [\n",
        "         {'treno':'9645','ore':['16.00','19.10']},\n",
        "         {'treno':'9647','ore':['16.30','19.40']}\n",
        "]\n",
        "train = input()\n",
        "for dictionary in MilanoRoma:\n",
        "  if dictionary['treno']==train:\n",
        "    print(dictionary['ore'])\n",
        "  elif  dictionary['treno']!=train:\n",
        "    print('non ci sono treni')"
      ],
      "execution_count": null,
      "outputs": [
        {
          "output_type": "stream",
          "name": "stdout",
          "text": [
            "6748\n",
            "non ci sono treni\n",
            "non ci sono treni\n"
          ]
        }
      ]
    },
    {
      "cell_type": "markdown",
      "metadata": {
        "id": "23z78Hidr3Iq"
      },
      "source": [
        "10.scrivere un programma che calcoli le radici (dette anche zeri) di una equazione di secondo grado. L’utente inserisce i valori dei coefficienti  a. b e c e il programma calcola gli zeri.\n"
      ]
    },
    {
      "cell_type": "code",
      "metadata": {
        "colab": {
          "base_uri": "https://localhost:8080/"
        },
        "id": "cdfDckFOr6bM",
        "outputId": "e98e763b-2fd8-4aaf-9923-59c58f3d6bf8"
      },
      "source": [
        "import math\n",
        "\n",
        "a = int(input(\"Enter the coefficients of a: \"))\n",
        "b = int(input(\"Enter the coefficients of b: \"))\n",
        "c = int(input(\"Enter the coefficients of c: \"))\n",
        "\n",
        "d = b**2-4*a*c # discriminant\n",
        "\n",
        "if d < 0:\n",
        "    print (\"This equation has no real solution\")\n",
        "elif d == 0:\n",
        "    x = (-b+math.sqrt(b**2-4*a*c))/2*a\n",
        "    print (\"This equation has one solutions: \"), x\n",
        "else:\n",
        "    x1 = (-b+math.sqrt((b**2)-(4*(a*c))))/(2*a)\n",
        "    x2 = (-b-math.sqrt((b**2)-(4*(a*c))))/(2*a)\n",
        "    print (\"This equation has two solutions: \", x1, \" or\", x2)"
      ],
      "execution_count": null,
      "outputs": [
        {
          "output_type": "stream",
          "name": "stdout",
          "text": [
            "Enter the coefficients of a: 3\n",
            "Enter the coefficients of b: 2\n",
            "Enter the coefficients of c: 3\n",
            "This equation has no real solution\n"
          ]
        }
      ]
    },
    {
      "cell_type": "markdown",
      "metadata": {
        "id": "bQkhRmTFst-A"
      },
      "source": [
        "11.modificare il programma precedente in modo che prima di effettuare il calcolo controlli che i valori inseriti dall’utente siano accettabili. Visualizzare gli opportuni messaggi di errore a seconda del verificarsi delle diverse condizioni"
      ]
    },
    {
      "cell_type": "code",
      "metadata": {
        "id": "ZXlQDuSx86gx"
      },
      "source": [
        "import math\n",
        "\n",
        "a = int(input(\"Enter the coefficients of a: \"))\n",
        "if a < 0:\n",
        "  print('la a non puo essere negativa')\n",
        "else:\n",
        "  b = int(input(\"Enter the coefficients of b: \"))\n",
        "  c = int(input(\"Enter the coefficients of c: \"))\n",
        "\n",
        "d = b**2-4*a*c # discriminant\n",
        "\n",
        "if d < 0:\n",
        "    print (\"This equation has no real solution\")\n",
        "elif d == 0:\n",
        "    x = (-b+math.sqrt(b**2-4*a*c))/2*a\n",
        "    print (\"This equation has one solutions: \"), x\n",
        "else:\n",
        "    x1 = (-b+math.sqrt((b**2)-(4*(a*c))))/(2*a)\n",
        "    x2 = (-b-math.sqrt((b**2)-(4*(a*c))))/(2*a)\n",
        "    print (\"This equation has two solutions: \", x1, \" or\", x2)"
      ],
      "execution_count": null,
      "outputs": []
    },
    {
      "cell_type": "markdown",
      "metadata": {
        "id": "p_nVB6hi86Rd"
      },
      "source": [
        "12.scrivere un programma che permetta di visualizzare tutti i multipli di 10 minori di un numero inserito dall’utente"
      ]
    },
    {
      "cell_type": "code",
      "metadata": {
        "colab": {
          "base_uri": "https://localhost:8080/"
        },
        "id": "UNVtNWV28-75",
        "outputId": "6f324252-e12a-40e7-8c93-0e74ef9e2def"
      },
      "source": [
        "num = int(input('inserisci numero : '))\n",
        "lista = []\n",
        "for i in range(0,num):\n",
        "  lista.append(i*10)\n",
        "print(lista)"
      ],
      "execution_count": null,
      "outputs": [
        {
          "output_type": "stream",
          "name": "stdout",
          "text": [
            "inserisci numero : 50\n",
            "[0, 10, 20, 30, 40, 50, 60, 70, 80, 90, 100, 110, 120, 130, 140, 150, 160, 170, 180, 190, 200, 210, 220, 230, 240, 250, 260, 270, 280, 290, 300, 310, 320, 330, 340, 350, 360, 370, 380, 390, 400, 410, 420, 430, 440, 450, 460, 470, 480, 490]\n"
          ]
        }
      ]
    },
    {
      "cell_type": "markdown",
      "metadata": {
        "id": "fnmqQ-MB-vgj"
      },
      "source": [
        "13.scrivere un programma che inserisca in una lista tutti i numeri interi pari minori di un numero inserito dall’utente. Al termine, visualizzare la lista dei numeri e la lista al contrario\n"
      ]
    },
    {
      "cell_type": "code",
      "metadata": {
        "colab": {
          "base_uri": "https://localhost:8080/"
        },
        "id": "3Q_iFPVl-2UL",
        "outputId": "d3625cd4-c5d0-4c3a-f80b-f0084b3a8464"
      },
      "source": [
        "lista = [i for i in range(0,100) if i%2==0]\n",
        "\n",
        "print(sorted(lista,reverse=True))"
      ],
      "execution_count": null,
      "outputs": [
        {
          "output_type": "stream",
          "name": "stdout",
          "text": [
            "[98, 96, 94, 92, 90, 88, 86, 84, 82, 80, 78, 76, 74, 72, 70, 68, 66, 64, 62, 60, 58, 56, 54, 52, 50, 48, 46, 44, 42, 40, 38, 36, 34, 32, 30, 28, 26, 24, 22, 20, 18, 16, 14, 12, 10, 8, 6, 4, 2, 0]\n"
          ]
        }
      ]
    },
    {
      "cell_type": "markdown",
      "metadata": {
        "id": "hSAghI1Q_UAn"
      },
      "source": [
        "14.scrivere un programma che carichi in una lista chiamata “tutti” i numeri dispari compresi tra 0 e 90. Usando poi lo slicing, caricare in una lista chiamata “bassi” gli elementi della prima metà della lista “tutti” e in una lista chiamata “alti” gli elementi della seconda metà della  lista. Al termine visualizzare le tre liste..\n"
      ]
    },
    {
      "cell_type": "code",
      "metadata": {
        "id": "7WzpErRn_W8D",
        "colab": {
          "base_uri": "https://localhost:8080/"
        },
        "outputId": "48086ded-95e3-439f-ff15-203df3a055fe"
      },
      "source": [
        "tutti = [i for i in range(0,100) if i%2==1]\n",
        "bassi = tutti [:25]\n",
        "alti = tutti [25:50]\n",
        "print(tutti)\n",
        "print(bassi)\n",
        "print(alti)\n"
      ],
      "execution_count": null,
      "outputs": [
        {
          "output_type": "stream",
          "name": "stdout",
          "text": [
            "[1, 3, 5, 7, 9, 11, 13, 15, 17, 19, 21, 23, 25, 27, 29, 31, 33, 35, 37, 39, 41, 43, 45, 47, 49, 51, 53, 55, 57, 59, 61, 63, 65, 67, 69, 71, 73, 75, 77, 79, 81, 83, 85, 87, 89, 91, 93, 95, 97, 99]\n",
            "[1, 3, 5, 7, 9, 11, 13, 15, 17, 19, 21, 23, 25, 27, 29, 31, 33, 35, 37, 39, 41, 43, 45, 47, 49]\n",
            "[51, 53, 55, 57, 59, 61, 63, 65, 67, 69, 71, 73, 75, 77, 79, 81, 83, 85, 87, 89, 91, 93, 95, 97, 99]\n"
          ]
        }
      ]
    },
    {
      "cell_type": "markdown",
      "metadata": {
        "id": "19q6hjx9r2Ae"
      },
      "source": [
        "15.scrivere una funzione chiamata volumeCubo che dato il lato in metri di un cubo calcoli il suo volume. Utilizzare poi quella funzione per scrivere un’altra funzione chiamata pesoCubo che permetta di calcolare il peso in kg di un cubo dato il suo lato in metri e la sua densità, espressa in grammi al centimetro cubo. Infine, scrivere un programma che calcoli il peso di un cubo di alluminio avente il lato di un metro (la densità dell’alluminio è di 2.7 g/cm3)\n"
      ]
    },
    {
      "cell_type": "code",
      "metadata": {
        "id": "Zup4N20bsEor"
      },
      "source": [
        ""
      ],
      "execution_count": null,
      "outputs": []
    },
    {
      "cell_type": "markdown",
      "metadata": {
        "id": "_4WbC0hIsFk4"
      },
      "source": [
        "16.data una lista di 100 numeri pari casuali caricata tramite una list comprehension, sostituire con uno zero tutti gli elementi della lista che sono multipli di 6\n"
      ]
    },
    {
      "cell_type": "code",
      "metadata": {
        "colab": {
          "base_uri": "https://localhost:8080/"
        },
        "id": "7PKzV62GsKvV",
        "outputId": "1856f26c-08fd-49a0-9115-3c268167cde7"
      },
      "source": [
        "lista = [i for i in range(0,100) if i%2==0]\n",
        "for n,i in enumerate(lista):\n",
        "  if i%6==0:\n",
        "    lista[n] = 0\n",
        "print(lista)"
      ],
      "execution_count": null,
      "outputs": [
        {
          "output_type": "stream",
          "name": "stdout",
          "text": [
            "[0, 2, 4, 0, 8, 10, 0, 14, 16, 0, 20, 22, 0, 26, 28, 0, 32, 34, 0, 38, 40, 0, 44, 46, 0, 50, 52, 0, 56, 58, 0, 62, 64, 0, 68, 70, 0, 74, 76, 0, 80, 82, 0, 86, 88, 0, 92, 94, 0, 98]\n"
          ]
        }
      ]
    },
    {
      "cell_type": "markdown",
      "metadata": {
        "id": "rAdlqrBIsY2D"
      },
      "source": [
        "17.data una lista di 100 numeri pari casuali caricata tramite una list comprehension, eliminare tutti gli elementi della lista minori di un valore intero inserito dall’utente"
      ]
    },
    {
      "cell_type": "code",
      "metadata": {
        "id": "xjuBP-Rbsn7P"
      },
      "source": [
        "num = int(input())\n",
        "lista1 = [i for i in range(0,102) if i%2==0]\n",
        "for n,i in enumerate(lista1):\n",
        "  if i < num:\n",
        "    lista1.remove(lista1[i]) \n",
        "print(lista1)"
      ],
      "execution_count": null,
      "outputs": []
    },
    {
      "cell_type": "markdown",
      "metadata": {
        "id": "vAbn1FKossaS"
      },
      "source": [
        "18.progettare una struttura dati che permetta di memorizzare l’orario di partenza e di arrivo dei treni della tratta Milano Roma dell’alta velocità. Ad esempio il treno 9645 parte alle 16.00 e arriva alle 19.10, il treno 9647 parte alle 16.30 e arriva alle 19.40 a Roma. Memorizzare nella struttura dati progettata queste informazioni e scrivere il codice necessario per cercare un treno ed avere l’ora di partenza e l’ora di arrivo. Se non c’è il treno che l’utente inserisce, dare un opportuno messaggio di errore.\n"
      ]
    },
    {
      "cell_type": "code",
      "metadata": {
        "id": "rEiUlAQ9s3RI"
      },
      "source": [
        "MilanoRoma = [\n",
        "         {'treno':'9645','ore':['16.00','19.10']},\n",
        "         {'treno':'9647','ore':['16.30','19.40']}\n",
        "]\n",
        "train = input()\n",
        "for dictionary in MilanoRoma:\n",
        "  if dictionary['treno']==train:\n",
        "    print(dictionary['ore'])\n",
        "  elif  dictionary['treno']!=train:\n",
        "    print('non ci sono treni')"
      ],
      "execution_count": null,
      "outputs": []
    }
  ]
}